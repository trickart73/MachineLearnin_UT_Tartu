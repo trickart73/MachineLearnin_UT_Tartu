{
 "cells": [
  {
   "cell_type": "markdown",
   "metadata": {},
   "source": [
    "# Machine Learning project\n",
    "## Predicting satisfaction with health of Estonian school workers\n",
    "#### Kerli Mooses, Maarja Pajusalu,  Liisi Panov, Victor Rebecq"
   ]
  },
  {
   "cell_type": "markdown",
   "metadata": {},
   "source": [
    "### Table of contents\n",
    "- Preparation\n",
    "- Descriptive statistics and data manipulation\n",
    "- Predicting 'satisfaction with health' with different classification algorithms\n",
    "    - Decision Tree Classifier\n",
    "    - KNN classifier\n",
    "    - Logistic Regression\n",
    "    - Random Forest\n",
    "    - Ensemble classification\n",
    "- Try other predictions with our dataset\n",
    "- Other models for predicting health satisfaction\n",
    "    - Data\n",
    "    - Clustering and prediction\n",
    "    - K-Neighbours with different variables\n",
    "    - DecisionTrees\n",
    "    - Resample\n",
    "    - Ensemble (wrong approach)\n",
    "    - Ensemble (KNN, DT, LogReg)\n",
    "\n",
    "    - Logistic Regression\n",
    "    - KNN (other approach)\n",
    "    - Random Forest (other approach)\n",
    "    - Oversampling\n",
    "    - KNN (other approach)\n",
    "    - Random forest (other approach)\n",
    "    - Log reg\n",
    "\n"
   ]
  },
  {
   "cell_type": "markdown",
   "metadata": {},
   "source": [
    "### Preparation"
   ]
  },
  {
   "cell_type": "code",
   "execution_count": 2,
   "metadata": {},
   "outputs": [],
   "source": [
    "import numpy as np\n",
    "\n",
    "import pandas as pd\n",
    "import matplotlib.pyplot as plt\n",
    "import scipy.stats\n",
    "import sklearn\n",
    "import seaborn\n",
    "from sklearn.tree import DecisionTreeClassifier\n",
    "from sklearn.cluster import KMeans\n",
    "from sklearn.model_selection import train_test_split, StratifiedKFold\n",
    "from sklearn.linear_model import LogisticRegression \n",
    "from sklearn.ensemble import RandomForestClassifier, VotingClassifier\n",
    "from sklearn.neighbors import KNeighborsClassifier\n",
    "from sklearn.metrics import mean_squared_error, confusion_matrix, accuracy_score, classification_report, recall_score, precision_score\n",
    "from sklearn.utils import resample\n",
    "from seaborn import boxplot, distplot"
   ]
  },
  {
   "cell_type": "code",
   "execution_count": 2,
   "metadata": {},
   "outputs": [],
   "source": [
    "data = pd.read_excel('ML_database_TeachersAndAdmin.xlsx', sheet_name='ML_database')"
   ]
  },
  {
   "cell_type": "code",
   "execution_count": 3,
   "metadata": {},
   "outputs": [
    {
     "data": {
      "text/html": [
       "<div>\n",
       "<style scoped>\n",
       "    .dataframe tbody tr th:only-of-type {\n",
       "        vertical-align: middle;\n",
       "    }\n",
       "\n",
       "    .dataframe tbody tr th {\n",
       "        vertical-align: top;\n",
       "    }\n",
       "\n",
       "    .dataframe thead th {\n",
       "        text-align: right;\n",
       "    }\n",
       "</style>\n",
       "<table border=\"1\" class=\"dataframe\">\n",
       "  <thead>\n",
       "    <tr style=\"text-align: right;\">\n",
       "      <th></th>\n",
       "      <th>Subject</th>\n",
       "      <th>Sedentary_min</th>\n",
       "      <th>Light_min</th>\n",
       "      <th>MVPA_min</th>\n",
       "      <th>N_of_days_with_30minMVPA</th>\n",
       "      <th>N_of_days_with_60minMVPA</th>\n",
       "      <th>N_measurement_days</th>\n",
       "      <th>Profession</th>\n",
       "      <th>Age</th>\n",
       "      <th>Gender</th>\n",
       "      <th>HowOftenDoRecreationalSportAtLeast30min</th>\n",
       "      <th>ActiveTransportPerDay_min</th>\n",
       "      <th>SatisfactionWithHealth</th>\n",
       "      <th>Weight_kg</th>\n",
       "      <th>Height_cm</th>\n",
       "      <th>BMI</th>\n",
       "      <th>SatisfactionWithJob</th>\n",
       "      <th>School</th>\n",
       "      <th>County</th>\n",
       "    </tr>\n",
       "  </thead>\n",
       "  <tbody>\n",
       "    <tr>\n",
       "      <th>0</th>\n",
       "      <td>19001</td>\n",
       "      <td>776.84375</td>\n",
       "      <td>258.93750</td>\n",
       "      <td>31.18750</td>\n",
       "      <td>2</td>\n",
       "      <td>1</td>\n",
       "      <td>8</td>\n",
       "      <td>Teacher</td>\n",
       "      <td>44.0</td>\n",
       "      <td>2.0</td>\n",
       "      <td>6.0</td>\n",
       "      <td>20.0</td>\n",
       "      <td>1.0</td>\n",
       "      <td>77.0</td>\n",
       "      <td>175.0</td>\n",
       "      <td>25.1</td>\n",
       "      <td>1.0</td>\n",
       "      <td>School34</td>\n",
       "      <td>TartuCity</td>\n",
       "    </tr>\n",
       "    <tr>\n",
       "      <th>1</th>\n",
       "      <td>19002</td>\n",
       "      <td>695.34375</td>\n",
       "      <td>223.40625</td>\n",
       "      <td>36.50000</td>\n",
       "      <td>4</td>\n",
       "      <td>2</td>\n",
       "      <td>8</td>\n",
       "      <td>Teacher</td>\n",
       "      <td>53.0</td>\n",
       "      <td>2.0</td>\n",
       "      <td>1.0</td>\n",
       "      <td>65.0</td>\n",
       "      <td>2.0</td>\n",
       "      <td>79.0</td>\n",
       "      <td>159.0</td>\n",
       "      <td>31.2</td>\n",
       "      <td>1.0</td>\n",
       "      <td>School34</td>\n",
       "      <td>TartuCity</td>\n",
       "    </tr>\n",
       "    <tr>\n",
       "      <th>2</th>\n",
       "      <td>19004</td>\n",
       "      <td>623.09375</td>\n",
       "      <td>166.09375</td>\n",
       "      <td>128.40625</td>\n",
       "      <td>8</td>\n",
       "      <td>7</td>\n",
       "      <td>8</td>\n",
       "      <td>Administration</td>\n",
       "      <td>56.0</td>\n",
       "      <td>2.0</td>\n",
       "      <td>1.0</td>\n",
       "      <td>90.0</td>\n",
       "      <td>1.0</td>\n",
       "      <td>62.0</td>\n",
       "      <td>165.0</td>\n",
       "      <td>22.8</td>\n",
       "      <td>1.0</td>\n",
       "      <td>School34</td>\n",
       "      <td>TartuCity</td>\n",
       "    </tr>\n",
       "    <tr>\n",
       "      <th>3</th>\n",
       "      <td>19005</td>\n",
       "      <td>405.00000</td>\n",
       "      <td>178.00000</td>\n",
       "      <td>24.75000</td>\n",
       "      <td>2</td>\n",
       "      <td>0</td>\n",
       "      <td>3</td>\n",
       "      <td>Teacher</td>\n",
       "      <td>28.0</td>\n",
       "      <td>2.0</td>\n",
       "      <td>3.0</td>\n",
       "      <td>60.0</td>\n",
       "      <td>1.0</td>\n",
       "      <td>75.0</td>\n",
       "      <td>176.0</td>\n",
       "      <td>24.2</td>\n",
       "      <td>1.0</td>\n",
       "      <td>School34</td>\n",
       "      <td>TartuCity</td>\n",
       "    </tr>\n",
       "    <tr>\n",
       "      <th>4</th>\n",
       "      <td>19006</td>\n",
       "      <td>614.56250</td>\n",
       "      <td>238.62500</td>\n",
       "      <td>69.12500</td>\n",
       "      <td>7</td>\n",
       "      <td>5</td>\n",
       "      <td>8</td>\n",
       "      <td>Teacher</td>\n",
       "      <td>30.0</td>\n",
       "      <td>2.0</td>\n",
       "      <td>5.0</td>\n",
       "      <td>60.0</td>\n",
       "      <td>1.0</td>\n",
       "      <td>80.0</td>\n",
       "      <td>177.0</td>\n",
       "      <td>25.5</td>\n",
       "      <td>1.0</td>\n",
       "      <td>School34</td>\n",
       "      <td>TartuCity</td>\n",
       "    </tr>\n",
       "  </tbody>\n",
       "</table>\n",
       "</div>"
      ],
      "text/plain": [
       "   Subject  Sedentary_min  Light_min   MVPA_min  N_of_days_with_30minMVPA  \\\n",
       "0    19001      776.84375  258.93750   31.18750                         2   \n",
       "1    19002      695.34375  223.40625   36.50000                         4   \n",
       "2    19004      623.09375  166.09375  128.40625                         8   \n",
       "3    19005      405.00000  178.00000   24.75000                         2   \n",
       "4    19006      614.56250  238.62500   69.12500                         7   \n",
       "\n",
       "   N_of_days_with_60minMVPA  N_measurement_days      Profession   Age  \\\n",
       "0                         1                   8         Teacher  44.0   \n",
       "1                         2                   8         Teacher  53.0   \n",
       "2                         7                   8  Administration  56.0   \n",
       "3                         0                   3         Teacher  28.0   \n",
       "4                         5                   8         Teacher  30.0   \n",
       "\n",
       "   Gender   HowOftenDoRecreationalSportAtLeast30min  \\\n",
       "0      2.0                                      6.0   \n",
       "1      2.0                                      1.0   \n",
       "2      2.0                                      1.0   \n",
       "3      2.0                                      3.0   \n",
       "4      2.0                                      5.0   \n",
       "\n",
       "   ActiveTransportPerDay_min  SatisfactionWithHealth  Weight_kg  Height_cm  \\\n",
       "0                       20.0                     1.0       77.0      175.0   \n",
       "1                       65.0                     2.0       79.0      159.0   \n",
       "2                       90.0                     1.0       62.0      165.0   \n",
       "3                       60.0                     1.0       75.0      176.0   \n",
       "4                       60.0                     1.0       80.0      177.0   \n",
       "\n",
       "    BMI  SatisfactionWithJob    School     County  \n",
       "0  25.1                  1.0  School34  TartuCity  \n",
       "1  31.2                  1.0  School34  TartuCity  \n",
       "2  22.8                  1.0  School34  TartuCity  \n",
       "3  24.2                  1.0  School34  TartuCity  \n",
       "4  25.5                  1.0  School34  TartuCity  "
      ]
     },
     "execution_count": 3,
     "metadata": {},
     "output_type": "execute_result"
    }
   ],
   "source": [
    "data.head()"
   ]
  },
  {
   "cell_type": "code",
   "execution_count": 4,
   "metadata": {},
   "outputs": [],
   "source": [
    "#Rename most of the columns\n",
    "data = data.rename(columns={\"Subject\": \"ID\", \"N_of_days_with_30minMVPA\": \"N_days30minMVPA\", \"N_of_days_with_60minMVPA\": \"N_days60minMVPA\", \"N_measurement_days\": \"N_days\", \"HowOftenDoRecreationalSportAtLeast30min\": \"Sports30+min\", \"SatisfactionWithHealth\": \"Health_satisf\", \"SatisfactionWithJob\": \"Job_satisf\", \"Gender \": \"Gender\"})"
   ]
  },
  {
   "cell_type": "code",
   "execution_count": 5,
   "metadata": {},
   "outputs": [],
   "source": [
    "#Coding and meaning of variables\n",
    "################################\n",
    "#Gender: 1 = male, 2 =female;\n",
    "#Sports30+min: 1 = every day, 2 = 4-6 times per week, 3 = 2-3 times per week, 4 = once a week, 5 = 2-3 times per month, 6 = few times per year/not at all, 7 = cannot sport due to injury or illness;\n",
    "#Health_satisf: 1 = (very) satisfied, 2 = not (at all) satisfied, 3 = do not know;\n",
    "#Job_satisf ('In general, I'm satisfied with my job'): 1 = (totally) agree, 2 = do not agree, 3 = so-so;\n",
    "#MVPA = moderate to vigorous activity, measured objectively"
   ]
  },
  {
   "cell_type": "markdown",
   "metadata": {},
   "source": [
    "### Descriptive statistics and data manipulation"
   ]
  },
  {
   "cell_type": "code",
   "execution_count": 6,
   "metadata": {
    "scrolled": true
   },
   "outputs": [
    {
     "data": {
      "text/html": [
       "<div>\n",
       "<style scoped>\n",
       "    .dataframe tbody tr th:only-of-type {\n",
       "        vertical-align: middle;\n",
       "    }\n",
       "\n",
       "    .dataframe tbody tr th {\n",
       "        vertical-align: top;\n",
       "    }\n",
       "\n",
       "    .dataframe thead th {\n",
       "        text-align: right;\n",
       "    }\n",
       "</style>\n",
       "<table border=\"1\" class=\"dataframe\">\n",
       "  <thead>\n",
       "    <tr style=\"text-align: right;\">\n",
       "      <th></th>\n",
       "      <th>ID</th>\n",
       "      <th>Sedentary_min</th>\n",
       "      <th>Light_min</th>\n",
       "      <th>MVPA_min</th>\n",
       "      <th>N_days30minMVPA</th>\n",
       "      <th>N_days60minMVPA</th>\n",
       "      <th>N_days</th>\n",
       "      <th>Age</th>\n",
       "      <th>Gender</th>\n",
       "      <th>Sports30+min</th>\n",
       "      <th>ActiveTransportPerDay_min</th>\n",
       "      <th>Health_satisf</th>\n",
       "      <th>Weight_kg</th>\n",
       "      <th>Height_cm</th>\n",
       "      <th>BMI</th>\n",
       "      <th>Job_satisf</th>\n",
       "    </tr>\n",
       "  </thead>\n",
       "  <tbody>\n",
       "    <tr>\n",
       "      <th>count</th>\n",
       "      <td>888.000000</td>\n",
       "      <td>888.000000</td>\n",
       "      <td>888.000000</td>\n",
       "      <td>888.000000</td>\n",
       "      <td>888.000000</td>\n",
       "      <td>888.000000</td>\n",
       "      <td>888.000000</td>\n",
       "      <td>864.000000</td>\n",
       "      <td>872.000000</td>\n",
       "      <td>861.000000</td>\n",
       "      <td>740.000000</td>\n",
       "      <td>865.000000</td>\n",
       "      <td>852.000000</td>\n",
       "      <td>859.000000</td>\n",
       "      <td>852.000000</td>\n",
       "      <td>858.000000</td>\n",
       "    </tr>\n",
       "    <tr>\n",
       "      <th>mean</th>\n",
       "      <td>19716.373874</td>\n",
       "      <td>592.110116</td>\n",
       "      <td>213.743322</td>\n",
       "      <td>49.533358</td>\n",
       "      <td>4.412162</td>\n",
       "      <td>1.952703</td>\n",
       "      <td>6.422297</td>\n",
       "      <td>45.622685</td>\n",
       "      <td>1.878440</td>\n",
       "      <td>3.657375</td>\n",
       "      <td>33.637838</td>\n",
       "      <td>1.196532</td>\n",
       "      <td>73.105669</td>\n",
       "      <td>168.934808</td>\n",
       "      <td>25.574765</td>\n",
       "      <td>1.148019</td>\n",
       "    </tr>\n",
       "    <tr>\n",
       "      <th>std</th>\n",
       "      <td>413.528619</td>\n",
       "      <td>78.842587</td>\n",
       "      <td>49.429848</td>\n",
       "      <td>22.841699</td>\n",
       "      <td>2.038842</td>\n",
       "      <td>1.955541</td>\n",
       "      <td>1.162471</td>\n",
       "      <td>12.521175</td>\n",
       "      <td>0.326964</td>\n",
       "      <td>1.449910</td>\n",
       "      <td>48.997403</td>\n",
       "      <td>0.425721</td>\n",
       "      <td>14.672624</td>\n",
       "      <td>7.452636</td>\n",
       "      <td>4.652660</td>\n",
       "      <td>0.518279</td>\n",
       "    </tr>\n",
       "    <tr>\n",
       "      <th>min</th>\n",
       "      <td>19001.000000</td>\n",
       "      <td>339.083333</td>\n",
       "      <td>93.250000</td>\n",
       "      <td>7.625000</td>\n",
       "      <td>0.000000</td>\n",
       "      <td>0.000000</td>\n",
       "      <td>3.000000</td>\n",
       "      <td>19.000000</td>\n",
       "      <td>1.000000</td>\n",
       "      <td>1.000000</td>\n",
       "      <td>0.000000</td>\n",
       "      <td>1.000000</td>\n",
       "      <td>47.000000</td>\n",
       "      <td>140.000000</td>\n",
       "      <td>17.000000</td>\n",
       "      <td>1.000000</td>\n",
       "    </tr>\n",
       "    <tr>\n",
       "      <th>25%</th>\n",
       "      <td>19353.500000</td>\n",
       "      <td>543.214286</td>\n",
       "      <td>181.602679</td>\n",
       "      <td>33.448214</td>\n",
       "      <td>3.000000</td>\n",
       "      <td>0.000000</td>\n",
       "      <td>6.000000</td>\n",
       "      <td>35.750000</td>\n",
       "      <td>2.000000</td>\n",
       "      <td>3.000000</td>\n",
       "      <td>5.000000</td>\n",
       "      <td>1.000000</td>\n",
       "      <td>63.000000</td>\n",
       "      <td>164.000000</td>\n",
       "      <td>22.400000</td>\n",
       "      <td>1.000000</td>\n",
       "    </tr>\n",
       "    <tr>\n",
       "      <th>50%</th>\n",
       "      <td>19736.000000</td>\n",
       "      <td>591.000000</td>\n",
       "      <td>209.720982</td>\n",
       "      <td>45.328571</td>\n",
       "      <td>5.000000</td>\n",
       "      <td>1.000000</td>\n",
       "      <td>7.000000</td>\n",
       "      <td>46.000000</td>\n",
       "      <td>2.000000</td>\n",
       "      <td>3.000000</td>\n",
       "      <td>30.000000</td>\n",
       "      <td>1.000000</td>\n",
       "      <td>70.000000</td>\n",
       "      <td>168.000000</td>\n",
       "      <td>24.800000</td>\n",
       "      <td>1.000000</td>\n",
       "    </tr>\n",
       "    <tr>\n",
       "      <th>75%</th>\n",
       "      <td>20091.250000</td>\n",
       "      <td>640.866071</td>\n",
       "      <td>245.840774</td>\n",
       "      <td>62.446429</td>\n",
       "      <td>6.000000</td>\n",
       "      <td>3.000000</td>\n",
       "      <td>7.000000</td>\n",
       "      <td>55.250000</td>\n",
       "      <td>2.000000</td>\n",
       "      <td>5.000000</td>\n",
       "      <td>46.500000</td>\n",
       "      <td>1.000000</td>\n",
       "      <td>80.000000</td>\n",
       "      <td>173.000000</td>\n",
       "      <td>27.825000</td>\n",
       "      <td>1.000000</td>\n",
       "    </tr>\n",
       "    <tr>\n",
       "      <th>max</th>\n",
       "      <td>20374.000000</td>\n",
       "      <td>893.750000</td>\n",
       "      <td>415.071429</td>\n",
       "      <td>198.666667</td>\n",
       "      <td>10.000000</td>\n",
       "      <td>8.000000</td>\n",
       "      <td>13.000000</td>\n",
       "      <td>81.000000</td>\n",
       "      <td>2.000000</td>\n",
       "      <td>7.000000</td>\n",
       "      <td>900.000000</td>\n",
       "      <td>3.000000</td>\n",
       "      <td>176.000000</td>\n",
       "      <td>198.000000</td>\n",
       "      <td>65.400000</td>\n",
       "      <td>3.000000</td>\n",
       "    </tr>\n",
       "  </tbody>\n",
       "</table>\n",
       "</div>"
      ],
      "text/plain": [
       "                 ID  Sedentary_min   Light_min    MVPA_min  N_days30minMVPA  \\\n",
       "count    888.000000     888.000000  888.000000  888.000000       888.000000   \n",
       "mean   19716.373874     592.110116  213.743322   49.533358         4.412162   \n",
       "std      413.528619      78.842587   49.429848   22.841699         2.038842   \n",
       "min    19001.000000     339.083333   93.250000    7.625000         0.000000   \n",
       "25%    19353.500000     543.214286  181.602679   33.448214         3.000000   \n",
       "50%    19736.000000     591.000000  209.720982   45.328571         5.000000   \n",
       "75%    20091.250000     640.866071  245.840774   62.446429         6.000000   \n",
       "max    20374.000000     893.750000  415.071429  198.666667        10.000000   \n",
       "\n",
       "       N_days60minMVPA      N_days         Age      Gender  Sports30+min  \\\n",
       "count       888.000000  888.000000  864.000000  872.000000    861.000000   \n",
       "mean          1.952703    6.422297   45.622685    1.878440      3.657375   \n",
       "std           1.955541    1.162471   12.521175    0.326964      1.449910   \n",
       "min           0.000000    3.000000   19.000000    1.000000      1.000000   \n",
       "25%           0.000000    6.000000   35.750000    2.000000      3.000000   \n",
       "50%           1.000000    7.000000   46.000000    2.000000      3.000000   \n",
       "75%           3.000000    7.000000   55.250000    2.000000      5.000000   \n",
       "max           8.000000   13.000000   81.000000    2.000000      7.000000   \n",
       "\n",
       "       ActiveTransportPerDay_min  Health_satisf   Weight_kg   Height_cm  \\\n",
       "count                 740.000000     865.000000  852.000000  859.000000   \n",
       "mean                   33.637838       1.196532   73.105669  168.934808   \n",
       "std                    48.997403       0.425721   14.672624    7.452636   \n",
       "min                     0.000000       1.000000   47.000000  140.000000   \n",
       "25%                     5.000000       1.000000   63.000000  164.000000   \n",
       "50%                    30.000000       1.000000   70.000000  168.000000   \n",
       "75%                    46.500000       1.000000   80.000000  173.000000   \n",
       "max                   900.000000       3.000000  176.000000  198.000000   \n",
       "\n",
       "              BMI  Job_satisf  \n",
       "count  852.000000  858.000000  \n",
       "mean    25.574765    1.148019  \n",
       "std      4.652660    0.518279  \n",
       "min     17.000000    1.000000  \n",
       "25%     22.400000    1.000000  \n",
       "50%     24.800000    1.000000  \n",
       "75%     27.825000    1.000000  \n",
       "max     65.400000    3.000000  "
      ]
     },
     "execution_count": 6,
     "metadata": {},
     "output_type": "execute_result"
    }
   ],
   "source": [
    "data.describe()"
   ]
  },
  {
   "cell_type": "code",
   "execution_count": 7,
   "metadata": {},
   "outputs": [
    {
     "name": "stdout",
     "output_type": "stream",
     "text": [
      "ID                             0\n",
      "Sedentary_min                  0\n",
      "Light_min                      0\n",
      "MVPA_min                       0\n",
      "N_days30minMVPA                0\n",
      "N_days60minMVPA                0\n",
      "N_days                         0\n",
      "Profession                     0\n",
      "Age                           24\n",
      "Gender                        16\n",
      "Sports30+min                  27\n",
      "ActiveTransportPerDay_min    148\n",
      "Health_satisf                 23\n",
      "Weight_kg                     36\n",
      "Height_cm                     29\n",
      "BMI                           36\n",
      "Job_satisf                    30\n",
      "School                         0\n",
      "County                         0\n",
      "dtype: int64\n"
     ]
    }
   ],
   "source": [
    "#How many missing values are in the data\n",
    "print(data.isnull().sum())"
   ]
  },
  {
   "cell_type": "code",
   "execution_count": 8,
   "metadata": {},
   "outputs": [],
   "source": [
    "#Labels of numeric values for next graphs\n",
    "labels1 = {1:'Male', 2:'Female'}\n",
    "labels2 = {1:'(very) satisfied', 2:'not (at all) satisfied', 3:'do not know'}"
   ]
  },
  {
   "cell_type": "code",
   "execution_count": 9,
   "metadata": {
    "scrolled": true
   },
   "outputs": [],
   "source": [
    "#make new, labelled variables for next graphs\n",
    "gender = data.Gender.apply(labels1.get)\n",
    "health_satisf = data.Health_satisf.apply(labels2.get)"
   ]
  },
  {
   "cell_type": "code",
   "execution_count": 10,
   "metadata": {},
   "outputs": [
    {
     "data": {
      "text/plain": [
       "(very) satisfied          705\n",
       "not (at all) satisfied    150\n",
       "do not know                10\n",
       "Name: Health_satisf, dtype: int64"
      ]
     },
     "execution_count": 10,
     "metadata": {},
     "output_type": "execute_result"
    }
   ],
   "source": [
    "#frequency table\n",
    "health_satisf.value_counts()"
   ]
  },
  {
   "cell_type": "code",
   "execution_count": 11,
   "metadata": {},
   "outputs": [
    {
     "data": {
      "image/png": "[encoded data removed]",
      "text/plain": [
       "<Figure size 720x360 with 1 Axes>"
      ]
     },
     "metadata": {
      "needs_background": "light"
     },
     "output_type": "display_data"
    }
   ],
   "source": [
    "#Age, gender and satisfaction with health\n",
    "plt.figure(figsize=(10, 5))\n",
    "boxplot(x=gender, y='Age', hue=health_satisf, data=data)\n",
    "plt.show()"
   ]
  },
  {
   "cell_type": "markdown",
   "metadata": {},
   "source": [
    "Younger people are more satisfied with their health, especially men, but young women are more satisfied with their health than young men. Men who are not satisfied with their health, have a larger variability in age. Age is probably not a good predictor of satisfaction with health, as can be said from the correlation between them."
   ]
  },
  {
   "cell_type": "code",
   "execution_count": 12,
   "metadata": {
    "scrolled": true
   },
   "outputs": [
    {
     "data": {
      "text/html": [
       "<div>\n",
       "<style scoped>\n",
       "    .dataframe tbody tr th:only-of-type {\n",
       "        vertical-align: middle;\n",
       "    }\n",
       "\n",
       "    .dataframe tbody tr th {\n",
       "        vertical-align: top;\n",
       "    }\n",
       "\n",
       "    .dataframe thead th {\n",
       "        text-align: right;\n",
       "    }\n",
       "</style>\n",
       "<table border=\"1\" class=\"dataframe\">\n",
       "  <thead>\n",
       "    <tr style=\"text-align: right;\">\n",
       "      <th></th>\n",
       "      <th>Age</th>\n",
       "      <th>Health_satisf</th>\n",
       "    </tr>\n",
       "  </thead>\n",
       "  <tbody>\n",
       "    <tr>\n",
       "      <th>Age</th>\n",
       "      <td>1.00</td>\n",
       "      <td>0.05</td>\n",
       "    </tr>\n",
       "    <tr>\n",
       "      <th>Health_satisf</th>\n",
       "      <td>0.05</td>\n",
       "      <td>1.00</td>\n",
       "    </tr>\n",
       "  </tbody>\n",
       "</table>\n",
       "</div>"
      ],
      "text/plain": [
       "                Age  Health_satisf\n",
       "Age            1.00           0.05\n",
       "Health_satisf  0.05           1.00"
      ]
     },
     "execution_count": 12,
     "metadata": {},
     "output_type": "execute_result"
    }
   ],
   "source": [
    "#Correlation of age and satisfaction with health\n",
    "round(data[['Age', 'Health_satisf']].corr(), 2)"
   ]
  },
  {
   "cell_type": "code",
   "execution_count": 13,
   "metadata": {},
   "outputs": [
    {
     "data": {
      "text/plain": [
       "Teacher           730\n",
       "Administration    158\n",
       "Name: Profession, dtype: int64"
      ]
     },
     "execution_count": 13,
     "metadata": {},
     "output_type": "execute_result"
    }
   ],
   "source": [
    "#frequency table\n",
    "data['Profession'].value_counts()"
   ]
  },
  {
   "cell_type": "code",
   "execution_count": 14,
   "metadata": {
    "scrolled": true
   },
   "outputs": [
    {
     "data": {
      "image/png": "[encoded data removed]",
      "text/plain": [
       "<Figure size 720x360 with 1 Axes>"
      ]
     },
     "metadata": {
      "needs_background": "light"
     },
     "output_type": "display_data"
    }
   ],
   "source": [
    "#Age, profession and satisfaction with health\n",
    "plt.figure(figsize=(10, 5))\n",
    "boxplot(x='Profession', y='Age', hue=health_satisf, data=data)\n",
    "plt.show()"
   ]
  },
  {
   "cell_type": "markdown",
   "metadata": {},
   "source": [
    "It seems that satisfaction with health is quite similar among different professions."
   ]
  },
  {
   "cell_type": "code",
   "execution_count": 15,
   "metadata": {
    "scrolled": true
   },
   "outputs": [
    {
     "data": {
      "image/png": "[encoded data removed]",
      "text/plain": [
       "<Figure size 432x288 with 1 Axes>"
      ]
     },
     "metadata": {
      "needs_background": "light"
     },
     "output_type": "display_data"
    }
   ],
   "source": [
    "#Relation between moderate to vigorous physical activity time and sedentary time - just a check\n",
    "data.plot.scatter(x='Sedentary_min', y='MVPA_min')\n",
    "plt.show()"
   ]
  },
  {
   "cell_type": "markdown",
   "metadata": {},
   "source": [
    "Moderate to vigorous physical activity time and sedentary time are negatively correlated, as expected."
   ]
  },
  {
   "cell_type": "code",
   "execution_count": 16,
   "metadata": {},
   "outputs": [
    {
     "data": {
      "image/png": "[encoded data removed]",
      "text/plain": [
       "<Figure size 432x288 with 1 Axes>"
      ]
     },
     "metadata": {
      "needs_background": "light"
     },
     "output_type": "display_data"
    }
   ],
   "source": [
    "#BMI distribution\n",
    "data['BMI'].plot.hist(bins=30, legend=True)\n",
    "plt.show()"
   ]
  },
  {
   "cell_type": "code",
   "execution_count": 17,
   "metadata": {},
   "outputs": [
    {
     "data": {
      "text/html": [
       "<div>\n",
       "<style scoped>\n",
       "    .dataframe tbody tr th:only-of-type {\n",
       "        vertical-align: middle;\n",
       "    }\n",
       "\n",
       "    .dataframe tbody tr th {\n",
       "        vertical-align: top;\n",
       "    }\n",
       "\n",
       "    .dataframe thead th {\n",
       "        text-align: right;\n",
       "    }\n",
       "</style>\n",
       "<table border=\"1\" class=\"dataframe\">\n",
       "  <thead>\n",
       "    <tr style=\"text-align: right;\">\n",
       "      <th></th>\n",
       "      <th>ID</th>\n",
       "      <th>Sedentary_min</th>\n",
       "      <th>Light_min</th>\n",
       "      <th>MVPA_min</th>\n",
       "      <th>N_days30minMVPA</th>\n",
       "      <th>N_days60minMVPA</th>\n",
       "      <th>N_days</th>\n",
       "      <th>Profession</th>\n",
       "      <th>Age</th>\n",
       "      <th>Gender</th>\n",
       "      <th>Sports30+min</th>\n",
       "      <th>ActiveTransportPerDay_min</th>\n",
       "      <th>Health_satisf</th>\n",
       "      <th>Weight_kg</th>\n",
       "      <th>Height_cm</th>\n",
       "      <th>BMI</th>\n",
       "      <th>Job_satisf</th>\n",
       "      <th>School</th>\n",
       "      <th>County</th>\n",
       "    </tr>\n",
       "  </thead>\n",
       "  <tbody>\n",
       "    <tr>\n",
       "      <th>36</th>\n",
       "      <td>19044</td>\n",
       "      <td>482.500000</td>\n",
       "      <td>224.785714</td>\n",
       "      <td>41.535714</td>\n",
       "      <td>5</td>\n",
       "      <td>1</td>\n",
       "      <td>7</td>\n",
       "      <td>Teacher</td>\n",
       "      <td>37.0</td>\n",
       "      <td>1.0</td>\n",
       "      <td>3.0</td>\n",
       "      <td>0.0</td>\n",
       "      <td>1.0</td>\n",
       "      <td>139.0</td>\n",
       "      <td>180.0</td>\n",
       "      <td>42.9</td>\n",
       "      <td>1.0</td>\n",
       "      <td>School35</td>\n",
       "      <td>TartuCity</td>\n",
       "    </tr>\n",
       "    <tr>\n",
       "      <th>98</th>\n",
       "      <td>19143</td>\n",
       "      <td>684.708333</td>\n",
       "      <td>215.916667</td>\n",
       "      <td>22.458333</td>\n",
       "      <td>2</td>\n",
       "      <td>0</td>\n",
       "      <td>6</td>\n",
       "      <td>Teacher</td>\n",
       "      <td>69.0</td>\n",
       "      <td>2.0</td>\n",
       "      <td>NaN</td>\n",
       "      <td>0.0</td>\n",
       "      <td>1.0</td>\n",
       "      <td>118.0</td>\n",
       "      <td>165.0</td>\n",
       "      <td>43.3</td>\n",
       "      <td>1.0</td>\n",
       "      <td>School23</td>\n",
       "      <td>Tartu</td>\n",
       "    </tr>\n",
       "    <tr>\n",
       "      <th>197</th>\n",
       "      <td>19324</td>\n",
       "      <td>672.093750</td>\n",
       "      <td>159.687500</td>\n",
       "      <td>38.812500</td>\n",
       "      <td>3</td>\n",
       "      <td>2</td>\n",
       "      <td>8</td>\n",
       "      <td>Teacher</td>\n",
       "      <td>31.0</td>\n",
       "      <td>2.0</td>\n",
       "      <td>2.0</td>\n",
       "      <td>30.0</td>\n",
       "      <td>1.0</td>\n",
       "      <td>110.0</td>\n",
       "      <td>161.5</td>\n",
       "      <td>42.2</td>\n",
       "      <td>1.0</td>\n",
       "      <td>School6</td>\n",
       "      <td>Jarva</td>\n",
       "    </tr>\n",
       "    <tr>\n",
       "      <th>295</th>\n",
       "      <td>19469</td>\n",
       "      <td>607.750000</td>\n",
       "      <td>143.700000</td>\n",
       "      <td>41.100000</td>\n",
       "      <td>5</td>\n",
       "      <td>1</td>\n",
       "      <td>5</td>\n",
       "      <td>Teacher</td>\n",
       "      <td>58.0</td>\n",
       "      <td>1.0</td>\n",
       "      <td>2.0</td>\n",
       "      <td>30.0</td>\n",
       "      <td>2.0</td>\n",
       "      <td>145.0</td>\n",
       "      <td>190.0</td>\n",
       "      <td>40.2</td>\n",
       "      <td>1.0</td>\n",
       "      <td>School31</td>\n",
       "      <td>Tartu</td>\n",
       "    </tr>\n",
       "    <tr>\n",
       "      <th>358</th>\n",
       "      <td>19579</td>\n",
       "      <td>629.791667</td>\n",
       "      <td>207.708333</td>\n",
       "      <td>32.000000</td>\n",
       "      <td>2</td>\n",
       "      <td>1</td>\n",
       "      <td>6</td>\n",
       "      <td>Teacher</td>\n",
       "      <td>51.0</td>\n",
       "      <td>2.0</td>\n",
       "      <td>4.0</td>\n",
       "      <td>60.0</td>\n",
       "      <td>1.0</td>\n",
       "      <td>115.0</td>\n",
       "      <td>168.0</td>\n",
       "      <td>40.7</td>\n",
       "      <td>1.0</td>\n",
       "      <td>School12</td>\n",
       "      <td>Tartu</td>\n",
       "    </tr>\n",
       "    <tr>\n",
       "      <th>368</th>\n",
       "      <td>19595</td>\n",
       "      <td>546.550000</td>\n",
       "      <td>249.300000</td>\n",
       "      <td>42.750000</td>\n",
       "      <td>4</td>\n",
       "      <td>2</td>\n",
       "      <td>5</td>\n",
       "      <td>Administration</td>\n",
       "      <td>64.0</td>\n",
       "      <td>2.0</td>\n",
       "      <td>2.0</td>\n",
       "      <td>30.0</td>\n",
       "      <td>2.0</td>\n",
       "      <td>140.0</td>\n",
       "      <td>178.0</td>\n",
       "      <td>44.2</td>\n",
       "      <td>NaN</td>\n",
       "      <td>School5</td>\n",
       "      <td>Laane</td>\n",
       "    </tr>\n",
       "    <tr>\n",
       "      <th>429</th>\n",
       "      <td>19711</td>\n",
       "      <td>447.107143</td>\n",
       "      <td>260.535714</td>\n",
       "      <td>61.000000</td>\n",
       "      <td>6</td>\n",
       "      <td>3</td>\n",
       "      <td>7</td>\n",
       "      <td>Administration</td>\n",
       "      <td>54.0</td>\n",
       "      <td>2.0</td>\n",
       "      <td>3.0</td>\n",
       "      <td>0.0</td>\n",
       "      <td>2.0</td>\n",
       "      <td>176.0</td>\n",
       "      <td>164.0</td>\n",
       "      <td>65.4</td>\n",
       "      <td>1.0</td>\n",
       "      <td>School28</td>\n",
       "      <td>Tartu</td>\n",
       "    </tr>\n",
       "    <tr>\n",
       "      <th>451</th>\n",
       "      <td>19745</td>\n",
       "      <td>461.500000</td>\n",
       "      <td>168.000000</td>\n",
       "      <td>11.000000</td>\n",
       "      <td>0</td>\n",
       "      <td>0</td>\n",
       "      <td>5</td>\n",
       "      <td>Teacher</td>\n",
       "      <td>48.0</td>\n",
       "      <td>2.0</td>\n",
       "      <td>3.0</td>\n",
       "      <td>50.0</td>\n",
       "      <td>1.0</td>\n",
       "      <td>163.0</td>\n",
       "      <td>161.0</td>\n",
       "      <td>62.9</td>\n",
       "      <td>1.0</td>\n",
       "      <td>School39</td>\n",
       "      <td>TartuCity</td>\n",
       "    </tr>\n",
       "  </tbody>\n",
       "</table>\n",
       "</div>"
      ],
      "text/plain": [
       "        ID  Sedentary_min   Light_min   MVPA_min  N_days30minMVPA  \\\n",
       "36   19044     482.500000  224.785714  41.535714                5   \n",
       "98   19143     684.708333  215.916667  22.458333                2   \n",
       "197  19324     672.093750  159.687500  38.812500                3   \n",
       "295  19469     607.750000  143.700000  41.100000                5   \n",
       "358  19579     629.791667  207.708333  32.000000                2   \n",
       "368  19595     546.550000  249.300000  42.750000                4   \n",
       "429  19711     447.107143  260.535714  61.000000                6   \n",
       "451  19745     461.500000  168.000000  11.000000                0   \n",
       "\n",
       "     N_days60minMVPA  N_days      Profession   Age  Gender  Sports30+min  \\\n",
       "36                 1       7         Teacher  37.0     1.0           3.0   \n",
       "98                 0       6         Teacher  69.0     2.0           NaN   \n",
       "197                2       8         Teacher  31.0     2.0           2.0   \n",
       "295                1       5         Teacher  58.0     1.0           2.0   \n",
       "358                1       6         Teacher  51.0     2.0           4.0   \n",
       "368                2       5  Administration  64.0     2.0           2.0   \n",
       "429                3       7  Administration  54.0     2.0           3.0   \n",
       "451                0       5         Teacher  48.0     2.0           3.0   \n",
       "\n",
       "     ActiveTransportPerDay_min  Health_satisf  Weight_kg  Height_cm   BMI  \\\n",
       "36                         0.0            1.0      139.0      180.0  42.9   \n",
       "98                         0.0            1.0      118.0      165.0  43.3   \n",
       "197                       30.0            1.0      110.0      161.5  42.2   \n",
       "295                       30.0            2.0      145.0      190.0  40.2   \n",
       "358                       60.0            1.0      115.0      168.0  40.7   \n",
       "368                       30.0            2.0      140.0      178.0  44.2   \n",
       "429                        0.0            2.0      176.0      164.0  65.4   \n",
       "451                       50.0            1.0      163.0      161.0  62.9   \n",
       "\n",
       "     Job_satisf    School     County  \n",
       "36          1.0  School35  TartuCity  \n",
       "98          1.0  School23      Tartu  \n",
       "197         1.0   School6      Jarva  \n",
       "295         1.0  School31      Tartu  \n",
       "358         1.0  School12      Tartu  \n",
       "368         NaN   School5      Laane  \n",
       "429         1.0  School28      Tartu  \n",
       "451         1.0  School39  TartuCity  "
      ]
     },
     "execution_count": 17,
     "metadata": {},
     "output_type": "execute_result"
    }
   ],
   "source": [
    "#There are some very high values of BMI in the dataset\n",
    "data.loc[data.BMI > 40]"
   ]
  },
  {
   "cell_type": "code",
   "execution_count": 18,
   "metadata": {},
   "outputs": [],
   "source": [
    "#replace weight and BMI values with NaN based on illogical values of BMI (>=60)\n",
    "data['Weight_kg'].where((data['BMI'] < 60), pd.NA, inplace=True)\n",
    "data['BMI'].where((data['BMI'] < 60), pd.NA, inplace=True)"
   ]
  },
  {
   "cell_type": "code",
   "execution_count": 19,
   "metadata": {},
   "outputs": [
    {
     "data": {
      "image/png": "[encoded data removed]",
      "text/plain": [
       "<Figure size 864x360 with 1 Axes>"
      ]
     },
     "metadata": {
      "needs_background": "light"
     },
     "output_type": "display_data"
    }
   ],
   "source": [
    "#Gender, BMI and satisfaction with health\n",
    "plt.figure(figsize=(12, 5))\n",
    "boxplot(x=gender, y='BMI', hue=health_satisf, data=data)\n",
    "plt.show()"
   ]
  },
  {
   "cell_type": "markdown",
   "metadata": {},
   "source": [
    "There are differences in satisfaction with health between people with lower and higher BMI: people with lower BMI tend to be more satisfied with health. The variance of BMI of those who are not satisfied with their health is very large, especially for women. The range of BMI is also overlapping for those who are satisfied and not satisfied with their health. This suggests that BMI is not a good predictor for all the classes of satisfaction with health."
   ]
  },
  {
   "cell_type": "code",
   "execution_count": 20,
   "metadata": {
    "scrolled": true
   },
   "outputs": [
    {
     "name": "stdout",
     "output_type": "stream",
     "text": [
      "9.634375\n",
      "19.302380952380968\n"
     ]
    }
   ],
   "source": [
    "#finding the sum of different activity levels for normalising the variables\n",
    "col_list = ['Sedentary_min', 'Light_min', 'MVPA_min']\n",
    "data['Activity_sum'] = data[col_list].sum(axis=1)  \n",
    "\n",
    "print(np.min(data.Activity_sum/60))  #minimmum hours activity was measured\n",
    "print(np.max(data.Activity_sum/60))  #maximum hours activity was measured"
   ]
  },
  {
   "cell_type": "code",
   "execution_count": 21,
   "metadata": {},
   "outputs": [],
   "source": [
    "#normalising the amount of different physical activity (because the amount of time the accelerometer was used varies between respondents)\n",
    "data['Sedentary_prop'] = data['Sedentary_min'] / data['Activity_sum']\n",
    "data['Light_prop'] = data['Light_min'] / data['Activity_sum']\n",
    "data['MVPA_prop'] = data['MVPA_min'] / data['Activity_sum']"
   ]
  },
  {
   "cell_type": "code",
   "execution_count": 22,
   "metadata": {
    "scrolled": true
   },
   "outputs": [
    {
     "data": {
      "text/html": [
       "<div>\n",
       "<style scoped>\n",
       "    .dataframe tbody tr th:only-of-type {\n",
       "        vertical-align: middle;\n",
       "    }\n",
       "\n",
       "    .dataframe tbody tr th {\n",
       "        vertical-align: top;\n",
       "    }\n",
       "\n",
       "    .dataframe thead th {\n",
       "        text-align: right;\n",
       "    }\n",
       "</style>\n",
       "<table border=\"1\" class=\"dataframe\">\n",
       "  <thead>\n",
       "    <tr style=\"text-align: right;\">\n",
       "      <th></th>\n",
       "      <th>BMI</th>\n",
       "      <th>Sedentary_prop</th>\n",
       "      <th>Light_prop</th>\n",
       "      <th>MVPA_prop</th>\n",
       "    </tr>\n",
       "  </thead>\n",
       "  <tbody>\n",
       "    <tr>\n",
       "      <th>BMI</th>\n",
       "      <td>1.00</td>\n",
       "      <td>-0.03</td>\n",
       "      <td>0.09</td>\n",
       "      <td>-0.11</td>\n",
       "    </tr>\n",
       "    <tr>\n",
       "      <th>Sedentary_prop</th>\n",
       "      <td>-0.03</td>\n",
       "      <td>1.00</td>\n",
       "      <td>-0.91</td>\n",
       "      <td>-0.57</td>\n",
       "    </tr>\n",
       "    <tr>\n",
       "      <th>Light_prop</th>\n",
       "      <td>0.09</td>\n",
       "      <td>-0.91</td>\n",
       "      <td>1.00</td>\n",
       "      <td>0.17</td>\n",
       "    </tr>\n",
       "    <tr>\n",
       "      <th>MVPA_prop</th>\n",
       "      <td>-0.11</td>\n",
       "      <td>-0.57</td>\n",
       "      <td>0.17</td>\n",
       "      <td>1.00</td>\n",
       "    </tr>\n",
       "  </tbody>\n",
       "</table>\n",
       "</div>"
      ],
      "text/plain": [
       "                 BMI  Sedentary_prop  Light_prop  MVPA_prop\n",
       "BMI             1.00           -0.03        0.09      -0.11\n",
       "Sedentary_prop -0.03            1.00       -0.91      -0.57\n",
       "Light_prop      0.09           -0.91        1.00       0.17\n",
       "MVPA_prop      -0.11           -0.57        0.17       1.00"
      ]
     },
     "execution_count": 22,
     "metadata": {},
     "output_type": "execute_result"
    }
   ],
   "source": [
    "#Pearson correlations between BMI and different levels of activity\n",
    "data_for_correlating = data[['BMI', 'Sedentary_prop', 'Light_prop', 'MVPA_prop']]\n",
    "round(data_for_correlating.corr(), 2)"
   ]
  },
  {
   "cell_type": "markdown",
   "metadata": {},
   "source": [
    "BMI has weak correlation with different levels of physical activity, so probably it would be a good idea to use all these variables in predicting satisfaction with health."
   ]
  },
  {
   "cell_type": "markdown",
   "metadata": {},
   "source": [
    "### Predicting 'satisfaction with health' with different classification algorithms"
   ]
  },
  {
   "cell_type": "code",
   "execution_count": 23,
   "metadata": {},
   "outputs": [],
   "source": [
    "#part of the dataset, without missing values\n",
    "data_part1 = data.loc[:,['Age', 'Gender', 'BMI', 'Health_satisf', 'Sedentary_prop', 'Light_prop', 'MVPA_prop']].dropna()"
   ]
  },
  {
   "cell_type": "code",
   "execution_count": 24,
   "metadata": {},
   "outputs": [],
   "source": [
    "#change the type of some variables to categorical\n",
    "data_part1['Health_satisf'] = data_part1['Health_satisf'].astype(int).astype('category')\n",
    "data_part1['Gender'] = data_part1['Gender'].astype(int).astype('category')"
   ]
  },
  {
   "cell_type": "code",
   "execution_count": 25,
   "metadata": {},
   "outputs": [
    {
     "data": {
      "text/plain": [
       "1    689\n",
       "2    142\n",
       "3     10\n",
       "Name: Health_satisf, dtype: int64"
      ]
     },
     "execution_count": 25,
     "metadata": {},
     "output_type": "execute_result"
    }
   ],
   "source": [
    "#frequency table\n",
    "data_part1.Health_satisf.value_counts()"
   ]
  },
  {
   "cell_type": "code",
   "execution_count": 26,
   "metadata": {},
   "outputs": [],
   "source": [
    "#3=\"I don't know\" is not a meaningful answer and as we have so few of them, let's drop them\n",
    "indexNames = data_part1[(data_part1['Health_satisf'] == 3)].index\n",
    "data_part1.drop(indexNames, inplace=True)"
   ]
  },
  {
   "cell_type": "code",
   "execution_count": 27,
   "metadata": {},
   "outputs": [
    {
     "data": {
      "text/plain": [
       "831"
      ]
     },
     "execution_count": 27,
     "metadata": {},
     "output_type": "execute_result"
    }
   ],
   "source": [
    "len(data_part1)"
   ]
  },
  {
   "cell_type": "code",
   "execution_count": 28,
   "metadata": {},
   "outputs": [
    {
     "data": {
      "text/html": [
       "<div>\n",
       "<style scoped>\n",
       "    .dataframe tbody tr th:only-of-type {\n",
       "        vertical-align: middle;\n",
       "    }\n",
       "\n",
       "    .dataframe tbody tr th {\n",
       "        vertical-align: top;\n",
       "    }\n",
       "\n",
       "    .dataframe thead th {\n",
       "        text-align: right;\n",
       "    }\n",
       "</style>\n",
       "<table border=\"1\" class=\"dataframe\">\n",
       "  <thead>\n",
       "    <tr style=\"text-align: right;\">\n",
       "      <th></th>\n",
       "      <th>Age</th>\n",
       "      <th>Gender</th>\n",
       "      <th>BMI</th>\n",
       "      <th>Health_satisf</th>\n",
       "      <th>Sedentary_prop</th>\n",
       "      <th>Light_prop</th>\n",
       "      <th>MVPA_prop</th>\n",
       "    </tr>\n",
       "  </thead>\n",
       "  <tbody>\n",
       "    <tr>\n",
       "      <th>0</th>\n",
       "      <td>44.0</td>\n",
       "      <td>2</td>\n",
       "      <td>25.1</td>\n",
       "      <td>1</td>\n",
       "      <td>0.728085</td>\n",
       "      <td>0.242685</td>\n",
       "      <td>0.029230</td>\n",
       "    </tr>\n",
       "    <tr>\n",
       "      <th>1</th>\n",
       "      <td>53.0</td>\n",
       "      <td>2</td>\n",
       "      <td>31.2</td>\n",
       "      <td>2</td>\n",
       "      <td>0.727918</td>\n",
       "      <td>0.233872</td>\n",
       "      <td>0.038210</td>\n",
       "    </tr>\n",
       "    <tr>\n",
       "      <th>2</th>\n",
       "      <td>56.0</td>\n",
       "      <td>2</td>\n",
       "      <td>22.8</td>\n",
       "      <td>1</td>\n",
       "      <td>0.679052</td>\n",
       "      <td>0.181010</td>\n",
       "      <td>0.139938</td>\n",
       "    </tr>\n",
       "    <tr>\n",
       "      <th>3</th>\n",
       "      <td>28.0</td>\n",
       "      <td>2</td>\n",
       "      <td>24.2</td>\n",
       "      <td>1</td>\n",
       "      <td>0.666392</td>\n",
       "      <td>0.292884</td>\n",
       "      <td>0.040724</td>\n",
       "    </tr>\n",
       "    <tr>\n",
       "      <th>4</th>\n",
       "      <td>30.0</td>\n",
       "      <td>2</td>\n",
       "      <td>25.5</td>\n",
       "      <td>1</td>\n",
       "      <td>0.666328</td>\n",
       "      <td>0.258725</td>\n",
       "      <td>0.074947</td>\n",
       "    </tr>\n",
       "  </tbody>\n",
       "</table>\n",
       "</div>"
      ],
      "text/plain": [
       "    Age Gender   BMI Health_satisf  Sedentary_prop  Light_prop  MVPA_prop\n",
       "0  44.0      2  25.1             1        0.728085    0.242685   0.029230\n",
       "1  53.0      2  31.2             2        0.727918    0.233872   0.038210\n",
       "2  56.0      2  22.8             1        0.679052    0.181010   0.139938\n",
       "3  28.0      2  24.2             1        0.666392    0.292884   0.040724\n",
       "4  30.0      2  25.5             1        0.666328    0.258725   0.074947"
      ]
     },
     "execution_count": 28,
     "metadata": {},
     "output_type": "execute_result"
    }
   ],
   "source": [
    "data_part1.head()"
   ]
  },
  {
   "cell_type": "code",
   "execution_count": 29,
   "metadata": {},
   "outputs": [],
   "source": [
    "#Divide data to training and test set + labels\n",
    "y = data_part1['Health_satisf']\n",
    "X = data_part1.drop('Health_satisf', axis=1)\n",
    "\n",
    "train_X, test_X, train_y, test_y = train_test_split(X, y, test_size=0.30, random_state=0)"
   ]
  },
  {
   "cell_type": "code",
   "execution_count": 30,
   "metadata": {},
   "outputs": [
    {
     "name": "stdout",
     "output_type": "stream",
     "text": [
      "581\n",
      "250\n"
     ]
    }
   ],
   "source": [
    "print(len(train_X))\n",
    "print(len(test_X))"
   ]
  },
  {
   "cell_type": "code",
   "execution_count": 31,
   "metadata": {},
   "outputs": [
    {
     "data": {
      "text/plain": [
       "1    483\n",
       "2     98\n",
       "3      0\n",
       "Name: Health_satisf, dtype: int64"
      ]
     },
     "execution_count": 31,
     "metadata": {},
     "output_type": "execute_result"
    }
   ],
   "source": [
    "train_y.value_counts()"
   ]
  },
  {
   "cell_type": "code",
   "execution_count": 32,
   "metadata": {},
   "outputs": [
    {
     "data": {
      "text/plain": [
       "1    206\n",
       "2     44\n",
       "3      0\n",
       "Name: Health_satisf, dtype: int64"
      ]
     },
     "execution_count": 32,
     "metadata": {},
     "output_type": "execute_result"
    }
   ],
   "source": [
    "test_y.value_counts()"
   ]
  },
  {
   "cell_type": "code",
   "execution_count": 33,
   "metadata": {},
   "outputs": [],
   "source": [
    "#Since the distribution of answers to satisfaction with health is very different, let's upsample\n",
    "X = pd.concat([train_X, train_y], axis=1)\n",
    "satisfied = X[X.Health_satisf==1]\n",
    "not_satisfied = X[X.Health_satisf==2]"
   ]
  },
  {
   "cell_type": "code",
   "execution_count": 34,
   "metadata": {},
   "outputs": [
    {
     "data": {
      "text/plain": [
       "98"
      ]
     },
     "execution_count": 34,
     "metadata": {},
     "output_type": "execute_result"
    }
   ],
   "source": [
    "len(not_satisfied)"
   ]
  },
  {
   "cell_type": "code",
   "execution_count": 35,
   "metadata": {},
   "outputs": [],
   "source": [
    "#upsample minority\n",
    "not_satisfied_upsampled = resample(not_satisfied, replace=True, n_samples=len(satisfied), random_state=0)"
   ]
  },
  {
   "cell_type": "code",
   "execution_count": 36,
   "metadata": {},
   "outputs": [],
   "source": [
    "#combine majority and upsampled minority\n",
    "upsampled = pd.concat([satisfied, not_satisfied_upsampled])"
   ]
  },
  {
   "cell_type": "code",
   "execution_count": 37,
   "metadata": {
    "scrolled": true
   },
   "outputs": [
    {
     "data": {
      "text/plain": [
       "2    483\n",
       "1    483\n",
       "3      0\n",
       "Name: Health_satisf, dtype: int64"
      ]
     },
     "execution_count": 37,
     "metadata": {},
     "output_type": "execute_result"
    }
   ],
   "source": [
    "upsampled.Health_satisf.value_counts()  #now we have equal number of both classes in the training set"
   ]
  },
  {
   "cell_type": "code",
   "execution_count": 38,
   "metadata": {},
   "outputs": [],
   "source": [
    "#labels for training data and training data itself without labels\n",
    "train_y = upsampled.Health_satisf\n",
    "train_X = upsampled.drop('Health_satisf', axis=1)"
   ]
  },
  {
   "cell_type": "markdown",
   "metadata": {},
   "source": [
    "#### Decision Tree Classifier"
   ]
  },
  {
   "cell_type": "markdown",
   "metadata": {},
   "source": [
    "<b>Choosing the best depth for decision tree based on cross validation RMSE</b>"
   ]
  },
  {
   "cell_type": "code",
   "execution_count": 39,
   "metadata": {},
   "outputs": [
    {
     "name": "stdout",
     "output_type": "stream",
     "text": [
      "Calculating RMSE for decision tree with max depth of 1...\n",
      "Average validation RMSE for tree with max depth 1 is 0.602\n",
      "Calculating RMSE for decision tree with max depth of 2...\n",
      "Average validation RMSE for tree with max depth 2 is 0.598\n",
      "Calculating RMSE for decision tree with max depth of 3...\n",
      "Average validation RMSE for tree with max depth 3 is 0.594\n",
      "Calculating RMSE for decision tree with max depth of 4...\n",
      "Average validation RMSE for tree with max depth 4 is 0.586\n",
      "Calculating RMSE for decision tree with max depth of 5...\n",
      "Average validation RMSE for tree with max depth 5 is 0.579\n",
      "Calculating RMSE for decision tree with max depth of 6...\n",
      "Average validation RMSE for tree with max depth 6 is 0.571\n",
      "Calculating RMSE for decision tree with max depth of 7...\n",
      "Average validation RMSE for tree with max depth 7 is 0.562\n",
      "Calculating RMSE for decision tree with max depth of 8...\n",
      "Average validation RMSE for tree with max depth 8 is 0.55\n",
      "Calculating RMSE for decision tree with max depth of 9...\n",
      "Average validation RMSE for tree with max depth 9 is 0.538\n",
      "Calculating RMSE for decision tree with max depth of 10...\n",
      "Average validation RMSE for tree with max depth 10 is 0.529\n",
      "Minimum average validation RMSE is 0.529 for max depth of 10\n"
     ]
    }
   ],
   "source": [
    "np.random_seed = 0\n",
    "\n",
    "max_depths = list(range(1, 11))\n",
    "n_folds = 4\n",
    "\n",
    "fold_RMSEs = []\n",
    "dtree_RMSEs = []\n",
    "\n",
    "for parameter in max_depths:\n",
    "    print(f'Calculating RMSE for decision tree with max depth of {parameter}...')\n",
    "    \n",
    "    dtree = DecisionTreeClassifier(max_depth=parameter)\n",
    "    \n",
    "    strat_folds = StratifiedKFold(n_splits=n_folds, shuffle=True, random_state=0)\n",
    "    \n",
    "    fold_index = 1\n",
    "    \n",
    "    for train_index, val_index in strat_folds.split(train_X, train_y):\n",
    "        X_train = train_X.iloc[train_index, :]\n",
    "        X_val = train_X.iloc[val_index, :]\n",
    "        y_train = train_y.iloc[train_index]\n",
    "        y_val = train_y.iloc[val_index]\n",
    "             \n",
    "        dtree.fit(X_train, y_train)\n",
    "        \n",
    "        val_pred = dtree.predict(X_val)\n",
    "    \n",
    "        fold_RMSEs.append(np.sqrt(mean_squared_error(y_val, val_pred)))\n",
    "    \n",
    "        fold_index += 1\n",
    "\n",
    "    dtree_RMSEs.append(np.mean(fold_RMSEs))\n",
    "    \n",
    "    print(f'Average validation RMSE for tree with max depth {parameter} is {round(np.mean(fold_RMSEs), 3)}')\n",
    "\n",
    "print(f'Minimum average validation RMSE is {round(np.min(dtree_RMSEs), 3)} for max depth of {max_depths[np.argmin(dtree_RMSEs)]}')"
   ]
  },
  {
   "cell_type": "markdown",
   "metadata": {},
   "source": [
    "The problem with this solution is that here we try to find the smallest RMSE for predicting classes 1 and 2 together (satisfied/not satisfied with health). It turns out that decision tree predicts class 1 much better than class 2 and thus we get the largest max depth possible from the cross validation, and also overfit the model. So, next I do cross validation for only predicting class 1 (satisfied with health), and we can see that the results are totally different."
   ]
  },
  {
   "cell_type": "code",
   "execution_count": 40,
   "metadata": {},
   "outputs": [
    {
     "name": "stdout",
     "output_type": "stream",
     "text": [
      "Calculating RMSE for decision tree with max depth of 1...\n",
      "Average validation RMSE for tree with max depth 1 is 0.357\n",
      "Calculating RMSE for decision tree with max depth of 2...\n",
      "Average validation RMSE for tree with max depth 2 is 0.503\n",
      "Calculating RMSE for decision tree with max depth of 3...\n",
      "Average validation RMSE for tree with max depth 3 is 0.538\n",
      "Calculating RMSE for decision tree with max depth of 4...\n",
      "Average validation RMSE for tree with max depth 4 is 0.551\n",
      "Calculating RMSE for decision tree with max depth of 5...\n",
      "Average validation RMSE for tree with max depth 5 is 0.571\n",
      "Calculating RMSE for decision tree with max depth of 6...\n",
      "Average validation RMSE for tree with max depth 6 is 0.582\n",
      "Calculating RMSE for decision tree with max depth of 7...\n",
      "Average validation RMSE for tree with max depth 7 is 0.586\n",
      "Calculating RMSE for decision tree with max depth of 8...\n",
      "Average validation RMSE for tree with max depth 8 is 0.583\n",
      "Calculating RMSE for decision tree with max depth of 9...\n",
      "Average validation RMSE for tree with max depth 9 is 0.575\n",
      "Calculating RMSE for decision tree with max depth of 10...\n",
      "Average validation RMSE for tree with max depth 10 is 0.57\n",
      "Minimum average validation RMSE is 0.357 for max depth of 1\n"
     ]
    }
   ],
   "source": [
    "np.random_seed = 0\n",
    "\n",
    "max_depths = list(range(1, 11))\n",
    "n_folds = 4\n",
    "\n",
    "fold_RMSEs = []\n",
    "dtree_RMSEs = []\n",
    "\n",
    "for parameter in max_depths:\n",
    "    print(f'Calculating RMSE for decision tree with max depth of {parameter}...')\n",
    "    \n",
    "    dtree = DecisionTreeClassifier(max_depth=parameter)\n",
    "    \n",
    "    strat_folds = StratifiedKFold(n_splits=n_folds, shuffle=True, random_state=0)\n",
    "    \n",
    "    fold_index = 1\n",
    "    \n",
    "    for train_index, val_index in strat_folds.split(train_X, train_y):\n",
    "        X_train = train_X.iloc[train_index, :]\n",
    "        X_val = train_X.iloc[val_index, :]\n",
    "        y_train = train_y.iloc[train_index]\n",
    "        y_val = train_y.iloc[val_index]\n",
    "             \n",
    "        dtree.fit(X_train, y_train)\n",
    "        \n",
    "        val_pred = dtree.predict(X_val.loc[y_val==1])\n",
    "    \n",
    "        fold_RMSEs.append(np.sqrt(mean_squared_error(y_val[y_val==1], val_pred)))\n",
    "    \n",
    "        fold_index += 1\n",
    "\n",
    "    dtree_RMSEs.append(np.mean(fold_RMSEs))\n",
    "    \n",
    "    print(f'Average validation RMSE for tree with max depth {parameter} is {round(np.mean(fold_RMSEs), 3)}')\n",
    "\n",
    "print(f'Minimum average validation RMSE is {round(np.min(dtree_RMSEs), 3)} for max depth of {max_depths[np.argmin(dtree_RMSEs)]}')"
   ]
  },
  {
   "cell_type": "markdown",
   "metadata": {},
   "source": [
    "<b>Training decision tree based on results of cross validation when predicting both classes (1 and 2)</b>"
   ]
  },
  {
   "cell_type": "code",
   "execution_count": 41,
   "metadata": {},
   "outputs": [],
   "source": [
    "np.random.seed(0)\n",
    "\n",
    "dtree = DecisionTreeClassifier(max_depth=10, random_state=0)"
   ]
  },
  {
   "cell_type": "code",
   "execution_count": 42,
   "metadata": {
    "scrolled": true
   },
   "outputs": [
    {
     "data": {
      "text/plain": [
       "DecisionTreeClassifier(max_depth=10, random_state=0)"
      ]
     },
     "execution_count": 42,
     "metadata": {},
     "output_type": "execute_result"
    }
   ],
   "source": [
    "dtree.fit(train_X, train_y)"
   ]
  },
  {
   "cell_type": "code",
   "execution_count": 43,
   "metadata": {},
   "outputs": [],
   "source": [
    "y_pred_test = dtree.predict(test_X)"
   ]
  },
  {
   "cell_type": "code",
   "execution_count": 44,
   "metadata": {},
   "outputs": [
    {
     "data": {
      "text/plain": [
       "0.6324555320336759"
      ]
     },
     "execution_count": 44,
     "metadata": {},
     "output_type": "execute_result"
    }
   ],
   "source": [
    "np.sqrt(mean_squared_error(test_y, y_pred_test))"
   ]
  },
  {
   "cell_type": "code",
   "execution_count": 45,
   "metadata": {},
   "outputs": [
    {
     "data": {
      "text/plain": [
       "(array([1, 2], dtype=int64), array([156,  94], dtype=int64))"
      ]
     },
     "execution_count": 45,
     "metadata": {},
     "output_type": "execute_result"
    }
   ],
   "source": [
    "unique, counts = np.unique(y_pred_test, return_counts=True)\n",
    "unique, counts"
   ]
  },
  {
   "cell_type": "code",
   "execution_count": 46,
   "metadata": {},
   "outputs": [
    {
     "name": "stdout",
     "output_type": "stream",
     "text": [
      "[[131  75]\n",
      " [ 25  19]]\n"
     ]
    }
   ],
   "source": [
    "print(confusion_matrix(test_y, y_pred_test))"
   ]
  },
  {
   "cell_type": "code",
   "execution_count": 47,
   "metadata": {},
   "outputs": [
    {
     "data": {
      "text/plain": [
       "array([0.63592233, 0.43181818])"
      ]
     },
     "execution_count": 47,
     "metadata": {},
     "output_type": "execute_result"
    }
   ],
   "source": [
    "#Recall is the number of true positives divided by the number of positive values in the test data (=sensitivity)\n",
    "recall_score(test_y, y_pred_test, average=None)"
   ]
  },
  {
   "cell_type": "code",
   "execution_count": 48,
   "metadata": {},
   "outputs": [
    {
     "data": {
      "text/plain": [
       "array([0.83974359, 0.20212766])"
      ]
     },
     "execution_count": 48,
     "metadata": {},
     "output_type": "execute_result"
    }
   ],
   "source": [
    "#Precision is the ability of the classifier not to label a negative sample as positive (=correctly predicted as positive/actually positive)\n",
    "precision_score(test_y, y_pred_test, average=None)"
   ]
  },
  {
   "cell_type": "markdown",
   "metadata": {},
   "source": [
    "We can see that decision tree is quite bad at predicting both classes. Moreover, the model is not interpretable with depth 10."
   ]
  },
  {
   "cell_type": "markdown",
   "metadata": {},
   "source": [
    "<b>Training decision tree based on results of cross validation when trying to predict only class 1 </b>"
   ]
  },
  {
   "cell_type": "code",
   "execution_count": 49,
   "metadata": {},
   "outputs": [],
   "source": [
    "np.random.seed(0)\n",
    "\n",
    "dtree = DecisionTreeClassifier(max_depth=1, random_state=0)"
   ]
  },
  {
   "cell_type": "code",
   "execution_count": 50,
   "metadata": {
    "scrolled": true
   },
   "outputs": [
    {
     "data": {
      "text/plain": [
       "DecisionTreeClassifier(max_depth=1, random_state=0)"
      ]
     },
     "execution_count": 50,
     "metadata": {},
     "output_type": "execute_result"
    }
   ],
   "source": [
    "dtree.fit(train_X, train_y)"
   ]
  },
  {
   "cell_type": "code",
   "execution_count": 51,
   "metadata": {},
   "outputs": [],
   "source": [
    "y_pred_test = dtree.predict(test_X)"
   ]
  },
  {
   "cell_type": "code",
   "execution_count": 52,
   "metadata": {},
   "outputs": [
    {
     "data": {
      "text/plain": [
       "0.4979959839195493"
      ]
     },
     "execution_count": 52,
     "metadata": {},
     "output_type": "execute_result"
    }
   ],
   "source": [
    "np.sqrt(mean_squared_error(test_y, y_pred_test))"
   ]
  },
  {
   "cell_type": "code",
   "execution_count": 53,
   "metadata": {},
   "outputs": [
    {
     "data": {
      "text/plain": [
       "(array([1, 2], dtype=int64), array([198,  52], dtype=int64))"
      ]
     },
     "execution_count": 53,
     "metadata": {},
     "output_type": "execute_result"
    }
   ],
   "source": [
    "unique, counts = np.unique(y_pred_test, return_counts=True)\n",
    "unique, counts"
   ]
  },
  {
   "cell_type": "code",
   "execution_count": 54,
   "metadata": {},
   "outputs": [
    {
     "name": "stdout",
     "output_type": "stream",
     "text": [
      "[[171  35]\n",
      " [ 27  17]]\n"
     ]
    }
   ],
   "source": [
    "print(confusion_matrix(test_y, y_pred_test))"
   ]
  },
  {
   "cell_type": "code",
   "execution_count": 55,
   "metadata": {},
   "outputs": [
    {
     "data": {
      "text/plain": [
       "array([0.83009709, 0.38636364])"
      ]
     },
     "execution_count": 55,
     "metadata": {},
     "output_type": "execute_result"
    }
   ],
   "source": [
    "#Recall is the number of true positives divided by the number of positive values in the test data (=sensitivity)\n",
    "recall_dt = recall_score(test_y, y_pred_test, average=None)\n",
    "recall_dt"
   ]
  },
  {
   "cell_type": "code",
   "execution_count": 56,
   "metadata": {},
   "outputs": [
    {
     "data": {
      "text/plain": [
       "array([0.86363636, 0.32692308])"
      ]
     },
     "execution_count": 56,
     "metadata": {},
     "output_type": "execute_result"
    }
   ],
   "source": [
    "#Precision is the ability of the classifier not to label a negative sample as positive (=correctly predicted as positive/actually positive)\n",
    "prec_dt = precision_score(test_y, y_pred_test, average=None)\n",
    "prec_dt"
   ]
  },
  {
   "cell_type": "code",
   "execution_count": 57,
   "metadata": {
    "scrolled": true
   },
   "outputs": [
    {
     "data": {
      "image/png": "[encoded data removed]",
      "text/plain": [
       "<Figure size 1440x288 with 1 Axes>"
      ]
     },
     "metadata": {
      "needs_background": "light"
     },
     "output_type": "display_data"
    }
   ],
   "source": [
    "#Visualising decision tree\n",
    "plt.figure(figsize=(20, 4))\n",
    "sklearn.tree.plot_tree(dtree)\n",
    "plt.show()"
   ]
  },
  {
   "cell_type": "code",
   "execution_count": 58,
   "metadata": {
    "scrolled": true
   },
   "outputs": [
    {
     "data": {
      "text/html": [
       "<div>\n",
       "<style scoped>\n",
       "    .dataframe tbody tr th:only-of-type {\n",
       "        vertical-align: middle;\n",
       "    }\n",
       "\n",
       "    .dataframe tbody tr th {\n",
       "        vertical-align: top;\n",
       "    }\n",
       "\n",
       "    .dataframe thead th {\n",
       "        text-align: right;\n",
       "    }\n",
       "</style>\n",
       "<table border=\"1\" class=\"dataframe\">\n",
       "  <thead>\n",
       "    <tr style=\"text-align: right;\">\n",
       "      <th></th>\n",
       "      <th>Age</th>\n",
       "      <th>Gender</th>\n",
       "      <th>BMI</th>\n",
       "      <th>Sedentary_prop</th>\n",
       "      <th>Light_prop</th>\n",
       "      <th>MVPA_prop</th>\n",
       "    </tr>\n",
       "  </thead>\n",
       "  <tbody>\n",
       "    <tr>\n",
       "      <th>817</th>\n",
       "      <td>34.0</td>\n",
       "      <td>1</td>\n",
       "      <td>26.1</td>\n",
       "      <td>0.638286</td>\n",
       "      <td>0.248449</td>\n",
       "      <td>0.113264</td>\n",
       "    </tr>\n",
       "    <tr>\n",
       "      <th>153</th>\n",
       "      <td>53.0</td>\n",
       "      <td>2</td>\n",
       "      <td>22.9</td>\n",
       "      <td>0.680783</td>\n",
       "      <td>0.241023</td>\n",
       "      <td>0.078193</td>\n",
       "    </tr>\n",
       "    <tr>\n",
       "      <th>214</th>\n",
       "      <td>56.0</td>\n",
       "      <td>1</td>\n",
       "      <td>36.4</td>\n",
       "      <td>0.657103</td>\n",
       "      <td>0.282081</td>\n",
       "      <td>0.060816</td>\n",
       "    </tr>\n",
       "    <tr>\n",
       "      <th>631</th>\n",
       "      <td>65.0</td>\n",
       "      <td>2</td>\n",
       "      <td>24.3</td>\n",
       "      <td>0.751040</td>\n",
       "      <td>0.195878</td>\n",
       "      <td>0.053082</td>\n",
       "    </tr>\n",
       "    <tr>\n",
       "      <th>137</th>\n",
       "      <td>62.0</td>\n",
       "      <td>2</td>\n",
       "      <td>22.0</td>\n",
       "      <td>0.650712</td>\n",
       "      <td>0.302956</td>\n",
       "      <td>0.046332</td>\n",
       "    </tr>\n",
       "  </tbody>\n",
       "</table>\n",
       "</div>"
      ],
      "text/plain": [
       "      Age Gender   BMI  Sedentary_prop  Light_prop  MVPA_prop\n",
       "817  34.0      1  26.1        0.638286    0.248449   0.113264\n",
       "153  53.0      2  22.9        0.680783    0.241023   0.078193\n",
       "214  56.0      1  36.4        0.657103    0.282081   0.060816\n",
       "631  65.0      2  24.3        0.751040    0.195878   0.053082\n",
       "137  62.0      2  22.0        0.650712    0.302956   0.046332"
      ]
     },
     "execution_count": 58,
     "metadata": {},
     "output_type": "execute_result"
    }
   ],
   "source": [
    "train_X.head()"
   ]
  },
  {
   "cell_type": "code",
   "execution_count": 59,
   "metadata": {},
   "outputs": [
    {
     "data": {
      "image/png": "[encoded data removed]",
      "text/plain": [
       "<Figure size 720x360 with 1 Axes>"
      ]
     },
     "metadata": {
      "needs_background": "light"
     },
     "output_type": "display_data"
    }
   ],
   "source": [
    "#let's see how does satisfaction with health vary for people with BMI higher than 28.8\n",
    "temp_data = data_part1[['BMI', 'Health_satisf']].loc[data_part1['BMI'] > 28.8]\n",
    "health_satisf = temp_data.Health_satisf.apply(labels2.get)  #make labelled variable for graph\n",
    "\n",
    "plt.figure(figsize=(10, 5))\n",
    "boxplot(x=health_satisf, y='BMI', data=temp_data)\n",
    "plt.xlabel('Satisfaction with health')\n",
    "plt.show()"
   ]
  },
  {
   "cell_type": "markdown",
   "metadata": {},
   "source": [
    "As we can see, the simplest way to predict whether a person is <b>satisfied</b> with his or her health is to ask their BMI. We got 83% hit rate (true positives) for test set and also 86% precision. Unfortunately, we cannot predict if people are <b>not satisfied</b> with their health in this way. Those who have BMI 28.8 and over are equally satisfied and not satisfied with their health - there must be some other independent variable to predict satisfaction with health for them."
   ]
  },
  {
   "cell_type": "markdown",
   "metadata": {},
   "source": [
    "#### KNN classifier"
   ]
  },
  {
   "cell_type": "code",
   "execution_count": 60,
   "metadata": {},
   "outputs": [
    {
     "name": "stdout",
     "output_type": "stream",
     "text": [
      "Calculating RMSE for KNN with 3 neighbours...\n",
      "Average validation RMSE for KNN with 3 neighbours is 0.49\n",
      "Calculating RMSE for KNN with 5 neighbours...\n",
      "Average validation RMSE for KNN with 5 neighbours is 0.512\n",
      "Calculating RMSE for KNN with 7 neighbours...\n",
      "Average validation RMSE for KNN with 7 neighbours is 0.53\n",
      "Calculating RMSE for KNN with 9 neighbours...\n",
      "Average validation RMSE for KNN with 9 neighbours is 0.543\n",
      "Calculating RMSE for KNN with 11 neighbours...\n",
      "Average validation RMSE for KNN with 11 neighbours is 0.552\n",
      "Minimum average validation RMSE is 0.49 for KNN with 3 neighbours\n"
     ]
    }
   ],
   "source": [
    "np.random_seed = 0\n",
    "\n",
    "K_values = list(range(3, 12, 2))\n",
    "n_folds = 4\n",
    "\n",
    "fold_RMSEs = []\n",
    "knn_RMSEs = []\n",
    "\n",
    "for k in K_values:\n",
    "    print(f'Calculating RMSE for KNN with {k} neighbours...')\n",
    "    \n",
    "    knn = KNeighborsClassifier(n_neighbors=k)\n",
    "    \n",
    "    strat_folds = StratifiedKFold(n_splits=n_folds, shuffle=True, random_state=0)\n",
    "    \n",
    "    fold_index = 1\n",
    "    \n",
    "    for train_index, val_index in strat_folds.split(train_X, train_y):\n",
    "        X_train = train_X.iloc[train_index, :]\n",
    "        X_val = train_X.iloc[val_index, :]\n",
    "        y_train = train_y.iloc[train_index]\n",
    "        y_val = train_y.iloc[val_index]\n",
    "             \n",
    "        knn.fit(X_train, y_train)\n",
    "        \n",
    "        predictions_knn = knn.predict(X_val)\n",
    "\n",
    "        fold_RMSEs.append(np.sqrt(mean_squared_error(y_val, predictions_knn)))\n",
    "    \n",
    "        fold_index += 1\n",
    "\n",
    "    knn_RMSEs.append(np.mean(fold_RMSEs))\n",
    "    \n",
    "    print(f'Average validation RMSE for KNN with {k} neighbours is {round(np.mean(fold_RMSEs), 3)}')\n",
    "\n",
    "print(f'Minimum average validation RMSE is {round(np.min(knn_RMSEs), 3)} for KNN with {K_values[np.argmin(knn_RMSEs)]} neighbours')"
   ]
  },
  {
   "cell_type": "code",
   "execution_count": 61,
   "metadata": {},
   "outputs": [],
   "source": [
    "np.random.seed(0)\n",
    "knn = KNeighborsClassifier(n_neighbors=3).fit(train_X, train_y)\n",
    "predictions_knn = knn.predict(test_X)"
   ]
  },
  {
   "cell_type": "code",
   "execution_count": 62,
   "metadata": {},
   "outputs": [
    {
     "data": {
      "text/plain": [
       "array([0.73300971, 0.38636364])"
      ]
     },
     "execution_count": 62,
     "metadata": {},
     "output_type": "execute_result"
    }
   ],
   "source": [
    "#Recall is the number of true positives divided by the number of positive values in the test data (=sensitivity)\n",
    "recall_knn = recall_score(test_y, predictions_knn, average=None)\n",
    "recall_knn"
   ]
  },
  {
   "cell_type": "code",
   "execution_count": 63,
   "metadata": {},
   "outputs": [
    {
     "data": {
      "text/plain": [
       "array([0.84831461, 0.23611111])"
      ]
     },
     "execution_count": 63,
     "metadata": {},
     "output_type": "execute_result"
    }
   ],
   "source": [
    "#Precision is the ability of the classifier not to label a negative sample as positive (=correctly predicted as positive/actually positive)\n",
    "prec_knn = precision_score(test_y, predictions_knn, average=None)\n",
    "prec_knn"
   ]
  },
  {
   "cell_type": "code",
   "execution_count": 64,
   "metadata": {},
   "outputs": [
    {
     "data": {
      "text/plain": [
       "0.672"
      ]
     },
     "execution_count": 64,
     "metadata": {},
     "output_type": "execute_result"
    }
   ],
   "source": [
    "#Accuracy takes both classes together into account, so it actually doesn't tell us how well the model predicts classes 1 and 2 separately\n",
    "accuracy_score(test_y, predictions_knn)"
   ]
  },
  {
   "cell_type": "code",
   "execution_count": 65,
   "metadata": {},
   "outputs": [
    {
     "data": {
      "text/plain": [
       "array([[151,  55],\n",
       "       [ 27,  17]], dtype=int64)"
      ]
     },
     "execution_count": 65,
     "metadata": {},
     "output_type": "execute_result"
    }
   ],
   "source": [
    "confusion_matrix(test_y, predictions_knn)  #real labels in rows, predicted labels in columns"
   ]
  },
  {
   "cell_type": "markdown",
   "metadata": {},
   "source": [
    "#### Logistic regression"
   ]
  },
  {
   "cell_type": "markdown",
   "metadata": {},
   "source": [
    "There is actually no reason to believe in the linearity of our data and logistic regression is not good at using correlated predictors. So, here I will use only BMI, age, and proportion of day spent on moderate to vigorous activity as predictors."
   ]
  },
  {
   "cell_type": "code",
   "execution_count": 66,
   "metadata": {},
   "outputs": [],
   "source": [
    "np.random.seed(0)\n",
    "logreg = LogisticRegression().fit(train_X[['BMI', 'Age', 'MVPA_prop']], train_y)\n",
    "predictions_logreg = logreg.predict(test_X[['BMI', 'Age', 'MVPA_prop']])"
   ]
  },
  {
   "cell_type": "code",
   "execution_count": 67,
   "metadata": {},
   "outputs": [
    {
     "data": {
      "text/plain": [
       "0.632"
      ]
     },
     "execution_count": 67,
     "metadata": {},
     "output_type": "execute_result"
    }
   ],
   "source": [
    "accuracy_score(test_y, predictions_logreg)"
   ]
  },
  {
   "cell_type": "code",
   "execution_count": 68,
   "metadata": {},
   "outputs": [
    {
     "data": {
      "text/plain": [
       "array([0.62135922, 0.68181818])"
      ]
     },
     "execution_count": 68,
     "metadata": {},
     "output_type": "execute_result"
    }
   ],
   "source": [
    "recall_logreg = recall_score(test_y, predictions_logreg, average=None)\n",
    "recall_logreg"
   ]
  },
  {
   "cell_type": "code",
   "execution_count": 69,
   "metadata": {},
   "outputs": [
    {
     "data": {
      "text/plain": [
       "array([0.90140845, 0.27777778])"
      ]
     },
     "execution_count": 69,
     "metadata": {},
     "output_type": "execute_result"
    }
   ],
   "source": [
    "prec_logreg = precision_score(test_y, predictions_logreg, average=None)\n",
    "prec_logreg"
   ]
  },
  {
   "cell_type": "code",
   "execution_count": 70,
   "metadata": {
    "scrolled": false
   },
   "outputs": [
    {
     "data": {
      "text/plain": [
       "array([[128,  78],\n",
       "       [ 14,  30]], dtype=int64)"
      ]
     },
     "execution_count": 70,
     "metadata": {},
     "output_type": "execute_result"
    }
   ],
   "source": [
    "confusion_matrix(test_y, predictions_logreg)"
   ]
  },
  {
   "cell_type": "markdown",
   "metadata": {},
   "source": [
    "The results of logistic regression suggest that there have to be some more variables to predict satisfaction with health (low recall means that many \"positives\" are missed). However, with that model we can be quite sure that when it predicts that a person is satisfied with health, he really is (high precision for class 1)."
   ]
  },
  {
   "cell_type": "markdown",
   "metadata": {},
   "source": [
    "#### Random Forest Classifier"
   ]
  },
  {
   "cell_type": "code",
   "execution_count": 71,
   "metadata": {},
   "outputs": [],
   "source": [
    "np.random.seed(0)\n",
    "rf = RandomForestClassifier().fit(train_X, train_y)\n",
    "predictions_rf = rf.predict(test_X)"
   ]
  },
  {
   "cell_type": "code",
   "execution_count": 72,
   "metadata": {},
   "outputs": [
    {
     "data": {
      "text/plain": [
       "0.768"
      ]
     },
     "execution_count": 72,
     "metadata": {},
     "output_type": "execute_result"
    }
   ],
   "source": [
    "#Accuracy takes both classes together into account, so it actually doesn't tell us how well the model predicts classes 1 and 2\n",
    "accuracy_score(test_y, predictions_rf)"
   ]
  },
  {
   "cell_type": "code",
   "execution_count": 73,
   "metadata": {},
   "outputs": [
    {
     "data": {
      "text/plain": [
       "array([0.88349515, 0.22727273])"
      ]
     },
     "execution_count": 73,
     "metadata": {},
     "output_type": "execute_result"
    }
   ],
   "source": [
    "#Recall is the number of true positives divided by the number of positive values in the test data (=sensitivity or hit rate)\n",
    "recall_rf = recall_score(test_y, predictions_rf, average=None)\n",
    "recall_rf"
   ]
  },
  {
   "cell_type": "code",
   "execution_count": 74,
   "metadata": {},
   "outputs": [
    {
     "data": {
      "text/plain": [
       "array([0.84259259, 0.29411765])"
      ]
     },
     "execution_count": 74,
     "metadata": {},
     "output_type": "execute_result"
    }
   ],
   "source": [
    "#Precision is the ability of the classifier not to label a negative sample as positive (=correctly predicted as positive/actually positive)\n",
    "prec_rf = precision_score(test_y, predictions_rf, average=None)\n",
    "prec_rf"
   ]
  },
  {
   "cell_type": "code",
   "execution_count": 75,
   "metadata": {},
   "outputs": [
    {
     "data": {
      "text/plain": [
       "array([[182,  24],\n",
       "       [ 34,  10]], dtype=int64)"
      ]
     },
     "execution_count": 75,
     "metadata": {},
     "output_type": "execute_result"
    }
   ],
   "source": [
    "confusion_matrix(test_y, predictions_rf)  #real labels in rows, predicted labels in columns"
   ]
  },
  {
   "cell_type": "code",
   "execution_count": 76,
   "metadata": {
    "scrolled": true
   },
   "outputs": [
    {
     "data": {
      "text/plain": [
       "[('Age', 0.15),\n",
       " ('Gender', 0.02),\n",
       " ('BMI', 0.24),\n",
       " ('Sedentary_prop', 0.21),\n",
       " ('Light_prop', 0.19),\n",
       " ('MVPA_prop', 0.2)]"
      ]
     },
     "execution_count": 76,
     "metadata": {},
     "output_type": "execute_result"
    }
   ],
   "source": [
    "#importances that Random Forest model gives to predictor variables\n",
    "[(train_X.columns[i], round(rf.feature_importances_[i], 2)) for i in range(0, len(rf.feature_importances_))]"
   ]
  },
  {
   "cell_type": "markdown",
   "metadata": {},
   "source": [
    "Random Forest model gives 88% recall for \"satisfied with health\" when predicting it from 6 variables. The most important predictor is still BMI but now the model also takes into account the age of the person, and the proportion of time he/she spends on different levels of activity during the day. Gender has almost no impact in the model."
   ]
  },
  {
   "cell_type": "markdown",
   "metadata": {},
   "source": [
    "#### Ensemble classification"
   ]
  },
  {
   "cell_type": "code",
   "execution_count": 77,
   "metadata": {},
   "outputs": [],
   "source": [
    "#Majority vote ensemble of three models with different predictor variables\n",
    "np.random_seed = 0\n",
    "\n",
    "model1 = DecisionTreeClassifier(max_depth=1)\n",
    "model2 = KNeighborsClassifier(n_neighbors=3)\n",
    "model3 = LogisticRegression()\n",
    "\n",
    "model1.fit(np.array(train_X['BMI']).reshape(-1, 1), train_y)\n",
    "model2.fit(train_X, train_y)\n",
    "model3.fit(train_X[['BMI', 'Age', 'MVPA_prop']], train_y)\n",
    "\n",
    "model1_pred = model1.predict(np.array(test_X['BMI']).reshape(-1, 1))\n",
    "model2_pred = model2.predict(test_X)\n",
    "model3_pred = model3.predict(test_X[['BMI', 'Age', 'MVPA_prop']])"
   ]
  },
  {
   "cell_type": "code",
   "execution_count": 78,
   "metadata": {},
   "outputs": [
    {
     "data": {
      "text/html": [
       "<div>\n",
       "<style scoped>\n",
       "    .dataframe tbody tr th:only-of-type {\n",
       "        vertical-align: middle;\n",
       "    }\n",
       "\n",
       "    .dataframe tbody tr th {\n",
       "        vertical-align: top;\n",
       "    }\n",
       "\n",
       "    .dataframe thead th {\n",
       "        text-align: right;\n",
       "    }\n",
       "</style>\n",
       "<table border=\"1\" class=\"dataframe\">\n",
       "  <thead>\n",
       "    <tr style=\"text-align: right;\">\n",
       "      <th></th>\n",
       "      <th>model1</th>\n",
       "      <th>model2</th>\n",
       "      <th>model3</th>\n",
       "      <th>ensemble</th>\n",
       "    </tr>\n",
       "  </thead>\n",
       "  <tbody>\n",
       "    <tr>\n",
       "      <th>0</th>\n",
       "      <td>1</td>\n",
       "      <td>1</td>\n",
       "      <td>1</td>\n",
       "      <td>1</td>\n",
       "    </tr>\n",
       "    <tr>\n",
       "      <th>1</th>\n",
       "      <td>1</td>\n",
       "      <td>1</td>\n",
       "      <td>2</td>\n",
       "      <td>1</td>\n",
       "    </tr>\n",
       "    <tr>\n",
       "      <th>2</th>\n",
       "      <td>1</td>\n",
       "      <td>2</td>\n",
       "      <td>1</td>\n",
       "      <td>1</td>\n",
       "    </tr>\n",
       "    <tr>\n",
       "      <th>3</th>\n",
       "      <td>1</td>\n",
       "      <td>1</td>\n",
       "      <td>1</td>\n",
       "      <td>1</td>\n",
       "    </tr>\n",
       "    <tr>\n",
       "      <th>4</th>\n",
       "      <td>2</td>\n",
       "      <td>2</td>\n",
       "      <td>2</td>\n",
       "      <td>2</td>\n",
       "    </tr>\n",
       "  </tbody>\n",
       "</table>\n",
       "</div>"
      ],
      "text/plain": [
       "   model1  model2  model3  ensemble\n",
       "0       1       1       1         1\n",
       "1       1       1       2         1\n",
       "2       1       2       1         1\n",
       "3       1       1       1         1\n",
       "4       2       2       2         2"
      ]
     },
     "execution_count": 78,
     "metadata": {},
     "output_type": "execute_result"
    }
   ],
   "source": [
    "predictions = pd.DataFrame({'model1': model1_pred, 'model2': model2_pred, 'model3': model3_pred})\n",
    "predictions['ensemble'] = predictions[['model1', 'model2', 'model3']].mode(axis = 1)  #most popular prediction is chosen\n",
    "\n",
    "predictions.head()"
   ]
  },
  {
   "cell_type": "code",
   "execution_count": 79,
   "metadata": {},
   "outputs": [
    {
     "data": {
      "text/plain": [
       "0.732"
      ]
     },
     "execution_count": 79,
     "metadata": {},
     "output_type": "execute_result"
    }
   ],
   "source": [
    "#Accuracy takes both classes together into account, so it actually doesn't tell us how well the model predicts classes 1 and 2\n",
    "accuracy_score(test_y, predictions['ensemble'])"
   ]
  },
  {
   "cell_type": "code",
   "execution_count": 80,
   "metadata": {},
   "outputs": [
    {
     "data": {
      "text/plain": [
       "array([0.79126214, 0.45454545])"
      ]
     },
     "execution_count": 80,
     "metadata": {},
     "output_type": "execute_result"
    }
   ],
   "source": [
    "#Recall is the number of true positives divided by the number of positive values in the test data (=sensitivity)\n",
    "recall_ens = recall_score(test_y, predictions['ensemble'], average=None)\n",
    "recall_ens"
   ]
  },
  {
   "cell_type": "code",
   "execution_count": 81,
   "metadata": {},
   "outputs": [
    {
     "data": {
      "text/plain": [
       "array([0.87165775, 0.31746032])"
      ]
     },
     "execution_count": 81,
     "metadata": {},
     "output_type": "execute_result"
    }
   ],
   "source": [
    "prec_ens = precision_score(test_y, predictions['ensemble'], average=None)\n",
    "prec_ens"
   ]
  },
  {
   "cell_type": "code",
   "execution_count": 82,
   "metadata": {},
   "outputs": [
    {
     "data": {
      "text/plain": [
       "array([[163,  43],\n",
       "       [ 24,  20]], dtype=int64)"
      ]
     },
     "execution_count": 82,
     "metadata": {},
     "output_type": "execute_result"
    }
   ],
   "source": [
    "confusion_matrix(test_y, predictions['ensemble'])  #real labels in rows, predicted labels in columns"
   ]
  },
  {
   "cell_type": "code",
   "execution_count": 83,
   "metadata": {
    "scrolled": true
   },
   "outputs": [
    {
     "name": "stdout",
     "output_type": "stream",
     "text": [
      "\n",
      "Results for predicting whether a person is satisfied with his or her health\n",
      "\n",
      "Recall and precision scores for different models\n",
      "------------------------------------------------\n",
      "Decision Tree with max depth 1: recall 0.83 and precision 0.86\n",
      "Random Forest: recall 0.88 and precision 0.84\n",
      "KNN with 3 neighbours: recall 0.73 and precision 0.85\n",
      "Logistic Regression: recall 0.62 and precision 0.9\n",
      "Majority vote ensemble of Decision Tree, KNN and Logistic Regression: recall 0.79 and precision 0.87\n",
      "\n",
      "Predicting whether a person is not satisfied with his or health failed.\n",
      "\n"
     ]
    }
   ],
   "source": [
    "print(f'''\n",
    "Results for predicting whether a person is satisfied with his or her health\n",
    "\n",
    "Recall and precision scores for different models\n",
    "------------------------------------------------\n",
    "Decision Tree with max depth 1: recall {round(recall_dt[0], 2)} and precision {round(prec_dt[0], 2)}\n",
    "Random Forest: recall {round(recall_rf[0], 2)} and precision {round(prec_rf[0], 2)}\n",
    "KNN with 3 neighbours: recall {round(recall_knn[0], 2)} and precision {round(prec_knn[0], 2)}\n",
    "Logistic Regression: recall {round(recall_logreg[0], 2)} and precision {round(prec_logreg[0], 2)}\n",
    "Majority vote ensemble of Decision Tree, KNN and Logistic Regression: recall {round(recall_ens[0], 2)} and precision {round(prec_ens[0], 2)}\n",
    "\n",
    "Predicting whether a person is not satisfied with his or health failed.\n",
    "'''\n",
    ")"
   ]
  },
  {
   "cell_type": "markdown",
   "metadata": {},
   "source": [
    "We got the best hit rate of predicting whether a person is satisfied with health with random forest (88%) that takes into account age, gender, BMI, and proportions of day that is spent on light or moderate to vigorous physical activity, or being sedentary. The precision is 84% with this model. However, the simplest model of decision tree gives similar results with only BMI as predictor."
   ]
  },
  {
   "cell_type": "markdown",
   "metadata": {},
   "source": [
    "### Try other predictions with our dataset"
   ]
  },
  {
   "cell_type": "markdown",
   "metadata": {},
   "source": [
    "Our main work were to predict the health's satisfaction. During the exploration of data, we were led to test simple models to predict why not the age or BMI of participants. While this operation is actually irrelevant, it can show how our data reacts to simple machine learning models."
   ]
  },
  {
   "cell_type": "code",
   "execution_count": 12,
   "metadata": {
    "scrolled": true
   },
   "outputs": [
    {
     "data": {
      "text/html": [
       "<div>\n",
       "<style scoped>\n",
       "    .dataframe tbody tr th:only-of-type {\n",
       "        vertical-align: middle;\n",
       "    }\n",
       "\n",
       "    .dataframe tbody tr th {\n",
       "        vertical-align: top;\n",
       "    }\n",
       "\n",
       "    .dataframe thead th {\n",
       "        text-align: right;\n",
       "    }\n",
       "</style>\n",
       "<table border=\"1\" class=\"dataframe\">\n",
       "  <thead>\n",
       "    <tr style=\"text-align: right;\">\n",
       "      <th></th>\n",
       "      <th>Subject</th>\n",
       "      <th>Sedentary_min</th>\n",
       "      <th>Light_min</th>\n",
       "      <th>MVPA_min</th>\n",
       "      <th>N_of_days_with_30minMVPA</th>\n",
       "      <th>N_of_days_with_60minMVPA</th>\n",
       "      <th>N_measurement_days</th>\n",
       "      <th>Profession</th>\n",
       "      <th>Age</th>\n",
       "      <th>Gender</th>\n",
       "      <th>HowOftenDoRecreationalSportAtLeast30min</th>\n",
       "      <th>ActiveTransportPerDay_min</th>\n",
       "      <th>SatisfactionWithHealth</th>\n",
       "      <th>Weight_kg</th>\n",
       "      <th>Height_cm</th>\n",
       "      <th>BMI</th>\n",
       "      <th>SatisfactionWithJob</th>\n",
       "      <th>School</th>\n",
       "      <th>County</th>\n",
       "    </tr>\n",
       "  </thead>\n",
       "  <tbody>\n",
       "    <tr>\n",
       "      <th>0</th>\n",
       "      <td>19001</td>\n",
       "      <td>776.84375</td>\n",
       "      <td>258.93750</td>\n",
       "      <td>31.18750</td>\n",
       "      <td>2</td>\n",
       "      <td>1</td>\n",
       "      <td>8</td>\n",
       "      <td>1</td>\n",
       "      <td>44.0</td>\n",
       "      <td>2.0</td>\n",
       "      <td>6.0</td>\n",
       "      <td>20.0</td>\n",
       "      <td>1.0</td>\n",
       "      <td>77.0</td>\n",
       "      <td>175.0</td>\n",
       "      <td>25.1</td>\n",
       "      <td>1.0</td>\n",
       "      <td>27</td>\n",
       "      <td>12</td>\n",
       "    </tr>\n",
       "    <tr>\n",
       "      <th>1</th>\n",
       "      <td>19002</td>\n",
       "      <td>695.34375</td>\n",
       "      <td>223.40625</td>\n",
       "      <td>36.50000</td>\n",
       "      <td>4</td>\n",
       "      <td>2</td>\n",
       "      <td>8</td>\n",
       "      <td>1</td>\n",
       "      <td>53.0</td>\n",
       "      <td>2.0</td>\n",
       "      <td>1.0</td>\n",
       "      <td>65.0</td>\n",
       "      <td>2.0</td>\n",
       "      <td>79.0</td>\n",
       "      <td>159.0</td>\n",
       "      <td>31.2</td>\n",
       "      <td>1.0</td>\n",
       "      <td>27</td>\n",
       "      <td>12</td>\n",
       "    </tr>\n",
       "    <tr>\n",
       "      <th>2</th>\n",
       "      <td>19004</td>\n",
       "      <td>623.09375</td>\n",
       "      <td>166.09375</td>\n",
       "      <td>128.40625</td>\n",
       "      <td>8</td>\n",
       "      <td>7</td>\n",
       "      <td>8</td>\n",
       "      <td>0</td>\n",
       "      <td>56.0</td>\n",
       "      <td>2.0</td>\n",
       "      <td>1.0</td>\n",
       "      <td>90.0</td>\n",
       "      <td>1.0</td>\n",
       "      <td>62.0</td>\n",
       "      <td>165.0</td>\n",
       "      <td>22.8</td>\n",
       "      <td>1.0</td>\n",
       "      <td>27</td>\n",
       "      <td>12</td>\n",
       "    </tr>\n",
       "    <tr>\n",
       "      <th>3</th>\n",
       "      <td>19005</td>\n",
       "      <td>405.00000</td>\n",
       "      <td>178.00000</td>\n",
       "      <td>24.75000</td>\n",
       "      <td>2</td>\n",
       "      <td>0</td>\n",
       "      <td>3</td>\n",
       "      <td>1</td>\n",
       "      <td>28.0</td>\n",
       "      <td>2.0</td>\n",
       "      <td>3.0</td>\n",
       "      <td>60.0</td>\n",
       "      <td>1.0</td>\n",
       "      <td>75.0</td>\n",
       "      <td>176.0</td>\n",
       "      <td>24.2</td>\n",
       "      <td>1.0</td>\n",
       "      <td>27</td>\n",
       "      <td>12</td>\n",
       "    </tr>\n",
       "    <tr>\n",
       "      <th>4</th>\n",
       "      <td>19006</td>\n",
       "      <td>614.56250</td>\n",
       "      <td>238.62500</td>\n",
       "      <td>69.12500</td>\n",
       "      <td>7</td>\n",
       "      <td>5</td>\n",
       "      <td>8</td>\n",
       "      <td>1</td>\n",
       "      <td>30.0</td>\n",
       "      <td>2.0</td>\n",
       "      <td>5.0</td>\n",
       "      <td>60.0</td>\n",
       "      <td>1.0</td>\n",
       "      <td>80.0</td>\n",
       "      <td>177.0</td>\n",
       "      <td>25.5</td>\n",
       "      <td>1.0</td>\n",
       "      <td>27</td>\n",
       "      <td>12</td>\n",
       "    </tr>\n",
       "  </tbody>\n",
       "</table>\n",
       "</div>"
      ],
      "text/plain": [
       "   Subject  Sedentary_min  Light_min   MVPA_min  N_of_days_with_30minMVPA  \\\n",
       "0    19001      776.84375  258.93750   31.18750                         2   \n",
       "1    19002      695.34375  223.40625   36.50000                         4   \n",
       "2    19004      623.09375  166.09375  128.40625                         8   \n",
       "3    19005      405.00000  178.00000   24.75000                         2   \n",
       "4    19006      614.56250  238.62500   69.12500                         7   \n",
       "\n",
       "   N_of_days_with_60minMVPA  N_measurement_days  Profession   Age  Gender   \\\n",
       "0                         1                   8           1  44.0      2.0   \n",
       "1                         2                   8           1  53.0      2.0   \n",
       "2                         7                   8           0  56.0      2.0   \n",
       "3                         0                   3           1  28.0      2.0   \n",
       "4                         5                   8           1  30.0      2.0   \n",
       "\n",
       "   HowOftenDoRecreationalSportAtLeast30min  ActiveTransportPerDay_min  \\\n",
       "0                                      6.0                       20.0   \n",
       "1                                      1.0                       65.0   \n",
       "2                                      1.0                       90.0   \n",
       "3                                      3.0                       60.0   \n",
       "4                                      5.0                       60.0   \n",
       "\n",
       "   SatisfactionWithHealth  Weight_kg  Height_cm   BMI  SatisfactionWithJob  \\\n",
       "0                     1.0       77.0      175.0  25.1                  1.0   \n",
       "1                     2.0       79.0      159.0  31.2                  1.0   \n",
       "2                     1.0       62.0      165.0  22.8                  1.0   \n",
       "3                     1.0       75.0      176.0  24.2                  1.0   \n",
       "4                     1.0       80.0      177.0  25.5                  1.0   \n",
       "\n",
       "   School  County  \n",
       "0      27      12  \n",
       "1      27      12  \n",
       "2      27      12  \n",
       "3      27      12  \n",
       "4      27      12  "
      ]
     },
     "execution_count": 12,
     "metadata": {},
     "output_type": "execute_result"
    }
   ],
   "source": [
    "#We re-read the data from scratch\n",
    "data = pd.read_excel('ML_database_TeachersAndAdmin.xlsx', sheet_name='ML_database')\n",
    "data = data.dropna(how = 'any', axis = 'rows')\n",
    "\n",
    "#Then, the goal is to pass any 'string' columns into numbers\n",
    "from sklearn.preprocessing import LabelEncoder\n",
    "cols = data.dtypes[data.dtypes == 'O'].index #Here, we detect what columns contains string\n",
    "\n",
    "label = LabelEncoder()\n",
    "for col in cols:\n",
    "    data[col] = label.fit(data[col]).transform(data[col])#Here, we replace all the string with number, according to the library LabelEncoder()\n",
    "\n",
    "data.head()"
   ]
  },
  {
   "cell_type": "markdown",
   "metadata": {},
   "source": [
    "We split the data into train and test. Here, we are going to split it and try to predict the age of each subject."
   ]
  },
  {
   "cell_type": "code",
   "execution_count": 16,
   "metadata": {},
   "outputs": [],
   "source": [
    "from sklearn.model_selection import train_test_split\n",
    "train_X, val_X, train_y, val_y = train_test_split(data.drop(['Age'],axis = 1), data['Age'], \n",
    "                                                      random_state = 1111, \n",
    "                                                      test_size = 0.30) # you can also explicitely say how many observations will be in the validation set"
   ]
  },
  {
   "cell_type": "code",
   "execution_count": 14,
   "metadata": {},
   "outputs": [],
   "source": [
    "from sklearn.tree import DecisionTreeRegressor\n",
    "from sklearn.ensemble import RandomForestClassifier\n",
    "from sklearn.ensemble import GradientBoostingClassifier\n",
    "from sklearn.svm import SVC\n",
    "from sklearn.neighbors import KNeighborsClassifier\n",
    "\n",
    "from sklearn.metrics import mean_squared_error, confusion_matrix, accuracy_score, classification_report, recall_score"
   ]
  },
  {
   "cell_type": "markdown",
   "metadata": {},
   "source": [
    "Now, we are applying some GBoost model to our prediction of the age of the participants"
   ]
  },
  {
   "cell_type": "code",
   "execution_count": 15,
   "metadata": {},
   "outputs": [
    {
     "name": "stdout",
     "output_type": "stream",
     "text": [
      "[39. 50. 45. 40. 29. 51. 51. 39. 44. 61. 59. 32. 43. 50. 39. 41. 40. 62.\n",
      " 52. 60. 39. 39. 50. 61. 45. 40. 40. 61. 39. 54. 57. 39. 58. 57. 39. 26.\n",
      " 50. 26. 23. 55. 50. 64. 60. 31. 31. 69. 40. 39. 40. 49. 50. 45. 39. 39.\n",
      " 57. 39. 53. 31. 56. 50. 27. 45. 67. 52. 59. 34. 24. 62. 64. 26. 65. 57.\n",
      " 43. 26. 61. 25. 39. 60. 39. 69. 35. 39. 24. 44. 49. 49. 21. 48. 61. 29.\n",
      " 41. 31. 45. 37. 61. 55. 45. 66. 25. 30. 55. 57. 41. 44. 50. 24. 24. 57.\n",
      " 34. 24. 50. 50. 62. 39. 25. 51. 38. 46. 29. 45. 39. 39. 21. 33. 55. 49.\n",
      " 39. 39. 45. 45. 39. 24. 39. 32. 62. 53. 72. 58. 52. 45. 38. 59. 51. 60.\n",
      " 30. 53. 59. 45. 49. 67. 22. 39. 28. 38. 43. 46. 50. 30. 25. 50. 32. 57.\n",
      " 37. 57. 54. 57. 59. 39. 40. 55. 53. 36. 30. 36. 39. 45. 51. 61. 60. 39.\n",
      " 64. 29. 54. 51. 53. 48. 46. 55. 50. 45. 62. 43. 34. 27. 41. 42. 39. 61.\n",
      " 44. 41. 40. 53. 54. 49. 39. 38. 27. 55. 29. 36. 25. 72. 38.]\n",
      "538    29.0\n",
      "483    39.0\n",
      "361    54.0\n",
      "265    26.0\n",
      "856    47.0\n",
      "       ... \n",
      "744    28.0\n",
      "440    35.0\n",
      "646    41.0\n",
      "60     32.0\n",
      "123    60.0\n",
      "Name: Age, Length: 213, dtype: float64\n",
      "0.028169014084507043\n",
      "16.110970805066035\n"
     ]
    }
   ],
   "source": [
    "gboost = GradientBoostingClassifier()\n",
    "gboost.fit(train_X, train_y)\n",
    "predictions = gboost.predict(val_X)\n",
    "print(predictions)\n",
    "print(val_y)\n",
    "print(accuracy_score(val_y,predictions))\n",
    "print(np.sqrt(mean_squared_error(val_y,predictions)))"
   ]
  },
  {
   "cell_type": "markdown",
   "metadata": {},
   "source": [
    "So, as you can see, predicting the age is quite ... not working at all (2% of sucess with GBoost. You will find below some recap of our experimentation. "
   ]
  },
  {
   "cell_type": "code",
   "execution_count": 29,
   "metadata": {},
   "outputs": [
    {
     "name": "stdout",
     "output_type": "stream",
     "text": [
      "[1. 1. 1. 1. 1. 1. 1. 1. 1. 1. 1. 1. 1. 1. 1. 1. 1. 1. 1. 1. 1. 1. 1. 1.\n",
      " 1. 1. 1. 1. 1. 2. 1. 1. 1. 2. 1. 1. 1. 1. 2. 1. 1. 2. 1. 1. 1. 1. 1. 1.\n",
      " 1. 1. 1. 1. 1. 1. 1. 1. 1. 1. 1. 1. 1. 1. 1. 1. 1. 1. 2. 2. 1. 1. 1. 1.\n",
      " 1. 1. 1. 1. 1. 1. 1. 1. 1. 1. 1. 1. 1. 1. 2. 1. 1. 1. 1. 1. 1. 1. 1. 1.\n",
      " 2. 1. 1. 1. 1. 1. 1. 1. 1. 1. 1. 1. 1. 1. 1. 1. 1. 1. 1. 1. 2. 1. 2. 1.\n",
      " 1. 1. 1. 1. 1. 1. 1. 1. 1. 1. 2. 1. 1. 2. 1. 1. 2. 1. 1. 1. 2. 1. 2. 1.\n",
      " 1. 2. 1. 1. 1. 1. 1. 1. 1. 1. 1. 1. 1. 1. 2. 1. 1. 1. 1. 1. 1. 1. 1. 1.\n",
      " 1. 1. 1. 1. 1. 1. 1. 1. 1. 1. 1. 1. 1. 1. 1. 1. 1. 1. 1. 1. 1. 1. 1. 1.\n",
      " 1. 1. 1. 1. 1. 1. 1. 1. 1. 1. 2. 1. 1. 1. 1. 1. 1. 1. 1. 1. 1.]\n",
      "538    2.0\n",
      "483    2.0\n",
      "361    2.0\n",
      "265    1.0\n",
      "856    1.0\n",
      "      ... \n",
      "744    1.0\n",
      "440    1.0\n",
      "646    1.0\n",
      "60     2.0\n",
      "123    1.0\n",
      "Name: SatisfactionWithHealth, Length: 213, dtype: float64\n",
      "0.784037558685446\n",
      "0.47963209687927216\n"
     ]
    }
   ],
   "source": [
    "from sklearn.model_selection import train_test_split\n",
    "to_test = 'SatisfactionWithHealth'\n",
    "train_X, val_X, train_y, val_y = train_test_split(data.drop([to_test ],axis = 1), data[to_test ], \n",
    "                                                      random_state = 1111, \n",
    "                                                      test_size = 0.30)\n",
    "\n",
    "gboost = GradientBoostingClassifier()\n",
    "gboost.fit(train_X, train_y)\n",
    "predictions = gboost.predict(val_X)\n",
    "print(predictions)\n",
    "print(val_y)\n",
    "print(accuracy_score(val_y,predictions))\n",
    "print(np.sqrt(mean_squared_error(val_y,predictions)))"
   ]
  },
  {
   "cell_type": "markdown",
   "metadata": {},
   "source": [
    "We made all our final test we GBoost, because with KNN or RFC or DTC, it was quite similar but less acurate. Here's the result :\n",
    "- Profession : Accuracy of 77% / RMSE of 0.48 -> quite ok to predict\n",
    "- SatisfactionWithHealth : Accuracy of 78% / RMSE of 0.49 -> ok but our prediction from our work above is better\n",
    "- SatisfactionWithJob : Accuracy of 89% / RMSE of 0.62 -> we may reconsider this result because there is maybe too many '1' satisfaction and this prediction isn't valuable\n",
    "- School : Accuracy of 92% / RMSE of 4.01 -> good prediction\n",
    "- County : Accuracy of 97% / RMSE of 1.13 -> really good prediction\n",
    "- N_measurement_days / N_of_days_with_30minMVPA / N_of_days_with_60minMVPA / HowOftenDoRecreationalSportAtLeast30min : accuracy of 40% -> bad prediction"
   ]
  },
  {
   "cell_type": "markdown",
   "metadata": {},
   "source": [
    "So, finally, we can say that :\n",
    "- From this data, we can predict someone's job, satisfaction with health and job with ok precision, and were does the subject comes from with a really good precision.\n",
    "- But we can't predict how many days the subject did 30min or 60min of MVPA, or how often he did recreational sports at least 30 min.\n",
    "\n",
    "As said before, these test are really simple, and can't be used for exploitation in real life, but still worth a shot."
   ]
  },
  {
   "cell_type": "code",
   "execution_count": 106,
   "metadata": {
    "colab": {
     "base_uri": "https://localhost:8080/"
    },
    "id": "dQ0ezc4X36wm",
    "outputId": "1b7521fc-43dc-4850-e1a5-ef3afd8b7190"
   },
   "outputs": [
    {
     "name": "stdout",
     "output_type": "stream",
     "text": [
      "Requirement already satisfied: plotnine in /usr/local/lib/python3.6/dist-packages (0.6.0)\n",
      "Requirement already satisfied: numpy>=1.16.0 in /usr/local/lib/python3.6/dist-packages (from plotnine) (1.18.5)\n",
      "Requirement already satisfied: mizani>=0.6.0 in /usr/local/lib/python3.6/dist-packages (from plotnine) (0.6.0)\n",
      "Requirement already satisfied: scipy>=1.2.0 in /usr/local/lib/python3.6/dist-packages (from plotnine) (1.4.1)\n",
      "Requirement already satisfied: matplotlib>=3.1.1 in /usr/local/lib/python3.6/dist-packages (from plotnine) (3.2.2)\n",
      "Requirement already satisfied: pandas>=0.25.0 in /usr/local/lib/python3.6/dist-packages (from plotnine) (1.1.5)\n",
      "Requirement already satisfied: patsy>=0.4.1 in /usr/local/lib/python3.6/dist-packages (from plotnine) (0.5.1)\n",
      "Requirement already satisfied: statsmodels>=0.9.0 in /usr/local/lib/python3.6/dist-packages (from plotnine) (0.10.2)\n",
      "Requirement already satisfied: descartes>=1.1.0 in /usr/local/lib/python3.6/dist-packages (from plotnine) (1.1.0)\n",
      "Requirement already satisfied: palettable in /usr/local/lib/python3.6/dist-packages (from mizani>=0.6.0->plotnine) (3.3.0)\n",
      "Requirement already satisfied: python-dateutil>=2.1 in /usr/local/lib/python3.6/dist-packages (from matplotlib>=3.1.1->plotnine) (2.8.1)\n",
      "Requirement already satisfied: pyparsing!=2.0.4,!=2.1.2,!=2.1.6,>=2.0.1 in /usr/local/lib/python3.6/dist-packages (from matplotlib>=3.1.1->plotnine) (2.4.7)\n",
      "Requirement already satisfied: kiwisolver>=1.0.1 in /usr/local/lib/python3.6/dist-packages (from matplotlib>=3.1.1->plotnine) (1.3.1)\n",
      "Requirement already satisfied: cycler>=0.10 in /usr/local/lib/python3.6/dist-packages (from matplotlib>=3.1.1->plotnine) (0.10.0)\n",
      "Requirement already satisfied: pytz>=2017.2 in /usr/local/lib/python3.6/dist-packages (from pandas>=0.25.0->plotnine) (2018.9)\n",
      "Requirement already satisfied: six in /usr/local/lib/python3.6/dist-packages (from patsy>=0.4.1->plotnine) (1.15.0)\n"
     ]
    }
   ],
   "source": [
    "import numpy as np \n",
    "import pandas as pd\n",
    "import matplotlib.pyplot as plt\n",
    "from sklearn.model_selection import train_test_split\n",
    "\n",
    "# For plotting like a pro\n",
    "!pip install plotnine\n",
    "from plotnine import *\n",
    "\n",
    "# Ready made stuff lives here:\n",
    "import sklearn\n",
    "from sklearn.neighbors import KNeighborsClassifier\n"
   ]
  },
  {
   "cell_type": "markdown",
   "metadata": {
    "id": "R-mJ6F91n0YV"
   },
   "source": [
    "I use dataframe, where Satisfaction with Health is binary (0- Satisfied; 1 - dissatisfied)\n"
   ]
  },
  {
   "cell_type": "markdown",
   "metadata": {},
   "source": [
    "### Other models for predicting health satisfaction"
   ]
  },
  {
   "cell_type": "code",
   "execution_count": 107,
   "metadata": {
    "colab": {
     "base_uri": "https://localhost:8080/",
     "height": 226
    },
    "id": "Jd-jfhVW4eSX",
    "outputId": "77815326-0dbb-40e6-9822-c1e2a05d7b7e"
   },
   "outputs": [
    {
     "data": {
      "text/html": [
       "<div>\n",
       "<style scoped>\n",
       "    .dataframe tbody tr th:only-of-type {\n",
       "        vertical-align: middle;\n",
       "    }\n",
       "\n",
       "    .dataframe tbody tr th {\n",
       "        vertical-align: top;\n",
       "    }\n",
       "\n",
       "    .dataframe thead th {\n",
       "        text-align: right;\n",
       "    }\n",
       "</style>\n",
       "<table border=\"1\" class=\"dataframe\">\n",
       "  <thead>\n",
       "    <tr style=\"text-align: right;\">\n",
       "      <th></th>\n",
       "      <th>Subject</th>\n",
       "      <th>Sedentary_min</th>\n",
       "      <th>Light_min</th>\n",
       "      <th>MVPA_min</th>\n",
       "      <th>N_of_days_with_30minMVPA</th>\n",
       "      <th>N_of_days_with_60minMVPA</th>\n",
       "      <th>N_measurement_days</th>\n",
       "      <th>Profession</th>\n",
       "      <th>Age</th>\n",
       "      <th>Sex</th>\n",
       "      <th>HowOftenDoRecreationalSportAtLeast30min</th>\n",
       "      <th>ActiveTransportPerDay_min</th>\n",
       "      <th>SatisfactionWithHealth</th>\n",
       "      <th>Weight_kg</th>\n",
       "      <th>Height_cm</th>\n",
       "      <th>BMI</th>\n",
       "      <th>SatisfactionWithJob</th>\n",
       "      <th>School</th>\n",
       "      <th>County</th>\n",
       "    </tr>\n",
       "  </thead>\n",
       "  <tbody>\n",
       "    <tr>\n",
       "      <th>0</th>\n",
       "      <td>19001</td>\n",
       "      <td>777</td>\n",
       "      <td>259</td>\n",
       "      <td>31</td>\n",
       "      <td>2</td>\n",
       "      <td>1</td>\n",
       "      <td>8</td>\n",
       "      <td>Teacher</td>\n",
       "      <td>44.0</td>\n",
       "      <td>2</td>\n",
       "      <td>6.0</td>\n",
       "      <td>20.0</td>\n",
       "      <td>0</td>\n",
       "      <td>77.0</td>\n",
       "      <td>175.0</td>\n",
       "      <td>25.1</td>\n",
       "      <td>1.0</td>\n",
       "      <td>School34</td>\n",
       "      <td>TartuCity</td>\n",
       "    </tr>\n",
       "    <tr>\n",
       "      <th>1</th>\n",
       "      <td>19002</td>\n",
       "      <td>695</td>\n",
       "      <td>223</td>\n",
       "      <td>37</td>\n",
       "      <td>4</td>\n",
       "      <td>2</td>\n",
       "      <td>8</td>\n",
       "      <td>Teacher</td>\n",
       "      <td>53.0</td>\n",
       "      <td>2</td>\n",
       "      <td>1.0</td>\n",
       "      <td>65.0</td>\n",
       "      <td>1</td>\n",
       "      <td>79.0</td>\n",
       "      <td>159.0</td>\n",
       "      <td>31.2</td>\n",
       "      <td>1.0</td>\n",
       "      <td>School34</td>\n",
       "      <td>TartuCity</td>\n",
       "    </tr>\n",
       "    <tr>\n",
       "      <th>2</th>\n",
       "      <td>19004</td>\n",
       "      <td>623</td>\n",
       "      <td>166</td>\n",
       "      <td>128</td>\n",
       "      <td>8</td>\n",
       "      <td>7</td>\n",
       "      <td>8</td>\n",
       "      <td>Administration</td>\n",
       "      <td>56.0</td>\n",
       "      <td>2</td>\n",
       "      <td>1.0</td>\n",
       "      <td>90.0</td>\n",
       "      <td>0</td>\n",
       "      <td>62.0</td>\n",
       "      <td>165.0</td>\n",
       "      <td>22.8</td>\n",
       "      <td>1.0</td>\n",
       "      <td>School34</td>\n",
       "      <td>TartuCity</td>\n",
       "    </tr>\n",
       "    <tr>\n",
       "      <th>3</th>\n",
       "      <td>19005</td>\n",
       "      <td>405</td>\n",
       "      <td>178</td>\n",
       "      <td>25</td>\n",
       "      <td>2</td>\n",
       "      <td>0</td>\n",
       "      <td>3</td>\n",
       "      <td>Teacher</td>\n",
       "      <td>28.0</td>\n",
       "      <td>2</td>\n",
       "      <td>3.0</td>\n",
       "      <td>60.0</td>\n",
       "      <td>0</td>\n",
       "      <td>75.0</td>\n",
       "      <td>176.0</td>\n",
       "      <td>24.2</td>\n",
       "      <td>1.0</td>\n",
       "      <td>School34</td>\n",
       "      <td>TartuCity</td>\n",
       "    </tr>\n",
       "    <tr>\n",
       "      <th>4</th>\n",
       "      <td>19006</td>\n",
       "      <td>615</td>\n",
       "      <td>239</td>\n",
       "      <td>69</td>\n",
       "      <td>7</td>\n",
       "      <td>5</td>\n",
       "      <td>8</td>\n",
       "      <td>Teacher</td>\n",
       "      <td>30.0</td>\n",
       "      <td>2</td>\n",
       "      <td>5.0</td>\n",
       "      <td>60.0</td>\n",
       "      <td>0</td>\n",
       "      <td>80.0</td>\n",
       "      <td>177.0</td>\n",
       "      <td>25.5</td>\n",
       "      <td>1.0</td>\n",
       "      <td>School34</td>\n",
       "      <td>TartuCity</td>\n",
       "    </tr>\n",
       "  </tbody>\n",
       "</table>\n",
       "</div>"
      ],
      "text/plain": [
       "   Subject  Sedentary_min  Light_min  ...  SatisfactionWithJob    School     County\n",
       "0    19001            777        259  ...                  1.0  School34  TartuCity\n",
       "1    19002            695        223  ...                  1.0  School34  TartuCity\n",
       "2    19004            623        166  ...                  1.0  School34  TartuCity\n",
       "3    19005            405        178  ...                  1.0  School34  TartuCity\n",
       "4    19006            615        239  ...                  1.0  School34  TartuCity\n",
       "\n",
       "[5 rows x 19 columns]"
      ]
     },
     "execution_count": 107,
     "metadata": {
      "tags": []
     },
     "output_type": "execute_result"
    }
   ],
   "source": [
    "df = pd.read_csv('ML_database_TeachersAndAdmin_2nerahulolu.csv')\n",
    "df.head()"
   ]
  },
  {
   "cell_type": "code",
   "execution_count": 3,
   "metadata": {
    "colab": {
     "base_uri": "https://localhost:8080/"
    },
    "id": "h4fYJihbmUhk",
    "outputId": "84a9b081-8b2d-4501-9308-11b2c8b349e0"
   },
   "outputs": [
    {
     "name": "stdout",
     "output_type": "stream",
     "text": [
      "Mounted at /content/gdrive\n"
     ]
    }
   ],
   "source": [
    "drive.mount('/content/gdrive')"
   ]
  },
  {
   "cell_type": "code",
   "execution_count": 4,
   "metadata": {
    "id": "BqLHji4wTUo2"
   },
   "outputs": [],
   "source": [
    "d = pd.read_excel('gdrive/My Drive/Colab Notebooks/ML_data2.xlsx')"
   ]
  },
  {
   "cell_type": "code",
   "execution_count": 5,
   "metadata": {
    "colab": {
     "base_uri": "https://localhost:8080/",
     "height": 439
    },
    "id": "k-0ZOQcv3cWm",
    "outputId": "6a39912d-2bd3-4fb5-d90b-d9a86c83ba2e"
   },
   "outputs": [
    {
     "data": {
      "text/html": [
       "<div>\n",
       "<style scoped>\n",
       "    .dataframe tbody tr th:only-of-type {\n",
       "        vertical-align: middle;\n",
       "    }\n",
       "\n",
       "    .dataframe tbody tr th {\n",
       "        vertical-align: top;\n",
       "    }\n",
       "\n",
       "    .dataframe thead th {\n",
       "        text-align: right;\n",
       "    }\n",
       "</style>\n",
       "<table border=\"1\" class=\"dataframe\">\n",
       "  <thead>\n",
       "    <tr style=\"text-align: right;\">\n",
       "      <th></th>\n",
       "      <th>Subject</th>\n",
       "      <th>Sedentary_min</th>\n",
       "      <th>Light_min</th>\n",
       "      <th>MVPA_min</th>\n",
       "      <th>N_of_days_with_30minMVPA</th>\n",
       "      <th>N_of_days_with_60minMVPA</th>\n",
       "      <th>N_measurement_days</th>\n",
       "      <th>Profession</th>\n",
       "      <th>Age</th>\n",
       "      <th>Gender</th>\n",
       "      <th>HowOftenDoRecreationalSportAtLeast30min</th>\n",
       "      <th>ActiveTransportPerDay_min</th>\n",
       "      <th>SatisfactionWithHealth</th>\n",
       "      <th>Weight_kg</th>\n",
       "      <th>Height_cm</th>\n",
       "      <th>BMI</th>\n",
       "      <th>SatisfactionWithJob</th>\n",
       "      <th>School</th>\n",
       "      <th>County</th>\n",
       "    </tr>\n",
       "  </thead>\n",
       "  <tbody>\n",
       "    <tr>\n",
       "      <th>0</th>\n",
       "      <td>19001</td>\n",
       "      <td>776.843750</td>\n",
       "      <td>258.937500</td>\n",
       "      <td>31.187500</td>\n",
       "      <td>2</td>\n",
       "      <td>1</td>\n",
       "      <td>8</td>\n",
       "      <td>Teacher</td>\n",
       "      <td>44.0</td>\n",
       "      <td>2.0</td>\n",
       "      <td>6.0</td>\n",
       "      <td>20.0</td>\n",
       "      <td>1.0</td>\n",
       "      <td>77.0</td>\n",
       "      <td>175.0</td>\n",
       "      <td>25.1</td>\n",
       "      <td>1.0</td>\n",
       "      <td>School34</td>\n",
       "      <td>TartuCity</td>\n",
       "    </tr>\n",
       "    <tr>\n",
       "      <th>1</th>\n",
       "      <td>19002</td>\n",
       "      <td>695.343750</td>\n",
       "      <td>223.406250</td>\n",
       "      <td>36.500000</td>\n",
       "      <td>4</td>\n",
       "      <td>2</td>\n",
       "      <td>8</td>\n",
       "      <td>Teacher</td>\n",
       "      <td>53.0</td>\n",
       "      <td>2.0</td>\n",
       "      <td>1.0</td>\n",
       "      <td>65.0</td>\n",
       "      <td>2.0</td>\n",
       "      <td>79.0</td>\n",
       "      <td>159.0</td>\n",
       "      <td>31.2</td>\n",
       "      <td>1.0</td>\n",
       "      <td>School34</td>\n",
       "      <td>TartuCity</td>\n",
       "    </tr>\n",
       "    <tr>\n",
       "      <th>2</th>\n",
       "      <td>19004</td>\n",
       "      <td>623.093750</td>\n",
       "      <td>166.093750</td>\n",
       "      <td>128.406250</td>\n",
       "      <td>8</td>\n",
       "      <td>7</td>\n",
       "      <td>8</td>\n",
       "      <td>Administration</td>\n",
       "      <td>56.0</td>\n",
       "      <td>2.0</td>\n",
       "      <td>1.0</td>\n",
       "      <td>90.0</td>\n",
       "      <td>1.0</td>\n",
       "      <td>62.0</td>\n",
       "      <td>165.0</td>\n",
       "      <td>22.8</td>\n",
       "      <td>1.0</td>\n",
       "      <td>School34</td>\n",
       "      <td>TartuCity</td>\n",
       "    </tr>\n",
       "    <tr>\n",
       "      <th>3</th>\n",
       "      <td>19005</td>\n",
       "      <td>405.000000</td>\n",
       "      <td>178.000000</td>\n",
       "      <td>24.750000</td>\n",
       "      <td>2</td>\n",
       "      <td>0</td>\n",
       "      <td>3</td>\n",
       "      <td>Teacher</td>\n",
       "      <td>28.0</td>\n",
       "      <td>2.0</td>\n",
       "      <td>3.0</td>\n",
       "      <td>60.0</td>\n",
       "      <td>1.0</td>\n",
       "      <td>75.0</td>\n",
       "      <td>176.0</td>\n",
       "      <td>24.2</td>\n",
       "      <td>1.0</td>\n",
       "      <td>School34</td>\n",
       "      <td>TartuCity</td>\n",
       "    </tr>\n",
       "    <tr>\n",
       "      <th>4</th>\n",
       "      <td>19006</td>\n",
       "      <td>614.562500</td>\n",
       "      <td>238.625000</td>\n",
       "      <td>69.125000</td>\n",
       "      <td>7</td>\n",
       "      <td>5</td>\n",
       "      <td>8</td>\n",
       "      <td>Teacher</td>\n",
       "      <td>30.0</td>\n",
       "      <td>2.0</td>\n",
       "      <td>5.0</td>\n",
       "      <td>60.0</td>\n",
       "      <td>1.0</td>\n",
       "      <td>80.0</td>\n",
       "      <td>177.0</td>\n",
       "      <td>25.5</td>\n",
       "      <td>1.0</td>\n",
       "      <td>School34</td>\n",
       "      <td>TartuCity</td>\n",
       "    </tr>\n",
       "    <tr>\n",
       "      <th>...</th>\n",
       "      <td>...</td>\n",
       "      <td>...</td>\n",
       "      <td>...</td>\n",
       "      <td>...</td>\n",
       "      <td>...</td>\n",
       "      <td>...</td>\n",
       "      <td>...</td>\n",
       "      <td>...</td>\n",
       "      <td>...</td>\n",
       "      <td>...</td>\n",
       "      <td>...</td>\n",
       "      <td>...</td>\n",
       "      <td>...</td>\n",
       "      <td>...</td>\n",
       "      <td>...</td>\n",
       "      <td>...</td>\n",
       "      <td>...</td>\n",
       "      <td>...</td>\n",
       "      <td>...</td>\n",
       "    </tr>\n",
       "    <tr>\n",
       "      <th>883</th>\n",
       "      <td>20369</td>\n",
       "      <td>735.214286</td>\n",
       "      <td>212.464286</td>\n",
       "      <td>56.964286</td>\n",
       "      <td>6</td>\n",
       "      <td>2</td>\n",
       "      <td>7</td>\n",
       "      <td>Teacher</td>\n",
       "      <td>34.0</td>\n",
       "      <td>2.0</td>\n",
       "      <td>3.0</td>\n",
       "      <td>30.0</td>\n",
       "      <td>1.0</td>\n",
       "      <td>59.0</td>\n",
       "      <td>160.0</td>\n",
       "      <td>23.0</td>\n",
       "      <td>1.0</td>\n",
       "      <td>School22</td>\n",
       "      <td>IdaViru</td>\n",
       "    </tr>\n",
       "    <tr>\n",
       "      <th>884</th>\n",
       "      <td>20371</td>\n",
       "      <td>586.285714</td>\n",
       "      <td>271.035714</td>\n",
       "      <td>85.428571</td>\n",
       "      <td>7</td>\n",
       "      <td>5</td>\n",
       "      <td>7</td>\n",
       "      <td>Teacher</td>\n",
       "      <td>43.0</td>\n",
       "      <td>2.0</td>\n",
       "      <td>2.0</td>\n",
       "      <td>300.0</td>\n",
       "      <td>1.0</td>\n",
       "      <td>71.0</td>\n",
       "      <td>164.0</td>\n",
       "      <td>26.4</td>\n",
       "      <td>1.0</td>\n",
       "      <td>School22</td>\n",
       "      <td>IdaViru</td>\n",
       "    </tr>\n",
       "    <tr>\n",
       "      <th>885</th>\n",
       "      <td>20372</td>\n",
       "      <td>648.107143</td>\n",
       "      <td>300.000000</td>\n",
       "      <td>74.142857</td>\n",
       "      <td>7</td>\n",
       "      <td>5</td>\n",
       "      <td>7</td>\n",
       "      <td>Teacher</td>\n",
       "      <td>33.0</td>\n",
       "      <td>2.0</td>\n",
       "      <td>5.0</td>\n",
       "      <td>150.0</td>\n",
       "      <td>1.0</td>\n",
       "      <td>79.0</td>\n",
       "      <td>179.0</td>\n",
       "      <td>24.7</td>\n",
       "      <td>3.0</td>\n",
       "      <td>School22</td>\n",
       "      <td>IdaViru</td>\n",
       "    </tr>\n",
       "    <tr>\n",
       "      <th>886</th>\n",
       "      <td>20373</td>\n",
       "      <td>574.178571</td>\n",
       "      <td>273.071429</td>\n",
       "      <td>61.250000</td>\n",
       "      <td>7</td>\n",
       "      <td>2</td>\n",
       "      <td>7</td>\n",
       "      <td>Teacher</td>\n",
       "      <td>46.0</td>\n",
       "      <td>2.0</td>\n",
       "      <td>3.0</td>\n",
       "      <td>15.0</td>\n",
       "      <td>1.0</td>\n",
       "      <td>61.0</td>\n",
       "      <td>158.0</td>\n",
       "      <td>24.4</td>\n",
       "      <td>1.0</td>\n",
       "      <td>School22</td>\n",
       "      <td>IdaViru</td>\n",
       "    </tr>\n",
       "    <tr>\n",
       "      <th>887</th>\n",
       "      <td>20374</td>\n",
       "      <td>685.071429</td>\n",
       "      <td>192.035714</td>\n",
       "      <td>81.178571</td>\n",
       "      <td>7</td>\n",
       "      <td>7</td>\n",
       "      <td>7</td>\n",
       "      <td>Teacher</td>\n",
       "      <td>59.0</td>\n",
       "      <td>2.0</td>\n",
       "      <td>5.0</td>\n",
       "      <td>NaN</td>\n",
       "      <td>1.0</td>\n",
       "      <td>68.0</td>\n",
       "      <td>155.0</td>\n",
       "      <td>28.3</td>\n",
       "      <td>1.0</td>\n",
       "      <td>School22</td>\n",
       "      <td>IdaViru</td>\n",
       "    </tr>\n",
       "  </tbody>\n",
       "</table>\n",
       "<p>888 rows × 19 columns</p>\n",
       "</div>"
      ],
      "text/plain": [
       "     Subject  Sedentary_min  ...    School     County\n",
       "0      19001     776.843750  ...  School34  TartuCity\n",
       "1      19002     695.343750  ...  School34  TartuCity\n",
       "2      19004     623.093750  ...  School34  TartuCity\n",
       "3      19005     405.000000  ...  School34  TartuCity\n",
       "4      19006     614.562500  ...  School34  TartuCity\n",
       "..       ...            ...  ...       ...        ...\n",
       "883    20369     735.214286  ...  School22    IdaViru\n",
       "884    20371     586.285714  ...  School22    IdaViru\n",
       "885    20372     648.107143  ...  School22    IdaViru\n",
       "886    20373     574.178571  ...  School22    IdaViru\n",
       "887    20374     685.071429  ...  School22    IdaViru\n",
       "\n",
       "[888 rows x 19 columns]"
      ]
     },
     "execution_count": 5,
     "metadata": {
      "tags": []
     },
     "output_type": "execute_result"
    }
   ],
   "source": [
    "d"
   ]
  },
  {
   "cell_type": "code",
   "execution_count": 6,
   "metadata": {
    "id": "qordPvarVfTC"
   },
   "outputs": [],
   "source": [
    "#d = d.dropna()\n",
    "#d.head()\n"
   ]
  },
  {
   "cell_type": "code",
   "execution_count": 93,
   "metadata": {
    "colab": {
     "base_uri": "https://localhost:8080/",
     "height": 80
    },
    "id": "U_tLRolZ5BZe",
    "outputId": "c6493aef-ff36-4edc-e1ee-2a095418255a"
   },
   "outputs": [
    {
     "data": {
      "text/html": [
       "<div>\n",
       "<style scoped>\n",
       "    .dataframe tbody tr th:only-of-type {\n",
       "        vertical-align: middle;\n",
       "    }\n",
       "\n",
       "    .dataframe tbody tr th {\n",
       "        vertical-align: top;\n",
       "    }\n",
       "\n",
       "    .dataframe thead th {\n",
       "        text-align: right;\n",
       "    }\n",
       "</style>\n",
       "<table border=\"1\" class=\"dataframe\">\n",
       "  <thead>\n",
       "    <tr style=\"text-align: right;\">\n",
       "      <th></th>\n",
       "      <th>Height_cm</th>\n",
       "    </tr>\n",
       "  </thead>\n",
       "  <tbody>\n",
       "    <tr>\n",
       "      <th>1</th>\n",
       "      <td>159.0</td>\n",
       "    </tr>\n",
       "  </tbody>\n",
       "</table>\n",
       "</div>"
      ],
      "text/plain": [
       "   Height_cm\n",
       "1      159.0"
      ]
     },
     "execution_count": 93,
     "metadata": {
      "tags": []
     },
     "output_type": "execute_result"
    }
   ],
   "source": [
    "d.iloc[1:2, [-5]]"
   ]
  },
  {
   "cell_type": "markdown",
   "metadata": {
    "id": "4YKZ__sY7G2j"
   },
   "source": [
    "#### Data"
   ]
  },
  {
   "cell_type": "code",
   "execution_count": 13,
   "metadata": {
    "colab": {
     "base_uri": "https://localhost:8080/",
     "height": 317
    },
    "id": "qrd1WMi23HV6",
    "outputId": "02d38bd9-b9ea-4b62-934a-ab270e59fd95"
   },
   "outputs": [
    {
     "data": {
      "text/html": [
       "<div>\n",
       "<style scoped>\n",
       "    .dataframe tbody tr th:only-of-type {\n",
       "        vertical-align: middle;\n",
       "    }\n",
       "\n",
       "    .dataframe tbody tr th {\n",
       "        vertical-align: top;\n",
       "    }\n",
       "\n",
       "    .dataframe thead th {\n",
       "        text-align: right;\n",
       "    }\n",
       "</style>\n",
       "<table border=\"1\" class=\"dataframe\">\n",
       "  <thead>\n",
       "    <tr style=\"text-align: right;\">\n",
       "      <th></th>\n",
       "      <th>Subject</th>\n",
       "      <th>Sedentary_min</th>\n",
       "      <th>Light_min</th>\n",
       "      <th>MVPA_min</th>\n",
       "      <th>N_of_days_with_30minMVPA</th>\n",
       "      <th>N_of_days_with_60minMVPA</th>\n",
       "      <th>N_measurement_days</th>\n",
       "      <th>Age</th>\n",
       "      <th>Gender</th>\n",
       "      <th>HowOftenDoRecreationalSportAtLeast30min</th>\n",
       "      <th>ActiveTransportPerDay_min</th>\n",
       "      <th>SatisfactionWithHealth</th>\n",
       "      <th>Weight_kg</th>\n",
       "      <th>Height_cm</th>\n",
       "      <th>BMI</th>\n",
       "      <th>SatisfactionWithJob</th>\n",
       "    </tr>\n",
       "  </thead>\n",
       "  <tbody>\n",
       "    <tr>\n",
       "      <th>count</th>\n",
       "      <td>888.000000</td>\n",
       "      <td>888.000000</td>\n",
       "      <td>888.000000</td>\n",
       "      <td>888.000000</td>\n",
       "      <td>888.000000</td>\n",
       "      <td>888.000000</td>\n",
       "      <td>888.000000</td>\n",
       "      <td>864.000000</td>\n",
       "      <td>872.000000</td>\n",
       "      <td>861.000000</td>\n",
       "      <td>740.000000</td>\n",
       "      <td>865.000000</td>\n",
       "      <td>852.000000</td>\n",
       "      <td>859.000000</td>\n",
       "      <td>852.000000</td>\n",
       "      <td>858.000000</td>\n",
       "    </tr>\n",
       "    <tr>\n",
       "      <th>mean</th>\n",
       "      <td>19716.373874</td>\n",
       "      <td>592.110116</td>\n",
       "      <td>213.743322</td>\n",
       "      <td>49.533358</td>\n",
       "      <td>4.412162</td>\n",
       "      <td>1.952703</td>\n",
       "      <td>6.422297</td>\n",
       "      <td>45.622685</td>\n",
       "      <td>1.878440</td>\n",
       "      <td>3.657375</td>\n",
       "      <td>33.637838</td>\n",
       "      <td>1.196532</td>\n",
       "      <td>73.105669</td>\n",
       "      <td>168.934808</td>\n",
       "      <td>25.574765</td>\n",
       "      <td>1.148019</td>\n",
       "    </tr>\n",
       "    <tr>\n",
       "      <th>std</th>\n",
       "      <td>413.528619</td>\n",
       "      <td>78.842587</td>\n",
       "      <td>49.429848</td>\n",
       "      <td>22.841699</td>\n",
       "      <td>2.038842</td>\n",
       "      <td>1.955541</td>\n",
       "      <td>1.162471</td>\n",
       "      <td>12.521175</td>\n",
       "      <td>0.326964</td>\n",
       "      <td>1.449910</td>\n",
       "      <td>48.997403</td>\n",
       "      <td>0.425721</td>\n",
       "      <td>14.672624</td>\n",
       "      <td>7.452636</td>\n",
       "      <td>4.652660</td>\n",
       "      <td>0.518279</td>\n",
       "    </tr>\n",
       "    <tr>\n",
       "      <th>min</th>\n",
       "      <td>19001.000000</td>\n",
       "      <td>339.083333</td>\n",
       "      <td>93.250000</td>\n",
       "      <td>7.625000</td>\n",
       "      <td>0.000000</td>\n",
       "      <td>0.000000</td>\n",
       "      <td>3.000000</td>\n",
       "      <td>19.000000</td>\n",
       "      <td>1.000000</td>\n",
       "      <td>1.000000</td>\n",
       "      <td>0.000000</td>\n",
       "      <td>1.000000</td>\n",
       "      <td>47.000000</td>\n",
       "      <td>140.000000</td>\n",
       "      <td>17.000000</td>\n",
       "      <td>1.000000</td>\n",
       "    </tr>\n",
       "    <tr>\n",
       "      <th>25%</th>\n",
       "      <td>19353.500000</td>\n",
       "      <td>543.214286</td>\n",
       "      <td>181.602679</td>\n",
       "      <td>33.448214</td>\n",
       "      <td>3.000000</td>\n",
       "      <td>0.000000</td>\n",
       "      <td>6.000000</td>\n",
       "      <td>35.750000</td>\n",
       "      <td>2.000000</td>\n",
       "      <td>3.000000</td>\n",
       "      <td>5.000000</td>\n",
       "      <td>1.000000</td>\n",
       "      <td>63.000000</td>\n",
       "      <td>164.000000</td>\n",
       "      <td>22.400000</td>\n",
       "      <td>1.000000</td>\n",
       "    </tr>\n",
       "    <tr>\n",
       "      <th>50%</th>\n",
       "      <td>19736.000000</td>\n",
       "      <td>591.000000</td>\n",
       "      <td>209.720982</td>\n",
       "      <td>45.328571</td>\n",
       "      <td>5.000000</td>\n",
       "      <td>1.000000</td>\n",
       "      <td>7.000000</td>\n",
       "      <td>46.000000</td>\n",
       "      <td>2.000000</td>\n",
       "      <td>3.000000</td>\n",
       "      <td>30.000000</td>\n",
       "      <td>1.000000</td>\n",
       "      <td>70.000000</td>\n",
       "      <td>168.000000</td>\n",
       "      <td>24.800000</td>\n",
       "      <td>1.000000</td>\n",
       "    </tr>\n",
       "    <tr>\n",
       "      <th>75%</th>\n",
       "      <td>20091.250000</td>\n",
       "      <td>640.866071</td>\n",
       "      <td>245.840774</td>\n",
       "      <td>62.446429</td>\n",
       "      <td>6.000000</td>\n",
       "      <td>3.000000</td>\n",
       "      <td>7.000000</td>\n",
       "      <td>55.250000</td>\n",
       "      <td>2.000000</td>\n",
       "      <td>5.000000</td>\n",
       "      <td>46.500000</td>\n",
       "      <td>1.000000</td>\n",
       "      <td>80.000000</td>\n",
       "      <td>173.000000</td>\n",
       "      <td>27.825000</td>\n",
       "      <td>1.000000</td>\n",
       "    </tr>\n",
       "    <tr>\n",
       "      <th>max</th>\n",
       "      <td>20374.000000</td>\n",
       "      <td>893.750000</td>\n",
       "      <td>415.071429</td>\n",
       "      <td>198.666667</td>\n",
       "      <td>10.000000</td>\n",
       "      <td>8.000000</td>\n",
       "      <td>13.000000</td>\n",
       "      <td>81.000000</td>\n",
       "      <td>2.000000</td>\n",
       "      <td>7.000000</td>\n",
       "      <td>900.000000</td>\n",
       "      <td>3.000000</td>\n",
       "      <td>176.000000</td>\n",
       "      <td>198.000000</td>\n",
       "      <td>65.400000</td>\n",
       "      <td>3.000000</td>\n",
       "    </tr>\n",
       "  </tbody>\n",
       "</table>\n",
       "</div>"
      ],
      "text/plain": [
       "            Subject  Sedentary_min  ...         BMI  SatisfactionWithJob\n",
       "count    888.000000     888.000000  ...  852.000000           858.000000\n",
       "mean   19716.373874     592.110116  ...   25.574765             1.148019\n",
       "std      413.528619      78.842587  ...    4.652660             0.518279\n",
       "min    19001.000000     339.083333  ...   17.000000             1.000000\n",
       "25%    19353.500000     543.214286  ...   22.400000             1.000000\n",
       "50%    19736.000000     591.000000  ...   24.800000             1.000000\n",
       "75%    20091.250000     640.866071  ...   27.825000             1.000000\n",
       "max    20374.000000     893.750000  ...   65.400000             3.000000\n",
       "\n",
       "[8 rows x 16 columns]"
      ]
     },
     "execution_count": 13,
     "metadata": {
      "tags": []
     },
     "output_type": "execute_result"
    }
   ],
   "source": [
    "d.describe()"
   ]
  },
  {
   "cell_type": "code",
   "execution_count": 14,
   "metadata": {
    "colab": {
     "base_uri": "https://localhost:8080/"
    },
    "id": "i73gZmFGmS0P",
    "outputId": "b72e132f-f87c-460a-8bb9-ecc91cf04f79"
   },
   "outputs": [
    {
     "data": {
      "text/plain": [
       "array(['TartuCity', 'Tartu', 'Tallinn', 'Harju', 'Jogeva', 'Jarva',\n",
       "       'Voru', 'Polva', 'Laane', 'Hiiu', 'Rapla', 'Saare', 'Parnu',\n",
       "       'IdaViru'], dtype=object)"
      ]
     },
     "execution_count": 14,
     "metadata": {
      "tags": []
     },
     "output_type": "execute_result"
    }
   ],
   "source": [
    "d[\"County\"].unique()"
   ]
  },
  {
   "cell_type": "code",
   "execution_count": 15,
   "metadata": {
    "id": "BXVK4txGoDeb"
   },
   "outputs": [],
   "source": [
    "counties = d.groupby([\"County\"]).count()\n",
    "schools = d.groupby([\"School\"]).count()"
   ]
  },
  {
   "cell_type": "code",
   "execution_count": 16,
   "metadata": {
    "colab": {
     "base_uri": "https://localhost:8080/",
     "height": 294
    },
    "id": "cfO3BoEZmrQ_",
    "outputId": "6a9c9cbb-641b-4fc8-bb52-991a59a68e30"
   },
   "outputs": [
    {
     "data": {
      "image/png": "[encoded data removed]",
      "text/plain": [
       "<Figure size 432x288 with 1 Axes>"
      ]
     },
     "metadata": {
      "needs_background": "light",
      "tags": []
     },
     "output_type": "display_data"
    }
   ],
   "source": [
    "plt.bar(d[\"County\"].unique(), counties['BMI'].sort_values(ascending=False))\n",
    "plt.xticks(rotation=45, ha='right')\n",
    "plt.show()"
   ]
  },
  {
   "cell_type": "code",
   "execution_count": 17,
   "metadata": {
    "colab": {
     "base_uri": "https://localhost:8080/",
     "height": 295
    },
    "id": "QWTCTBaQ5zcM",
    "outputId": "382f9917-1f0c-42ca-a680-2aa6f2b71ad6"
   },
   "outputs": [
    {
     "data": {
      "image/png": "[encoded data removed]",
      "text/plain": [
       "<Figure size 432x288 with 1 Axes>"
      ]
     },
     "metadata": {
      "needs_background": "light",
      "tags": []
     },
     "output_type": "display_data"
    }
   ],
   "source": [
    "plt.bar(d[\"School\"].unique(), schools['BMI'].sort_values(ascending=False))\n",
    "plt.xticks(rotation=45, ha='right')\n",
    "plt.show()"
   ]
  },
  {
   "cell_type": "code",
   "execution_count": 18,
   "metadata": {
    "colab": {
     "base_uri": "https://localhost:8080/",
     "height": 267
    },
    "id": "Ow0Ji5UM2VlC",
    "outputId": "d5dd3fb9-45c1-4e62-d148-3d36e699c15d"
   },
   "outputs": [
    {
     "data": {
      "image/png": "[encoded data removed]",
      "text/plain": [
       "<Figure size 432x288 with 1 Axes>"
      ]
     },
     "metadata": {
      "needs_background": "light",
      "tags": []
     },
     "output_type": "display_data"
    }
   ],
   "source": [
    "plt.scatter(d[\"HowOftenDoRecreationalSportAtLeast30min\"], d[\"MVPA_min\"])\n",
    "plt.xticks(rotation=45, ha='right')\n",
    "plt.show()"
   ]
  },
  {
   "cell_type": "markdown",
   "metadata": {
    "id": "h_ETR2Eb674U"
   },
   "source": [
    "#### Clustering and prediction"
   ]
  },
  {
   "cell_type": "code",
   "execution_count": 19,
   "metadata": {
    "id": "nq6xWj9_DDtF"
   },
   "outputs": [],
   "source": [
    "d = d.dropna()\n",
    "#d.head()"
   ]
  },
  {
   "cell_type": "code",
   "execution_count": 26,
   "metadata": {
    "id": "LQmGgN6beP9H"
   },
   "outputs": [],
   "source": [
    "train, val = train_test_split(d, test_size = 0.2, random_state=111)"
   ]
  },
  {
   "cell_type": "code",
   "execution_count": 27,
   "metadata": {
    "colab": {
     "base_uri": "https://localhost:8080/"
    },
    "id": "_u4pkJBVxoE1",
    "outputId": "701346cb-5242-40ce-b69d-b45397695999"
   },
   "outputs": [
    {
     "data": {
      "text/plain": [
       "0      776.843750\n",
       "1      695.343750\n",
       "2      623.093750\n",
       "3      405.000000\n",
       "4      614.562500\n",
       "          ...    \n",
       "882    731.928571\n",
       "883    735.214286\n",
       "884    586.285714\n",
       "885    648.107143\n",
       "886    574.178571\n",
       "Name: Sedentary_min, Length: 707, dtype: float64"
      ]
     },
     "execution_count": 27,
     "metadata": {
      "tags": []
     },
     "output_type": "execute_result"
    }
   ],
   "source": [
    "d.Sedentary_min"
   ]
  },
  {
   "cell_type": "code",
   "execution_count": 28,
   "metadata": {
    "colab": {
     "base_uri": "https://localhost:8080/"
    },
    "id": "zfkpnTEImifM",
    "outputId": "aa04de99-88a5-47e6-8f95-0a7df27ad59b"
   },
   "outputs": [
    {
     "data": {
      "text/plain": [
       "(565, 19)"
      ]
     },
     "execution_count": 28,
     "metadata": {
      "tags": []
     },
     "output_type": "execute_result"
    }
   ],
   "source": [
    "train.shape\n"
   ]
  },
  {
   "cell_type": "code",
   "execution_count": 33,
   "metadata": {
    "colab": {
     "base_uri": "https://localhost:8080/"
    },
    "id": "ytwHJz5dmkRt",
    "outputId": "64fe91a9-c18f-449f-a4c2-1d671d7a87c8"
   },
   "outputs": [
    {
     "data": {
      "text/plain": [
       "(142, 19)"
      ]
     },
     "execution_count": 33,
     "metadata": {
      "tags": []
     },
     "output_type": "execute_result"
    }
   ],
   "source": [
    "val.shape"
   ]
  },
  {
   "cell_type": "code",
   "execution_count": 118,
   "metadata": {
    "colab": {
     "base_uri": "https://localhost:8080/",
     "height": 100
    },
    "id": "JLKckHq88660",
    "outputId": "563f0be5-8a7d-4196-dda2-9aacaa266331"
   },
   "outputs": [
    {
     "data": {
      "text/html": [
       "<div>\n",
       "<style scoped>\n",
       "    .dataframe tbody tr th:only-of-type {\n",
       "        vertical-align: middle;\n",
       "    }\n",
       "\n",
       "    .dataframe tbody tr th {\n",
       "        vertical-align: top;\n",
       "    }\n",
       "\n",
       "    .dataframe thead th {\n",
       "        text-align: right;\n",
       "    }\n",
       "</style>\n",
       "<table border=\"1\" class=\"dataframe\">\n",
       "  <thead>\n",
       "    <tr style=\"text-align: right;\">\n",
       "      <th></th>\n",
       "      <th>Subject</th>\n",
       "      <th>Sedentary_min</th>\n",
       "      <th>Light_min</th>\n",
       "      <th>MVPA_min</th>\n",
       "      <th>N_of_days_with_30minMVPA</th>\n",
       "      <th>N_of_days_with_60minMVPA</th>\n",
       "      <th>N_measurement_days</th>\n",
       "      <th>Profession</th>\n",
       "      <th>Age</th>\n",
       "      <th>Gender</th>\n",
       "      <th>HowOftenDoRecreationalSportAtLeast30min</th>\n",
       "      <th>ActiveTransportPerDay_min</th>\n",
       "      <th>SatisfactionWithHealth</th>\n",
       "      <th>Weight_kg</th>\n",
       "      <th>Height_cm</th>\n",
       "      <th>BMI</th>\n",
       "      <th>SatisfactionWithJob</th>\n",
       "      <th>School</th>\n",
       "      <th>County</th>\n",
       "    </tr>\n",
       "  </thead>\n",
       "  <tbody>\n",
       "    <tr>\n",
       "      <th>119</th>\n",
       "      <td>19194</td>\n",
       "      <td>591.46875</td>\n",
       "      <td>238.84375</td>\n",
       "      <td>54.34375</td>\n",
       "      <td>5</td>\n",
       "      <td>3</td>\n",
       "      <td>8</td>\n",
       "      <td>Teacher</td>\n",
       "      <td>63.0</td>\n",
       "      <td>2.0</td>\n",
       "      <td>3.0</td>\n",
       "      <td>90.0</td>\n",
       "      <td>1.0</td>\n",
       "      <td>60.0</td>\n",
       "      <td>163.0</td>\n",
       "      <td>22.6</td>\n",
       "      <td>1.0</td>\n",
       "      <td>School16</td>\n",
       "      <td>Harju</td>\n",
       "    </tr>\n",
       "  </tbody>\n",
       "</table>\n",
       "</div>"
      ],
      "text/plain": [
       "     Subject  Sedentary_min  Light_min  ...  SatisfactionWithJob    School  County\n",
       "119    19194      591.46875  238.84375  ...                  1.0  School16   Harju\n",
       "\n",
       "[1 rows x 19 columns]"
      ]
     },
     "execution_count": 118,
     "metadata": {
      "tags": []
     },
     "output_type": "execute_result"
    }
   ],
   "source": [
    "val.iloc[1:2, :]"
   ]
  },
  {
   "cell_type": "markdown",
   "metadata": {
    "id": "p9Tc6zn79LWE"
   },
   "source": []
  },
  {
   "cell_type": "code",
   "execution_count": 120,
   "metadata": {
    "colab": {
     "base_uri": "https://localhost:8080/",
     "height": 80
    },
    "id": "Ww8YU0uL8eYh",
    "outputId": "57f73a09-ed7f-4a0d-9521-abc5536c0795"
   },
   "outputs": [
    {
     "data": {
      "text/html": [
       "<div>\n",
       "<style scoped>\n",
       "    .dataframe tbody tr th:only-of-type {\n",
       "        vertical-align: middle;\n",
       "    }\n",
       "\n",
       "    .dataframe tbody tr th {\n",
       "        vertical-align: top;\n",
       "    }\n",
       "\n",
       "    .dataframe thead th {\n",
       "        text-align: right;\n",
       "    }\n",
       "</style>\n",
       "<table border=\"1\" class=\"dataframe\">\n",
       "  <thead>\n",
       "    <tr style=\"text-align: right;\">\n",
       "      <th></th>\n",
       "      <th>Sedentary_min</th>\n",
       "      <th>Light_min</th>\n",
       "      <th>MVPA_min</th>\n",
       "      <th>N_of_days_with_30minMVPA</th>\n",
       "      <th>N_of_days_with_60minMVPA</th>\n",
       "      <th>N_measurement_days</th>\n",
       "      <th>Age</th>\n",
       "      <th>Gender</th>\n",
       "      <th>ActiveTransportPerDay_min</th>\n",
       "      <th>BMI</th>\n",
       "    </tr>\n",
       "  </thead>\n",
       "  <tbody>\n",
       "    <tr>\n",
       "      <th>119</th>\n",
       "      <td>591.46875</td>\n",
       "      <td>238.84375</td>\n",
       "      <td>54.34375</td>\n",
       "      <td>5</td>\n",
       "      <td>3</td>\n",
       "      <td>8</td>\n",
       "      <td>63.0</td>\n",
       "      <td>2.0</td>\n",
       "      <td>90.0</td>\n",
       "      <td>22.6</td>\n",
       "    </tr>\n",
       "  </tbody>\n",
       "</table>\n",
       "</div>"
      ],
      "text/plain": [
       "     Sedentary_min  Light_min  ...  ActiveTransportPerDay_min   BMI\n",
       "119      591.46875  238.84375  ...                       90.0  22.6\n",
       "\n",
       "[1 rows x 10 columns]"
      ]
     },
     "execution_count": 120,
     "metadata": {
      "tags": []
     },
     "output_type": "execute_result"
    }
   ],
   "source": [
    "val.iloc[1:2, [1,2,3, 4, 5,6,8,9,11, 15]]"
   ]
  },
  {
   "cell_type": "code",
   "execution_count": 113,
   "metadata": {
    "colab": {
     "base_uri": "https://localhost:8080/",
     "height": 317
    },
    "id": "kC93dLpQ3SqV",
    "outputId": "0763d496-7a5a-45c1-abbf-4e0d4cb682b6"
   },
   "outputs": [
    {
     "data": {
      "text/html": [
       "<div>\n",
       "<style scoped>\n",
       "    .dataframe tbody tr th:only-of-type {\n",
       "        vertical-align: middle;\n",
       "    }\n",
       "\n",
       "    .dataframe tbody tr th {\n",
       "        vertical-align: top;\n",
       "    }\n",
       "\n",
       "    .dataframe thead th {\n",
       "        text-align: right;\n",
       "    }\n",
       "</style>\n",
       "<table border=\"1\" class=\"dataframe\">\n",
       "  <thead>\n",
       "    <tr style=\"text-align: right;\">\n",
       "      <th></th>\n",
       "      <th>Subject</th>\n",
       "      <th>Sedentary_min</th>\n",
       "      <th>Light_min</th>\n",
       "      <th>MVPA_min</th>\n",
       "      <th>N_of_days_with_30minMVPA</th>\n",
       "      <th>N_of_days_with_60minMVPA</th>\n",
       "      <th>N_measurement_days</th>\n",
       "      <th>Age</th>\n",
       "      <th>Gender</th>\n",
       "      <th>HowOftenDoRecreationalSportAtLeast30min</th>\n",
       "      <th>ActiveTransportPerDay_min</th>\n",
       "      <th>SatisfactionWithHealth</th>\n",
       "      <th>Weight_kg</th>\n",
       "      <th>Height_cm</th>\n",
       "      <th>BMI</th>\n",
       "      <th>SatisfactionWithJob</th>\n",
       "    </tr>\n",
       "  </thead>\n",
       "  <tbody>\n",
       "    <tr>\n",
       "      <th>count</th>\n",
       "      <td>142.000000</td>\n",
       "      <td>142.000000</td>\n",
       "      <td>142.000000</td>\n",
       "      <td>142.000000</td>\n",
       "      <td>142.000000</td>\n",
       "      <td>142.000000</td>\n",
       "      <td>142.000000</td>\n",
       "      <td>142.000000</td>\n",
       "      <td>142.000000</td>\n",
       "      <td>142.000000</td>\n",
       "      <td>142.000000</td>\n",
       "      <td>142.000000</td>\n",
       "      <td>142.000000</td>\n",
       "      <td>142.000000</td>\n",
       "      <td>142.000000</td>\n",
       "      <td>142.000000</td>\n",
       "    </tr>\n",
       "    <tr>\n",
       "      <th>mean</th>\n",
       "      <td>19751.091549</td>\n",
       "      <td>595.269355</td>\n",
       "      <td>212.215034</td>\n",
       "      <td>52.417914</td>\n",
       "      <td>4.823944</td>\n",
       "      <td>2.253521</td>\n",
       "      <td>6.661972</td>\n",
       "      <td>44.563380</td>\n",
       "      <td>1.866197</td>\n",
       "      <td>3.584507</td>\n",
       "      <td>38.323944</td>\n",
       "      <td>1.211268</td>\n",
       "      <td>72.841056</td>\n",
       "      <td>169.605634</td>\n",
       "      <td>25.253521</td>\n",
       "      <td>1.183099</td>\n",
       "    </tr>\n",
       "    <tr>\n",
       "      <th>std</th>\n",
       "      <td>411.094990</td>\n",
       "      <td>72.940609</td>\n",
       "      <td>53.728021</td>\n",
       "      <td>21.953696</td>\n",
       "      <td>1.819123</td>\n",
       "      <td>2.067776</td>\n",
       "      <td>1.037505</td>\n",
       "      <td>12.341744</td>\n",
       "      <td>0.341645</td>\n",
       "      <td>1.221805</td>\n",
       "      <td>40.871108</td>\n",
       "      <td>0.442927</td>\n",
       "      <td>13.419445</td>\n",
       "      <td>7.943692</td>\n",
       "      <td>3.929388</td>\n",
       "      <td>0.578819</td>\n",
       "    </tr>\n",
       "    <tr>\n",
       "      <th>min</th>\n",
       "      <td>19002.000000</td>\n",
       "      <td>361.937500</td>\n",
       "      <td>93.250000</td>\n",
       "      <td>16.833333</td>\n",
       "      <td>0.000000</td>\n",
       "      <td>0.000000</td>\n",
       "      <td>3.000000</td>\n",
       "      <td>21.000000</td>\n",
       "      <td>1.000000</td>\n",
       "      <td>1.000000</td>\n",
       "      <td>0.000000</td>\n",
       "      <td>1.000000</td>\n",
       "      <td>47.000000</td>\n",
       "      <td>155.000000</td>\n",
       "      <td>17.800000</td>\n",
       "      <td>1.000000</td>\n",
       "    </tr>\n",
       "    <tr>\n",
       "      <th>25%</th>\n",
       "      <td>19411.250000</td>\n",
       "      <td>555.191964</td>\n",
       "      <td>176.156250</td>\n",
       "      <td>35.250000</td>\n",
       "      <td>3.000000</td>\n",
       "      <td>1.000000</td>\n",
       "      <td>6.000000</td>\n",
       "      <td>35.000000</td>\n",
       "      <td>2.000000</td>\n",
       "      <td>3.000000</td>\n",
       "      <td>10.000000</td>\n",
       "      <td>1.000000</td>\n",
       "      <td>65.000000</td>\n",
       "      <td>164.000000</td>\n",
       "      <td>22.425000</td>\n",
       "      <td>1.000000</td>\n",
       "    </tr>\n",
       "    <tr>\n",
       "      <th>50%</th>\n",
       "      <td>19811.000000</td>\n",
       "      <td>593.982143</td>\n",
       "      <td>210.916667</td>\n",
       "      <td>47.464286</td>\n",
       "      <td>5.000000</td>\n",
       "      <td>2.000000</td>\n",
       "      <td>7.000000</td>\n",
       "      <td>45.000000</td>\n",
       "      <td>2.000000</td>\n",
       "      <td>3.000000</td>\n",
       "      <td>30.000000</td>\n",
       "      <td>1.000000</td>\n",
       "      <td>70.000000</td>\n",
       "      <td>168.000000</td>\n",
       "      <td>24.650000</td>\n",
       "      <td>1.000000</td>\n",
       "    </tr>\n",
       "    <tr>\n",
       "      <th>75%</th>\n",
       "      <td>20110.500000</td>\n",
       "      <td>637.710938</td>\n",
       "      <td>247.294643</td>\n",
       "      <td>67.191964</td>\n",
       "      <td>6.000000</td>\n",
       "      <td>4.000000</td>\n",
       "      <td>7.000000</td>\n",
       "      <td>54.000000</td>\n",
       "      <td>2.000000</td>\n",
       "      <td>4.000000</td>\n",
       "      <td>60.000000</td>\n",
       "      <td>1.000000</td>\n",
       "      <td>80.000000</td>\n",
       "      <td>174.000000</td>\n",
       "      <td>27.375000</td>\n",
       "      <td>1.000000</td>\n",
       "    </tr>\n",
       "    <tr>\n",
       "      <th>max</th>\n",
       "      <td>20372.000000</td>\n",
       "      <td>858.805556</td>\n",
       "      <td>415.071429</td>\n",
       "      <td>121.958333</td>\n",
       "      <td>8.000000</td>\n",
       "      <td>7.000000</td>\n",
       "      <td>9.000000</td>\n",
       "      <td>73.000000</td>\n",
       "      <td>2.000000</td>\n",
       "      <td>7.000000</td>\n",
       "      <td>240.000000</td>\n",
       "      <td>3.000000</td>\n",
       "      <td>126.000000</td>\n",
       "      <td>193.000000</td>\n",
       "      <td>36.000000</td>\n",
       "      <td>3.000000</td>\n",
       "    </tr>\n",
       "  </tbody>\n",
       "</table>\n",
       "</div>"
      ],
      "text/plain": [
       "            Subject  Sedentary_min  ...         BMI  SatisfactionWithJob\n",
       "count    142.000000     142.000000  ...  142.000000           142.000000\n",
       "mean   19751.091549     595.269355  ...   25.253521             1.183099\n",
       "std      411.094990      72.940609  ...    3.929388             0.578819\n",
       "min    19002.000000     361.937500  ...   17.800000             1.000000\n",
       "25%    19411.250000     555.191964  ...   22.425000             1.000000\n",
       "50%    19811.000000     593.982143  ...   24.650000             1.000000\n",
       "75%    20110.500000     637.710938  ...   27.375000             1.000000\n",
       "max    20372.000000     858.805556  ...   36.000000             3.000000\n",
       "\n",
       "[8 rows x 16 columns]"
      ]
     },
     "execution_count": 113,
     "metadata": {
      "tags": []
     },
     "output_type": "execute_result"
    }
   ],
   "source": [
    "val.describe()"
   ]
  },
  {
   "cell_type": "code",
   "execution_count": 35,
   "metadata": {
    "colab": {
     "base_uri": "https://localhost:8080/"
    },
    "id": "M0xKXhFVp760",
    "outputId": "d31c7db7-ca8c-4ace-8a45-be936990a85d"
   },
   "outputs": [
    {
     "data": {
      "text/plain": [
       "261    2.0\n",
       "207    1.0\n",
       "611    1.0\n",
       "801    1.0\n",
       "384    1.0\n",
       "Name: SatisfactionWithHealth, dtype: float64"
      ]
     },
     "execution_count": 35,
     "metadata": {
      "tags": []
     },
     "output_type": "execute_result"
    }
   ],
   "source": [
    "val.SatisfactionWithHealth.tail()"
   ]
  },
  {
   "cell_type": "code",
   "execution_count": null,
   "metadata": {
    "id": "DpFYQltc-KXe"
   },
   "outputs": [],
   "source": [
    "'MVPA_min', 'Sedentary_min', 'Light_min', 'ActiveTransportPerDay_min'"
   ]
  },
  {
   "cell_type": "code",
   "execution_count": 129,
   "metadata": {
    "colab": {
     "base_uri": "https://localhost:8080/",
     "height": 439
    },
    "id": "Vzh8_yJsB70K",
    "outputId": "7048d4ff-2d6b-46c3-8fa1-2137e73c7ee4"
   },
   "outputs": [
    {
     "data": {
      "text/html": [
       "<div>\n",
       "<style scoped>\n",
       "    .dataframe tbody tr th:only-of-type {\n",
       "        vertical-align: middle;\n",
       "    }\n",
       "\n",
       "    .dataframe tbody tr th {\n",
       "        vertical-align: top;\n",
       "    }\n",
       "\n",
       "    .dataframe thead th {\n",
       "        text-align: right;\n",
       "    }\n",
       "</style>\n",
       "<table border=\"1\" class=\"dataframe\">\n",
       "  <thead>\n",
       "    <tr style=\"text-align: right;\">\n",
       "      <th></th>\n",
       "      <th>Subject</th>\n",
       "      <th>Sedentary_min</th>\n",
       "      <th>Light_min</th>\n",
       "      <th>MVPA_min</th>\n",
       "      <th>N_of_days_with_30minMVPA</th>\n",
       "      <th>N_of_days_with_60minMVPA</th>\n",
       "      <th>N_measurement_days</th>\n",
       "      <th>Profession</th>\n",
       "      <th>Age</th>\n",
       "      <th>Gender</th>\n",
       "      <th>HowOftenDoRecreationalSportAtLeast30min</th>\n",
       "      <th>ActiveTransportPerDay_min</th>\n",
       "      <th>SatisfactionWithHealth</th>\n",
       "      <th>Weight_kg</th>\n",
       "      <th>Height_cm</th>\n",
       "      <th>BMI</th>\n",
       "      <th>SatisfactionWithJob</th>\n",
       "      <th>School</th>\n",
       "      <th>County</th>\n",
       "    </tr>\n",
       "  </thead>\n",
       "  <tbody>\n",
       "    <tr>\n",
       "      <th>881</th>\n",
       "      <td>20367</td>\n",
       "      <td>780.892857</td>\n",
       "      <td>238.000000</td>\n",
       "      <td>37.357143</td>\n",
       "      <td>4</td>\n",
       "      <td>0</td>\n",
       "      <td>7</td>\n",
       "      <td>Teacher</td>\n",
       "      <td>34.0</td>\n",
       "      <td>2.0</td>\n",
       "      <td>6.0</td>\n",
       "      <td>30.0</td>\n",
       "      <td>2.0</td>\n",
       "      <td>70.0</td>\n",
       "      <td>171.0</td>\n",
       "      <td>23.9</td>\n",
       "      <td>1.0</td>\n",
       "      <td>School22</td>\n",
       "      <td>IdaViru</td>\n",
       "    </tr>\n",
       "    <tr>\n",
       "      <th>238</th>\n",
       "      <td>19379</td>\n",
       "      <td>697.041667</td>\n",
       "      <td>170.875000</td>\n",
       "      <td>42.916667</td>\n",
       "      <td>4</td>\n",
       "      <td>1</td>\n",
       "      <td>6</td>\n",
       "      <td>Administration</td>\n",
       "      <td>52.0</td>\n",
       "      <td>2.0</td>\n",
       "      <td>3.0</td>\n",
       "      <td>40.0</td>\n",
       "      <td>1.0</td>\n",
       "      <td>70.0</td>\n",
       "      <td>162.0</td>\n",
       "      <td>26.7</td>\n",
       "      <td>1.0</td>\n",
       "      <td>School36</td>\n",
       "      <td>TartuCity</td>\n",
       "    </tr>\n",
       "    <tr>\n",
       "      <th>259</th>\n",
       "      <td>19403</td>\n",
       "      <td>632.850000</td>\n",
       "      <td>179.700000</td>\n",
       "      <td>38.200000</td>\n",
       "      <td>3</td>\n",
       "      <td>1</td>\n",
       "      <td>5</td>\n",
       "      <td>Teacher</td>\n",
       "      <td>26.0</td>\n",
       "      <td>2.0</td>\n",
       "      <td>3.0</td>\n",
       "      <td>60.0</td>\n",
       "      <td>1.0</td>\n",
       "      <td>52.0</td>\n",
       "      <td>163.0</td>\n",
       "      <td>19.6</td>\n",
       "      <td>1.0</td>\n",
       "      <td>School36</td>\n",
       "      <td>TartuCity</td>\n",
       "    </tr>\n",
       "    <tr>\n",
       "      <th>0</th>\n",
       "      <td>19001</td>\n",
       "      <td>776.843750</td>\n",
       "      <td>258.937500</td>\n",
       "      <td>31.187500</td>\n",
       "      <td>2</td>\n",
       "      <td>1</td>\n",
       "      <td>8</td>\n",
       "      <td>Teacher</td>\n",
       "      <td>44.0</td>\n",
       "      <td>2.0</td>\n",
       "      <td>6.0</td>\n",
       "      <td>20.0</td>\n",
       "      <td>1.0</td>\n",
       "      <td>77.0</td>\n",
       "      <td>175.0</td>\n",
       "      <td>25.1</td>\n",
       "      <td>1.0</td>\n",
       "      <td>School34</td>\n",
       "      <td>TartuCity</td>\n",
       "    </tr>\n",
       "    <tr>\n",
       "      <th>732</th>\n",
       "      <td>20187</td>\n",
       "      <td>705.000000</td>\n",
       "      <td>223.392857</td>\n",
       "      <td>56.250000</td>\n",
       "      <td>5</td>\n",
       "      <td>3</td>\n",
       "      <td>7</td>\n",
       "      <td>Administration</td>\n",
       "      <td>44.0</td>\n",
       "      <td>1.0</td>\n",
       "      <td>3.0</td>\n",
       "      <td>30.0</td>\n",
       "      <td>2.0</td>\n",
       "      <td>85.0</td>\n",
       "      <td>170.0</td>\n",
       "      <td>29.4</td>\n",
       "      <td>1.0</td>\n",
       "      <td>School42</td>\n",
       "      <td>Tallinn</td>\n",
       "    </tr>\n",
       "    <tr>\n",
       "      <th>...</th>\n",
       "      <td>...</td>\n",
       "      <td>...</td>\n",
       "      <td>...</td>\n",
       "      <td>...</td>\n",
       "      <td>...</td>\n",
       "      <td>...</td>\n",
       "      <td>...</td>\n",
       "      <td>...</td>\n",
       "      <td>...</td>\n",
       "      <td>...</td>\n",
       "      <td>...</td>\n",
       "      <td>...</td>\n",
       "      <td>...</td>\n",
       "      <td>...</td>\n",
       "      <td>...</td>\n",
       "      <td>...</td>\n",
       "      <td>...</td>\n",
       "      <td>...</td>\n",
       "      <td>...</td>\n",
       "    </tr>\n",
       "    <tr>\n",
       "      <th>144</th>\n",
       "      <td>19226</td>\n",
       "      <td>705.071429</td>\n",
       "      <td>146.464286</td>\n",
       "      <td>19.678571</td>\n",
       "      <td>0</td>\n",
       "      <td>0</td>\n",
       "      <td>7</td>\n",
       "      <td>Administration</td>\n",
       "      <td>48.0</td>\n",
       "      <td>2.0</td>\n",
       "      <td>5.0</td>\n",
       "      <td>30.0</td>\n",
       "      <td>1.0</td>\n",
       "      <td>58.0</td>\n",
       "      <td>166.0</td>\n",
       "      <td>21.0</td>\n",
       "      <td>1.0</td>\n",
       "      <td>School33</td>\n",
       "      <td>TartuCity</td>\n",
       "    </tr>\n",
       "    <tr>\n",
       "      <th>406</th>\n",
       "      <td>19666</td>\n",
       "      <td>656.214286</td>\n",
       "      <td>169.142857</td>\n",
       "      <td>67.214286</td>\n",
       "      <td>6</td>\n",
       "      <td>5</td>\n",
       "      <td>7</td>\n",
       "      <td>Teacher</td>\n",
       "      <td>42.0</td>\n",
       "      <td>2.0</td>\n",
       "      <td>2.0</td>\n",
       "      <td>15.0</td>\n",
       "      <td>1.0</td>\n",
       "      <td>67.0</td>\n",
       "      <td>162.0</td>\n",
       "      <td>25.5</td>\n",
       "      <td>1.0</td>\n",
       "      <td>School14</td>\n",
       "      <td>Tartu</td>\n",
       "    </tr>\n",
       "    <tr>\n",
       "      <th>854</th>\n",
       "      <td>20333</td>\n",
       "      <td>562.214286</td>\n",
       "      <td>139.392857</td>\n",
       "      <td>74.571429</td>\n",
       "      <td>6</td>\n",
       "      <td>5</td>\n",
       "      <td>7</td>\n",
       "      <td>Teacher</td>\n",
       "      <td>60.0</td>\n",
       "      <td>2.0</td>\n",
       "      <td>3.0</td>\n",
       "      <td>70.0</td>\n",
       "      <td>1.0</td>\n",
       "      <td>73.0</td>\n",
       "      <td>170.0</td>\n",
       "      <td>25.3</td>\n",
       "      <td>1.0</td>\n",
       "      <td>School26</td>\n",
       "      <td>Parnu</td>\n",
       "    </tr>\n",
       "    <tr>\n",
       "      <th>347</th>\n",
       "      <td>19565</td>\n",
       "      <td>686.321429</td>\n",
       "      <td>182.821429</td>\n",
       "      <td>49.750000</td>\n",
       "      <td>6</td>\n",
       "      <td>2</td>\n",
       "      <td>7</td>\n",
       "      <td>Teacher</td>\n",
       "      <td>63.0</td>\n",
       "      <td>2.0</td>\n",
       "      <td>3.0</td>\n",
       "      <td>45.0</td>\n",
       "      <td>1.0</td>\n",
       "      <td>70.0</td>\n",
       "      <td>175.0</td>\n",
       "      <td>22.9</td>\n",
       "      <td>3.0</td>\n",
       "      <td>School19</td>\n",
       "      <td>Tartu</td>\n",
       "    </tr>\n",
       "    <tr>\n",
       "      <th>109</th>\n",
       "      <td>19181</td>\n",
       "      <td>737.656250</td>\n",
       "      <td>175.906250</td>\n",
       "      <td>53.343750</td>\n",
       "      <td>7</td>\n",
       "      <td>3</td>\n",
       "      <td>8</td>\n",
       "      <td>Teacher</td>\n",
       "      <td>68.0</td>\n",
       "      <td>2.0</td>\n",
       "      <td>3.0</td>\n",
       "      <td>40.0</td>\n",
       "      <td>1.0</td>\n",
       "      <td>78.0</td>\n",
       "      <td>168.0</td>\n",
       "      <td>27.6</td>\n",
       "      <td>1.0</td>\n",
       "      <td>School16</td>\n",
       "      <td>Harju</td>\n",
       "    </tr>\n",
       "  </tbody>\n",
       "</table>\n",
       "<p>565 rows × 19 columns</p>\n",
       "</div>"
      ],
      "text/plain": [
       "     Subject  Sedentary_min  ...    School     County\n",
       "881    20367     780.892857  ...  School22    IdaViru\n",
       "238    19379     697.041667  ...  School36  TartuCity\n",
       "259    19403     632.850000  ...  School36  TartuCity\n",
       "0      19001     776.843750  ...  School34  TartuCity\n",
       "732    20187     705.000000  ...  School42    Tallinn\n",
       "..       ...            ...  ...       ...        ...\n",
       "144    19226     705.071429  ...  School33  TartuCity\n",
       "406    19666     656.214286  ...  School14      Tartu\n",
       "854    20333     562.214286  ...  School26      Parnu\n",
       "347    19565     686.321429  ...  School19      Tartu\n",
       "109    19181     737.656250  ...  School16      Harju\n",
       "\n",
       "[565 rows x 19 columns]"
      ]
     },
     "execution_count": 129,
     "metadata": {
      "tags": []
     },
     "output_type": "execute_result"
    }
   ],
   "source": [
    "train.dropna(subset=['MVPA_min', 'SatisfactionWithHealth', 'Sedentary_min'])"
   ]
  },
  {
   "cell_type": "code",
   "execution_count": 39,
   "metadata": {
    "colab": {
     "base_uri": "https://localhost:8080/",
     "height": 439
    },
    "id": "oI1eHusVCMwF",
    "outputId": "603e9a91-3d50-406f-b2a5-92bf14eeba4f"
   },
   "outputs": [
    {
     "data": {
      "text/html": [
       "<div>\n",
       "<style scoped>\n",
       "    .dataframe tbody tr th:only-of-type {\n",
       "        vertical-align: middle;\n",
       "    }\n",
       "\n",
       "    .dataframe tbody tr th {\n",
       "        vertical-align: top;\n",
       "    }\n",
       "\n",
       "    .dataframe thead th {\n",
       "        text-align: right;\n",
       "    }\n",
       "</style>\n",
       "<table border=\"1\" class=\"dataframe\">\n",
       "  <thead>\n",
       "    <tr style=\"text-align: right;\">\n",
       "      <th></th>\n",
       "      <th>Subject</th>\n",
       "      <th>Sedentary_min</th>\n",
       "      <th>Light_min</th>\n",
       "      <th>MVPA_min</th>\n",
       "      <th>N_of_days_with_30minMVPA</th>\n",
       "      <th>N_of_days_with_60minMVPA</th>\n",
       "      <th>N_measurement_days</th>\n",
       "      <th>Profession</th>\n",
       "      <th>Age</th>\n",
       "      <th>Gender</th>\n",
       "      <th>HowOftenDoRecreationalSportAtLeast30min</th>\n",
       "      <th>ActiveTransportPerDay_min</th>\n",
       "      <th>SatisfactionWithHealth</th>\n",
       "      <th>Weight_kg</th>\n",
       "      <th>Height_cm</th>\n",
       "      <th>BMI</th>\n",
       "      <th>SatisfactionWithJob</th>\n",
       "      <th>School</th>\n",
       "      <th>County</th>\n",
       "    </tr>\n",
       "  </thead>\n",
       "  <tbody>\n",
       "    <tr>\n",
       "      <th>690</th>\n",
       "      <td>20135</td>\n",
       "      <td>615.678571</td>\n",
       "      <td>180.428571</td>\n",
       "      <td>44.142857</td>\n",
       "      <td>6</td>\n",
       "      <td>2</td>\n",
       "      <td>7</td>\n",
       "      <td>Teacher</td>\n",
       "      <td>59.0</td>\n",
       "      <td>2.0</td>\n",
       "      <td>3.0</td>\n",
       "      <td>0.0</td>\n",
       "      <td>2.0</td>\n",
       "      <td>90.0</td>\n",
       "      <td>163.0</td>\n",
       "      <td>33.9</td>\n",
       "      <td>1.0</td>\n",
       "      <td>School31</td>\n",
       "      <td>Tartu</td>\n",
       "    </tr>\n",
       "    <tr>\n",
       "      <th>119</th>\n",
       "      <td>19194</td>\n",
       "      <td>591.468750</td>\n",
       "      <td>238.843750</td>\n",
       "      <td>54.343750</td>\n",
       "      <td>5</td>\n",
       "      <td>3</td>\n",
       "      <td>8</td>\n",
       "      <td>Teacher</td>\n",
       "      <td>63.0</td>\n",
       "      <td>2.0</td>\n",
       "      <td>3.0</td>\n",
       "      <td>90.0</td>\n",
       "      <td>1.0</td>\n",
       "      <td>60.0</td>\n",
       "      <td>163.0</td>\n",
       "      <td>22.6</td>\n",
       "      <td>1.0</td>\n",
       "      <td>School16</td>\n",
       "      <td>Harju</td>\n",
       "    </tr>\n",
       "    <tr>\n",
       "      <th>441</th>\n",
       "      <td>19733</td>\n",
       "      <td>671.035714</td>\n",
       "      <td>125.357143</td>\n",
       "      <td>38.785714</td>\n",
       "      <td>5</td>\n",
       "      <td>1</td>\n",
       "      <td>7</td>\n",
       "      <td>Teacher</td>\n",
       "      <td>24.0</td>\n",
       "      <td>2.0</td>\n",
       "      <td>5.0</td>\n",
       "      <td>20.0</td>\n",
       "      <td>1.0</td>\n",
       "      <td>86.0</td>\n",
       "      <td>170.0</td>\n",
       "      <td>29.8</td>\n",
       "      <td>1.0</td>\n",
       "      <td>School38</td>\n",
       "      <td>TartuCity</td>\n",
       "    </tr>\n",
       "    <tr>\n",
       "      <th>502</th>\n",
       "      <td>19842</td>\n",
       "      <td>603.535714</td>\n",
       "      <td>265.464286</td>\n",
       "      <td>35.714286</td>\n",
       "      <td>4</td>\n",
       "      <td>0</td>\n",
       "      <td>7</td>\n",
       "      <td>Teacher</td>\n",
       "      <td>41.0</td>\n",
       "      <td>2.0</td>\n",
       "      <td>4.0</td>\n",
       "      <td>0.0</td>\n",
       "      <td>2.0</td>\n",
       "      <td>79.0</td>\n",
       "      <td>168.0</td>\n",
       "      <td>28.0</td>\n",
       "      <td>1.0</td>\n",
       "      <td>School21</td>\n",
       "      <td>Harju</td>\n",
       "    </tr>\n",
       "    <tr>\n",
       "      <th>390</th>\n",
       "      <td>19624</td>\n",
       "      <td>617.850000</td>\n",
       "      <td>137.300000</td>\n",
       "      <td>24.300000</td>\n",
       "      <td>2</td>\n",
       "      <td>0</td>\n",
       "      <td>5</td>\n",
       "      <td>Teacher</td>\n",
       "      <td>59.0</td>\n",
       "      <td>2.0</td>\n",
       "      <td>6.0</td>\n",
       "      <td>40.0</td>\n",
       "      <td>1.0</td>\n",
       "      <td>78.0</td>\n",
       "      <td>162.0</td>\n",
       "      <td>29.7</td>\n",
       "      <td>3.0</td>\n",
       "      <td>School5</td>\n",
       "      <td>Laane</td>\n",
       "    </tr>\n",
       "    <tr>\n",
       "      <th>...</th>\n",
       "      <td>...</td>\n",
       "      <td>...</td>\n",
       "      <td>...</td>\n",
       "      <td>...</td>\n",
       "      <td>...</td>\n",
       "      <td>...</td>\n",
       "      <td>...</td>\n",
       "      <td>...</td>\n",
       "      <td>...</td>\n",
       "      <td>...</td>\n",
       "      <td>...</td>\n",
       "      <td>...</td>\n",
       "      <td>...</td>\n",
       "      <td>...</td>\n",
       "      <td>...</td>\n",
       "      <td>...</td>\n",
       "      <td>...</td>\n",
       "      <td>...</td>\n",
       "      <td>...</td>\n",
       "    </tr>\n",
       "    <tr>\n",
       "      <th>261</th>\n",
       "      <td>19407</td>\n",
       "      <td>555.875000</td>\n",
       "      <td>169.625000</td>\n",
       "      <td>36.875000</td>\n",
       "      <td>2</td>\n",
       "      <td>1</td>\n",
       "      <td>4</td>\n",
       "      <td>Teacher</td>\n",
       "      <td>45.0</td>\n",
       "      <td>2.0</td>\n",
       "      <td>5.0</td>\n",
       "      <td>0.0</td>\n",
       "      <td>2.0</td>\n",
       "      <td>74.0</td>\n",
       "      <td>170.0</td>\n",
       "      <td>25.6</td>\n",
       "      <td>1.0</td>\n",
       "      <td>School37</td>\n",
       "      <td>TartuCity</td>\n",
       "    </tr>\n",
       "    <tr>\n",
       "      <th>207</th>\n",
       "      <td>19334</td>\n",
       "      <td>590.357143</td>\n",
       "      <td>215.928571</td>\n",
       "      <td>64.928571</td>\n",
       "      <td>6</td>\n",
       "      <td>2</td>\n",
       "      <td>7</td>\n",
       "      <td>Administration</td>\n",
       "      <td>46.0</td>\n",
       "      <td>2.0</td>\n",
       "      <td>3.0</td>\n",
       "      <td>30.0</td>\n",
       "      <td>1.0</td>\n",
       "      <td>60.0</td>\n",
       "      <td>170.0</td>\n",
       "      <td>20.8</td>\n",
       "      <td>1.0</td>\n",
       "      <td>School2</td>\n",
       "      <td>Voru</td>\n",
       "    </tr>\n",
       "    <tr>\n",
       "      <th>611</th>\n",
       "      <td>20019</td>\n",
       "      <td>543.107143</td>\n",
       "      <td>252.571429</td>\n",
       "      <td>28.250000</td>\n",
       "      <td>4</td>\n",
       "      <td>0</td>\n",
       "      <td>7</td>\n",
       "      <td>Teacher</td>\n",
       "      <td>49.0</td>\n",
       "      <td>2.0</td>\n",
       "      <td>3.0</td>\n",
       "      <td>120.0</td>\n",
       "      <td>1.0</td>\n",
       "      <td>65.0</td>\n",
       "      <td>158.0</td>\n",
       "      <td>26.0</td>\n",
       "      <td>3.0</td>\n",
       "      <td>School13</td>\n",
       "      <td>Jarva</td>\n",
       "    </tr>\n",
       "    <tr>\n",
       "      <th>801</th>\n",
       "      <td>20270</td>\n",
       "      <td>592.875000</td>\n",
       "      <td>215.343750</td>\n",
       "      <td>65.531250</td>\n",
       "      <td>5</td>\n",
       "      <td>3</td>\n",
       "      <td>8</td>\n",
       "      <td>Administration</td>\n",
       "      <td>34.0</td>\n",
       "      <td>2.0</td>\n",
       "      <td>4.0</td>\n",
       "      <td>3.0</td>\n",
       "      <td>1.0</td>\n",
       "      <td>96.0</td>\n",
       "      <td>176.0</td>\n",
       "      <td>31.0</td>\n",
       "      <td>1.0</td>\n",
       "      <td>School17</td>\n",
       "      <td>Harju</td>\n",
       "    </tr>\n",
       "    <tr>\n",
       "      <th>384</th>\n",
       "      <td>19618</td>\n",
       "      <td>744.607143</td>\n",
       "      <td>194.857143</td>\n",
       "      <td>46.250000</td>\n",
       "      <td>5</td>\n",
       "      <td>1</td>\n",
       "      <td>7</td>\n",
       "      <td>Teacher</td>\n",
       "      <td>29.0</td>\n",
       "      <td>2.0</td>\n",
       "      <td>4.0</td>\n",
       "      <td>90.0</td>\n",
       "      <td>1.0</td>\n",
       "      <td>92.0</td>\n",
       "      <td>167.0</td>\n",
       "      <td>33.0</td>\n",
       "      <td>1.0</td>\n",
       "      <td>School5</td>\n",
       "      <td>Laane</td>\n",
       "    </tr>\n",
       "  </tbody>\n",
       "</table>\n",
       "<p>142 rows × 19 columns</p>\n",
       "</div>"
      ],
      "text/plain": [
       "     Subject  Sedentary_min  ...    School     County\n",
       "690    20135     615.678571  ...  School31      Tartu\n",
       "119    19194     591.468750  ...  School16      Harju\n",
       "441    19733     671.035714  ...  School38  TartuCity\n",
       "502    19842     603.535714  ...  School21      Harju\n",
       "390    19624     617.850000  ...   School5      Laane\n",
       "..       ...            ...  ...       ...        ...\n",
       "261    19407     555.875000  ...  School37  TartuCity\n",
       "207    19334     590.357143  ...   School2       Voru\n",
       "611    20019     543.107143  ...  School13      Jarva\n",
       "801    20270     592.875000  ...  School17      Harju\n",
       "384    19618     744.607143  ...   School5      Laane\n",
       "\n",
       "[142 rows x 19 columns]"
      ]
     },
     "execution_count": 39,
     "metadata": {
      "tags": []
     },
     "output_type": "execute_result"
    }
   ],
   "source": [
    "val.dropna(subset=['MVPA_min', 'SatisfactionWithHealth', 'Sedentary_min'])"
   ]
  },
  {
   "cell_type": "markdown",
   "metadata": {
    "id": "2gH1QIhqrHbW"
   },
   "source": [
    "#### K-Neighbours with different variables"
   ]
  },
  {
   "cell_type": "code",
   "execution_count": 55,
   "metadata": {
    "colab": {
     "base_uri": "https://localhost:8080/"
    },
    "id": "mAe0CB5BmmYg",
    "outputId": "6c83d555-7cd4-42f8-aedc-3fd04c9ff8d8"
   },
   "outputs": [
    {
     "name": "stdout",
     "output_type": "stream",
     "text": [
      "Validation accuracy on Val is 79.58%\n",
      "Number of correctly classified rows on val is: 113.0\n",
      "On original data KNN guessed 468.0 obs. of 565\n"
     ]
    },
    {
     "name": "stderr",
     "output_type": "stream",
     "text": [
      "/usr/local/lib/python3.6/dist-packages/ipykernel_launcher.py:4: DataConversionWarning: A column-vector y was passed when a 1d array was expected. Please change the shape of y to (n_samples, ), for example using ravel().\n",
      "  after removing the cwd from sys.path.\n"
     ]
    }
   ],
   "source": [
    "#print(train.shape)\n",
    "k=4\n",
    "model = KNeighborsClassifier(k)\n",
    "model = model.fit(X = np.array(train['Sedentary_min']).reshape(-1, 1), y = np.array(train['SatisfactionWithHealth']).reshape(-1, 1)) \n",
    "\n",
    "#Num of correctly classified\n",
    "train_predict = model.predict(np.array(train['Sedentary_min']).reshape(-1, 1))\n",
    "train_accuracy = np.mean(train_predict == train.SatisfactionWithHealth)\n",
    "#print(str(train_accuracy*100))\n",
    "\n",
    "val_predict = model.predict(np.array(val['Sedentary_min']).reshape(-1, 1))\n",
    "val_accuracy = np.mean(val_predict == val.SatisfactionWithHealth)\n",
    "#print(val_accuracy)\n",
    "n_correct = val_accuracy*len(val)\n",
    "\n",
    "print(f\"Validation accuracy on Val is {round((val_accuracy*100),2)}%\")\n",
    "print(f\"Number of correctly classified rows on val is: {(val_accuracy*len(val))}\")\n",
    "print(f'On original data KNN guessed {train_accuracy*len(train)} obs. of {(len(train))}')"
   ]
  },
  {
   "cell_type": "code",
   "execution_count": 56,
   "metadata": {
    "colab": {
     "base_uri": "https://localhost:8080/"
    },
    "id": "W1JqH_PX4P6u",
    "outputId": "da476dc1-322d-410a-db59-63267201ba89"
   },
   "outputs": [
    {
     "name": "stdout",
     "output_type": "stream",
     "text": [
      "Validation accuracy on Val is 77.46%\n",
      "Number of correctly classified rows on val is: 110.0\n",
      "On original data KNN guessed 488.99999999999994 obs. of 565\n"
     ]
    },
    {
     "name": "stderr",
     "output_type": "stream",
     "text": [
      "/usr/local/lib/python3.6/dist-packages/ipykernel_launcher.py:4: DataConversionWarning: A column-vector y was passed when a 1d array was expected. Please change the shape of y to (n_samples, ), for example using ravel().\n",
      "  after removing the cwd from sys.path.\n"
     ]
    }
   ],
   "source": [
    "#print(train.shape)\n",
    "k=4\n",
    "model = KNeighborsClassifier(k)\n",
    "model = model.fit(X = np.array(train['MVPA_min']).reshape(-1, 1), y = np.array(train['SatisfactionWithHealth']).reshape(-1, 1)) \n",
    "\n",
    "#Num of correctly classified\n",
    "train_predict = model.predict(np.array(train['MVPA_min']).reshape(-1, 1))\n",
    "train_accuracy = np.mean(train_predict == train.SatisfactionWithHealth)\n",
    "#print(str(train_accuracy*100))\n",
    "\n",
    "val_predict = model.predict(np.array(val['MVPA_min']).reshape(-1, 1))\n",
    "val_accuracy = np.mean(val_predict == val.SatisfactionWithHealth)\n",
    "#print(val_accuracy)\n",
    "n_correct = val_accuracy*len(val)\n",
    "\n",
    "print(f\"Validation accuracy on Val is {round((val_accuracy*100),2)}%\")\n",
    "print(f\"Number of correctly classified rows on val is: {(val_accuracy*len(val))}\")\n",
    "print(f'On original data KNN guessed {train_accuracy*len(train)} obs. of {(len(train))}')\n"
   ]
  },
  {
   "cell_type": "code",
   "execution_count": 57,
   "metadata": {
    "colab": {
     "base_uri": "https://localhost:8080/"
    },
    "id": "SMz8YP338JY9",
    "outputId": "ec5e9f74-15b0-4b15-e851-1aa48de9effc"
   },
   "outputs": [
    {
     "name": "stdout",
     "output_type": "stream",
     "text": [
      "[2. 1. 1. 1. 2. 1. 1. 1. 1. 1. 1. 1. 1. 1. 1. 1. 1. 1. 1. 1. 2. 2. 1. 1.\n",
      " 1. 1. 1. 2. 2. 2. 1. 1. 1. 1. 1. 2. 1. 1. 1. 1. 1. 1. 1. 2. 1. 1. 1. 1.\n",
      " 1. 1. 1. 1. 1. 1. 1. 1. 2. 1. 1. 1. 1. 1. 1. 1. 1. 1. 1. 1. 1. 1. 2. 1.\n",
      " 1. 1. 1. 1. 1. 1. 1. 1. 2. 1. 1. 1. 2. 1. 1. 2. 1. 1. 2. 1. 2. 1. 1. 2.\n",
      " 1. 2. 1. 1. 1. 1. 1. 1. 2. 1. 2. 1. 2. 2. 1. 1. 1. 1. 1. 1. 1. 1. 1. 1.\n",
      " 2. 1. 1. 1. 1. 1. 2. 1. 2. 1. 1. 1. 1. 2. 2. 1. 1. 1. 1. 1. 2. 1. 1. 1.\n",
      " 1. 1. 1. 1. 1. 2. 1. 1. 1. 1. 1. 2. 1. 1. 2. 1. 2. 1. 1. 1. 2. 1. 1. 1.\n",
      " 1. 2. 1. 1. 1. 1. 2. 1. 1. 1. 1. 1. 1. 1. 1. 1. 1. 1. 1. 1. 1. 2. 1. 1.\n",
      " 2. 1. 1. 1. 1. 1. 1. 1. 1. 1. 1. 1. 1. 1. 2. 2. 1. 1. 1. 1. 1. 1. 1. 1.\n",
      " 1. 1. 1. 1. 1. 1. 2. 2. 1. 2. 1. 1. 1. 2. 2. 1. 1. 2. 1. 2. 2. 1. 1. 1.\n",
      " 1. 1. 1. 1. 1. 1. 2. 1. 1. 1. 2. 1. 1. 1. 1. 1. 2. 1. 1. 1. 1. 1. 1. 1.\n",
      " 1. 2. 1. 1. 2. 1. 1. 1. 1. 1. 1. 1. 1. 2. 1. 1. 1. 2. 1. 1. 1. 1. 2. 1.\n",
      " 1. 1. 2. 1. 1. 1. 1. 1. 1. 1. 2. 1. 1. 1. 1. 2. 1. 1. 1. 1. 2. 1. 2. 1.\n",
      " 1. 2. 1. 1. 2. 1. 2. 2. 2. 1. 3. 1. 1. 1. 1. 1. 2. 1. 1. 1. 1. 1. 1. 1.\n",
      " 2. 1. 1. 1. 1. 1. 1. 1. 1. 1. 1. 1. 1. 1. 1. 1. 2. 1. 1. 1. 1. 1. 1. 1.\n",
      " 1. 1. 1. 1. 1. 1. 1. 1. 1. 1. 1. 2. 1. 2. 1. 1. 1. 2. 1. 1. 1. 1. 2. 1.\n",
      " 1. 1. 1. 1. 1. 1. 1. 2. 1. 1. 1. 2. 1. 1. 1. 1. 1. 1. 1. 1. 1. 1. 1. 2.\n",
      " 1. 1. 1. 1. 1. 1. 1. 1. 2. 1. 1. 1. 1. 2. 1. 1. 1. 1. 1. 1. 2. 1. 1. 1.\n",
      " 1. 1. 1. 1. 1. 1. 1. 1. 2. 1. 1. 1. 1. 1. 1. 1. 2. 1. 1. 1. 1. 1. 2. 1.\n",
      " 1. 1. 1. 1. 1. 1. 1. 1. 1. 1. 2. 1. 1. 3. 1. 1. 1. 1. 1. 1. 2. 1. 1. 2.\n",
      " 2. 1. 2. 2. 1. 1. 2. 1. 2. 1. 1. 1. 1. 1. 1. 1. 1. 1. 1. 1. 1. 1. 1. 1.\n",
      " 1. 1. 1. 1. 1. 1. 1. 1. 1. 1. 1. 1. 2. 1. 1. 1. 1. 1. 1. 2. 2. 1. 2. 1.\n",
      " 1. 1. 1. 1. 2. 1. 1. 2. 1. 1. 1. 2. 1. 1. 2. 1. 1. 1. 3. 1. 1. 1. 1. 1.\n",
      " 1. 1. 1. 1. 1. 1. 2. 1. 1. 1. 1. 1. 1.]\n"
     ]
    }
   ],
   "source": [
    "print(train.iloc[:, 12].values)"
   ]
  },
  {
   "cell_type": "code",
   "execution_count": 58,
   "metadata": {
    "id": "yiVCRVmQ8pe8"
   },
   "outputs": [],
   "source": [
    "X_train = train.iloc[:, [1, 3, 4, 9, 10, -4]].values\n",
    "y_train = train.iloc[:, 12].values\n",
    "X_val = val.iloc[:, [1, 3, 4, 9, 10, -4]].values\n",
    "y_val = val.iloc[:, 12].values"
   ]
  },
  {
   "cell_type": "code",
   "execution_count": 59,
   "metadata": {
    "colab": {
     "base_uri": "https://localhost:8080/"
    },
    "id": "JqDRbIeb8w03",
    "outputId": "268b7421-9ea4-4e0c-ce19-7bb816883843"
   },
   "outputs": [
    {
     "name": "stdout",
     "output_type": "stream",
     "text": [
      "Validation accuracy on Val is 80.28%\n",
      "Number of correctly classified rows on val is: 114.0 of 142\n",
      "On train data KNN guessed 471.0 obs. of 565\n"
     ]
    }
   ],
   "source": [
    "k=4\n",
    "model = KNeighborsClassifier(k)\n",
    "model = model.fit(X = X_train, y = y_train) \n",
    "\n",
    "#Num of correctly classified\n",
    "train_predict = model.predict(X_train)\n",
    "train_accuracy = np.mean(train_predict == y_train)\n",
    "#print(str(train_accuracy*100))\n",
    "\n",
    "val_predict = model.predict(X_val)\n",
    "val_accuracy = np.mean(val_predict == y_val)\n",
    "#print(val_accuracy)\n",
    "n_correct = val_accuracy*len(val)\n",
    "\n",
    "print(f\"Validation accuracy on Val is {round((val_accuracy*100),2)}%\")\n",
    "print(f\"Number of correctly classified rows on val is: {(val_accuracy*len(val))} of {(len(val))}\")\n",
    "print(f'On train data KNN guessed {train_accuracy*len(train)} obs. of {(len(train))}')\n"
   ]
  },
  {
   "cell_type": "code",
   "execution_count": 60,
   "metadata": {
    "id": "HGA5ATfhKZcs"
   },
   "outputs": [],
   "source": [
    "X_train = train.iloc[:, [1, 3]].values\n",
    "y_train = train.iloc[:, 12].values\n",
    "X_val = val.iloc[:, [1, 3]].values\n",
    "y_val = val.iloc[:, 12].values"
   ]
  },
  {
   "cell_type": "code",
   "execution_count": 61,
   "metadata": {
    "colab": {
     "base_uri": "https://localhost:8080/"
    },
    "id": "y_9IHvEEKXZX",
    "outputId": "43d123f0-daac-4b42-adb3-8049b60dd1c0"
   },
   "outputs": [
    {
     "name": "stdout",
     "output_type": "stream",
     "text": [
      "Validation accuracy on Val is 80.28%\n",
      "Number of correctly classified rows on val is: 114.0 of 142\n",
      "On train data KNN guessed 472.99999999999994 obs. of 565\n"
     ]
    }
   ],
   "source": [
    "k=4\n",
    "model = KNeighborsClassifier(k)\n",
    "model = model.fit(X = X_train, y = y_train) \n",
    "\n",
    "#Num of correctly classified\n",
    "train_predict = model.predict(X_train)\n",
    "train_accuracy = np.mean(train_predict == y_train)\n",
    "#print(str(train_accuracy*100))\n",
    "\n",
    "val_predict = model.predict(X_val)\n",
    "val_accuracy = np.mean(val_predict == y_val)\n",
    "#print(val_accuracy)\n",
    "n_correct = val_accuracy*len(val)\n",
    "\n",
    "print(f\"Validation accuracy on Val is {round((val_accuracy*100),2)}%\")\n",
    "print(f\"Number of correctly classified rows on val is: {(val_accuracy*len(val))} of {(len(val))}\")\n",
    "print(f'On train data KNN guessed {train_accuracy*len(train)} obs. of {(len(train))}')\n"
   ]
  },
  {
   "cell_type": "code",
   "execution_count": 62,
   "metadata": {
    "colab": {
     "base_uri": "https://localhost:8080/"
    },
    "id": "y0lqoCCs7ycL",
    "outputId": "df81524b-3bbd-4001-aa2a-2330a6b7282c"
   },
   "outputs": [
    {
     "name": "stdout",
     "output_type": "stream",
     "text": [
      "Validation accuracy on Val is 77.46%\n",
      "Number of correctly classified rows on val is: 110.0\n",
      "On original data KNN guessed 488.99999999999994 obs.\n"
     ]
    },
    {
     "name": "stderr",
     "output_type": "stream",
     "text": [
      "/usr/local/lib/python3.6/dist-packages/ipykernel_launcher.py:4: DataConversionWarning: A column-vector y was passed when a 1d array was expected. Please change the shape of y to (n_samples, ), for example using ravel().\n",
      "  after removing the cwd from sys.path.\n"
     ]
    }
   ],
   "source": [
    "#print(train.shape)\n",
    "k=4\n",
    "model = KNeighborsClassifier(k)\n",
    "model = model.fit(X = np.array(train['MVPA_min']).reshape(-1, 1), y = np.array(train['SatisfactionWithHealth']).reshape(-1, 1)) \n",
    "\n",
    "#Num of correctly classified\n",
    "train_predict = model.predict(np.array(train['MVPA_min']).reshape(-1, 1))\n",
    "train_accuracy = np.mean(train_predict == train.SatisfactionWithHealth)\n",
    "#print(str(train_accuracy*100))\n",
    "\n",
    "val_predict = model.predict(np.array(val['MVPA_min']).reshape(-1, 1))\n",
    "val_accuracy = np.mean(val_predict == val.SatisfactionWithHealth)\n",
    "#print(val_accuracy)\n",
    "n_correct = val_accuracy*len(val)\n",
    "\n",
    "print(f\"Validation accuracy on Val is {round((val_accuracy*100),2)}%\")\n",
    "print(f\"Number of correctly classified rows on val is: {(val_accuracy*len(val))}\")\n",
    "print(f'On original data KNN guessed {train_accuracy*len(train)} obs. of {(len(train))}')\n"
   ]
  },
  {
   "cell_type": "markdown",
   "metadata": {
    "id": "OdIu4qK8qi3N"
   },
   "source": [
    "#### DecisionTrees"
   ]
  },
  {
   "cell_type": "code",
   "execution_count": 63,
   "metadata": {
    "colab": {
     "base_uri": "https://localhost:8080/"
    },
    "id": "CYLAEbFKtoTa",
    "outputId": "e262b0bc-ea51-43ba-d29b-ef3ba1bef090"
   },
   "outputs": [
    {
     "name": "stdout",
     "output_type": "stream",
     "text": [
      "On original data DT guessed 113.0 images of 142\n",
      "Accuracy 79.58%\n"
     ]
    }
   ],
   "source": [
    "model = DecisionTreeClassifier(max_depth=5)\n",
    "model.fit(X = np.array(train['Sedentary_min']).reshape(-1, 1), y = np.array(train['SatisfactionWithHealth']).reshape(-1, 1)) \n",
    "val_predict = model.predict(np.array(val['Sedentary_min']).reshape(-1, 1))\n",
    "#print(val_predict)\n",
    "val_accuracy = np.mean(val_predict == val.SatisfactionWithHealth)\n",
    "#print(val_accuracy)\n",
    "n_correct = val_accuracy*len(val)\n",
    "\n",
    "##### YOUR CODE ENDS ##### (please do not delete this line)\n",
    "print(f'On original data DT guessed {n_correct} images of {len(val)}')\n",
    "print(f'Accuracy {round((val_accuracy*100),2)}%')\n"
   ]
  },
  {
   "cell_type": "code",
   "execution_count": 64,
   "metadata": {
    "colab": {
     "base_uri": "https://localhost:8080/"
    },
    "id": "l3KH6q8InzUG",
    "outputId": "6bd15c76-4370-4491-d085-ab41ddec10c9"
   },
   "outputs": [
    {
     "name": "stdout",
     "output_type": "stream",
     "text": [
      "On original data DT guessed 113.0 images of 142\n",
      "Accuracy 79.58%\n"
     ]
    }
   ],
   "source": [
    "model = DecisionTreeClassifier(max_depth=4)\n",
    "model.fit(X = np.array(train['Sedentary_min']).reshape(-1, 1), y = np.array(train['SatisfactionWithHealth']).reshape(-1, 1)) \n",
    "val_predict = model.predict(np.array(val['Sedentary_min']).reshape(-1, 1))\n",
    "#print(val_predict)\n",
    "val_accuracy = np.mean(val_predict == val.SatisfactionWithHealth)\n",
    "#print(val_accuracy)\n",
    "n_correct = val_accuracy*len(val)\n",
    "\n",
    "##### YOUR CODE ENDS ##### (please do not delete this line)\n",
    "print(f'On original data DT guessed {n_correct} images of {len(val)}')\n",
    "print(f'Accuracy {round((val_accuracy*100),2)}%')\n"
   ]
  },
  {
   "cell_type": "code",
   "execution_count": 155,
   "metadata": {
    "colab": {
     "base_uri": "https://localhost:8080/"
    },
    "id": "AKtUVbQBnfc1",
    "outputId": "b662b011-cab9-42d8-fd06-94b07835aa0a"
   },
   "outputs": [
    {
     "name": "stdout",
     "output_type": "stream",
     "text": [
      "On original data DT guessed 227.0 images of 283\n",
      "Accuracy 80.21%\n"
     ]
    }
   ],
   "source": [
    "model = DecisionTreeClassifier(max_depth=3)\n",
    "model.fit(X = np.array(train['Sedentary_min']).reshape(-1, 1), y = np.array(train['SatisfactionWithHealth']).reshape(-1, 1)) \n",
    "val_predict = model.predict(np.array(val['Sedentary_min']).reshape(-1, 1))\n",
    "#print(val_predict)\n",
    "val_accuracy = np.mean(val_predict == val.SatisfactionWithHealth)\n",
    "#print(val_accuracy)\n",
    "n_correct = val_accuracy*len(val)\n",
    "\n",
    "##### YOUR CODE ENDS ##### (please do not delete this line)\n",
    "print(f'On original data DT guessed {n_correct} images of {len(val)}')\n",
    "print(f'Accuracy {round((val_accuracy*100),2)}%')\n"
   ]
  },
  {
   "cell_type": "code",
   "execution_count": 103,
   "metadata": {
    "colab": {
     "base_uri": "https://localhost:8080/"
    },
    "id": "e8peCCL9n-QT",
    "outputId": "17eea2c5-cc79-426c-fc81-4bca4725cc34"
   },
   "outputs": [
    {
     "name": "stdout",
     "output_type": "stream",
     "text": [
      "On original data DT guessed 115.0 images of 142\n",
      "Accuracy 80.99%\n"
     ]
    }
   ],
   "source": [
    "model = DecisionTreeClassifier(max_depth=4)\n",
    "model.fit(X = np.array(train['BMI']).reshape(-1, 1), y = np.array(train['SatisfactionWithHealth']).reshape(-1, 1)) \n",
    "val_predict = model.predict(np.array(val['BMI']).reshape(-1, 1))\n",
    "#print(val_predict)\n",
    "val_accuracy = np.mean(val_predict == val.SatisfactionWithHealth)\n",
    "#print(val_accuracy)\n",
    "n_correct = val_accuracy*len(val)\n",
    "\n",
    "##### YOUR CODE ENDS ##### (please do not delete this line)\n",
    "print(f'On original data DT guessed {n_correct} images of {len(val)}')\n",
    "print(f'Accuracy {round((val_accuracy*100),2)}%')\n"
   ]
  },
  {
   "cell_type": "code",
   "execution_count": 125,
   "metadata": {
    "id": "O5OqND47pvFU"
   },
   "outputs": [],
   "source": [
    "X_train = train.iloc[:, [1, 3]].values\n",
    "y_train = train.iloc[:, 12].values\n",
    "X_val = val.iloc[:, [1, 3]].values\n",
    "y_val = val.iloc[:, 12].values"
   ]
  },
  {
   "cell_type": "code",
   "execution_count": 126,
   "metadata": {
    "colab": {
     "base_uri": "https://localhost:8080/"
    },
    "id": "eZFY_FKvpY2x",
    "outputId": "6257ac28-51c5-4895-f469-b5cca6c76ffa"
   },
   "outputs": [
    {
     "name": "stdout",
     "output_type": "stream",
     "text": [
      "Accuracy of a single DT 71.83098591549296%\n"
     ]
    }
   ],
   "source": [
    "##TRY\n",
    "\n",
    "from sklearn.tree import DecisionTreeClassifier\n",
    "\n",
    "np.random.seed(1111) # random seed for consistency\n",
    "\n",
    "model1 = DecisionTreeClassifier()\n",
    "model1.fit(X_train,y_train)\n",
    "single_model_score = model1.score(X_val, y_val)*100\n",
    "print(f\"Accuracy of a single DT {single_model_score}%\")"
   ]
  },
  {
   "cell_type": "code",
   "execution_count": 98,
   "metadata": {
    "id": "_LBD2yFOqDua"
   },
   "outputs": [],
   "source": [
    "X_train = train.iloc[:, [-5]].values\n",
    "y_train = train.iloc[:, 12].values\n",
    "X_val = val.iloc[:, [-5]].values\n",
    "y_val = val.iloc[:, 12].values"
   ]
  },
  {
   "cell_type": "code",
   "execution_count": 99,
   "metadata": {
    "colab": {
     "base_uri": "https://localhost:8080/"
    },
    "id": "H_dGzuGj4ojF",
    "outputId": "41c23245-c592-4029-81af-65f7d7f8ed13"
   },
   "outputs": [
    {
     "name": "stdout",
     "output_type": "stream",
     "text": [
      "Accuracy of a single DT 79.5774647887324%\n"
     ]
    }
   ],
   "source": [
    "np.random.seed(1111) # random seed for consistency\n",
    "\n",
    "model1 = DecisionTreeClassifier()\n",
    "model1.fit(X_train,y_train)\n",
    "single_model_score = model1.score(X_val, y_val)*100\n",
    "print(f\"Accuracy of a single DT {single_model_score}%\")"
   ]
  },
  {
   "cell_type": "code",
   "execution_count": 100,
   "metadata": {
    "id": "rFqfEAx0qM8i"
   },
   "outputs": [],
   "source": [
    "X_train = train.loc[:, ['BMI']].values\n",
    "y_train = train.iloc[:, 12].values\n",
    "X_val = val.loc[:, ['BMI']].values\n",
    "y_val = val.iloc[:, 12].values"
   ]
  },
  {
   "cell_type": "code",
   "execution_count": 71,
   "metadata": {
    "colab": {
     "base_uri": "https://localhost:8080/"
    },
    "id": "HZLUT2QNqFVC",
    "outputId": "061fa810-57de-421d-bd6f-e3246c4bb830"
   },
   "outputs": [
    {
     "name": "stdout",
     "output_type": "stream",
     "text": [
      "Accuracy of a single DT 78.87323943661971%\n"
     ]
    }
   ],
   "source": [
    "np.random.seed(1111) # random seed for consistency\n",
    "\n",
    "model1 = DecisionTreeClassifier()\n",
    "model1.fit(X_train,y_train)\n",
    "single_model_score = model1.score(X_val, y_val)*100\n",
    "print(f\"Accuracy of a single DT {single_model_score}%\")"
   ]
  },
  {
   "cell_type": "markdown",
   "metadata": {
    "id": "AHODQjqzqsJv"
   },
   "source": [
    "#### Resample"
   ]
  },
  {
   "cell_type": "code",
   "execution_count": 136,
   "metadata": {
    "id": "8qjnoCaAmJz8"
   },
   "outputs": [],
   "source": [
    "from sklearn.utils import resample\n",
    "n_bootstraps = 3\n",
    "np.random.seed(1111)\n",
    "\n",
    "# the following line randomly chooses 80% of data and stores \n",
    "# row indices into a resamples variable this is done [n_bootstraps] times\n",
    "resamples = [resample(train, n_samples = int(len(train)*0.8), replace = False).index.values for i in range(n_bootstraps)]"
   ]
  },
  {
   "cell_type": "code",
   "execution_count": 137,
   "metadata": {
    "id": "olzQDs-4mQW0"
   },
   "outputs": [],
   "source": [
    "# first resample\n",
    "train_resample1 = train.loc[resamples[0]]\n",
    "\n",
    "# second resample\n",
    "train_resample2 = train.loc[resamples[1]]\n",
    "\n",
    "# third resample\n",
    "train_resample3 = train.loc[resamples[2]]"
   ]
  },
  {
   "cell_type": "code",
   "execution_count": 138,
   "metadata": {
    "id": "0POLfW3Smf-f"
   },
   "outputs": [],
   "source": [
    "# We couldn't use only one variable as\n",
    "# we wouldn't be able to capture progress of each DT independently\n",
    "model1 = DecisionTreeClassifier()\n",
    "model2 = DecisionTreeClassifier()\n",
    "model3 = DecisionTreeClassifier()"
   ]
  },
  {
   "cell_type": "code",
   "execution_count": 139,
   "metadata": {
    "colab": {
     "base_uri": "https://localhost:8080/"
    },
    "id": "IvH7rIzWmgph",
    "outputId": "bda771f0-a4eb-45a7-d76d-1de1772099c6"
   },
   "outputs": [
    {
     "data": {
      "text/plain": [
       "DecisionTreeClassifier(ccp_alpha=0.0, class_weight=None, criterion='gini',\n",
       "                       max_depth=None, max_features=None, max_leaf_nodes=None,\n",
       "                       min_impurity_decrease=0.0, min_impurity_split=None,\n",
       "                       min_samples_leaf=1, min_samples_split=2,\n",
       "                       min_weight_fraction_leaf=0.0, presort='deprecated',\n",
       "                       random_state=None, splitter='best')"
      ]
     },
     "execution_count": 139,
     "metadata": {
      "tags": []
     },
     "output_type": "execute_result"
    }
   ],
   "source": [
    "np.random.seed(1111) # random seed for consistency\n",
    "\n",
    "# Note, that we cannot use VotingClassifier as before, \n",
    "# as each tree has to be trained on its own data\n",
    "model1.fit(train_resample1[['MVPA_min', 'Sedentary_min', 'Light_min', 'ActiveTransportPerDay_min']], train_resample1[['SatisfactionWithHealth']])\n",
    "model2.fit(train_resample2[['MVPA_min', 'Sedentary_min', 'Light_min', 'ActiveTransportPerDay_min']], train_resample2[['SatisfactionWithHealth']])\n",
    "model3.fit(train_resample3[['MVPA_min', 'Sedentary_min', 'Light_min', 'ActiveTransportPerDay_min']], train_resample3[['SatisfactionWithHealth']])"
   ]
  },
  {
   "cell_type": "code",
   "execution_count": 140,
   "metadata": {
    "colab": {
     "base_uri": "https://localhost:8080/",
     "height": 232
    },
    "id": "9CVLW79nmkKQ",
    "outputId": "7c961f86-a1d1-48de-d7a7-fbf0f66e5328"
   },
   "outputs": [
    {
     "ename": "NameError",
     "evalue": "ignored",
     "output_type": "error",
     "traceback": [
      "\u001b[0;31m---------------------------------------------------------------------------\u001b[0m",
      "\u001b[0;31mNameError\u001b[0m                                 Traceback (most recent call last)",
      "\u001b[0;32m<ipython-input-140-56b40d00839a>\u001b[0m in \u001b[0;36m<module>\u001b[0;34m()\u001b[0m\n\u001b[1;32m      3\u001b[0m \u001b[0mppu\u001b[0m \u001b[0;34m=\u001b[0m \u001b[0;36m20\u001b[0m \u001b[0;31m# points per unit\u001b[0m\u001b[0;34m\u001b[0m\u001b[0;34m\u001b[0m\u001b[0m\n\u001b[1;32m      4\u001b[0m \u001b[0;34m\u001b[0m\u001b[0m\n\u001b[0;32m----> 5\u001b[0;31m \u001b[0mgrid_data\u001b[0m \u001b[0;34m=\u001b[0m \u001b[0mgenerate_grid\u001b[0m\u001b[0;34m(\u001b[0m\u001b[0mstart\u001b[0m\u001b[0;34m,\u001b[0m \u001b[0mstop\u001b[0m\u001b[0;34m,\u001b[0m \u001b[0mppu\u001b[0m\u001b[0;34m)\u001b[0m\u001b[0;34m\u001b[0m\u001b[0;34m\u001b[0m\u001b[0m\n\u001b[0m\u001b[1;32m      6\u001b[0m \u001b[0;34m\u001b[0m\u001b[0m\n\u001b[1;32m      7\u001b[0m \u001b[0mgrid_data\u001b[0m\u001b[0;34m[\u001b[0m\u001b[0;34m'model1'\u001b[0m\u001b[0;34m]\u001b[0m \u001b[0;34m=\u001b[0m \u001b[0mmodel1\u001b[0m\u001b[0;34m.\u001b[0m\u001b[0mpredict\u001b[0m\u001b[0;34m(\u001b[0m\u001b[0mgrid_data\u001b[0m\u001b[0;34m[\u001b[0m\u001b[0;34m[\u001b[0m\u001b[0;34m'x1'\u001b[0m\u001b[0;34m,\u001b[0m \u001b[0;34m'x2'\u001b[0m\u001b[0;34m]\u001b[0m\u001b[0;34m]\u001b[0m\u001b[0;34m)\u001b[0m\u001b[0;34m\u001b[0m\u001b[0;34m\u001b[0m\u001b[0m\n",
      "\u001b[0;31mNameError\u001b[0m: name 'generate_grid' is not defined"
     ]
    }
   ],
   "source": [
    "start = -3 \n",
    "stop = 4\n",
    "ppu = 20 # points per unit\n",
    "\n",
    "grid_data = generate_grid(start, stop, ppu)\n",
    "\n",
    "grid_data['model1'] = model1.predict(grid_data[['x1', 'x2']])\n",
    "grid_data['model2'] = model2.predict(grid_data[['x1', 'x2']])\n",
    "grid_data['model3'] = model3.predict(grid_data[['x1', 'x2']])"
   ]
  },
  {
   "cell_type": "code",
   "execution_count": null,
   "metadata": {
    "id": "1olfIXtnmm9O"
   },
   "outputs": [],
   "source": [
    "draw_points_ggplot2(train_resample1) + geom_point(data = grid_data, mapping = aes(x = 'x1', y = 'x2', colour = 'factor(model1)'),  size = .5, alpha = 0.2)"
   ]
  },
  {
   "cell_type": "code",
   "execution_count": null,
   "metadata": {
    "id": "Nzbhj3TgMYZx"
   },
   "outputs": [],
   "source": []
  },
  {
   "cell_type": "markdown",
   "metadata": {
    "id": "WqOglyDVMZX5"
   },
   "source": [
    "#### Ensemble (wrong approach)"
   ]
  },
  {
   "cell_type": "code",
   "execution_count": null,
   "metadata": {
    "id": "5OP_CAzcMdME"
   },
   "outputs": [],
   "source": [
    "from sklearn.linear_model import LinearRegression, Lasso, Ridge\n",
    "lr = LinearRegression()\n",
    "lambda_ = 1\n",
    "# Ridge regression (template)\n",
    "lr_ridge = Ridge(lambda_)\n",
    "# Lasso \n",
    "lr_lasso = Lasso(lambda_)"
   ]
  },
  {
   "cell_type": "code",
   "execution_count": null,
   "metadata": {
    "colab": {
     "base_uri": "https://localhost:8080/",
     "height": 419
    },
    "id": "E1cHAvfdXKJ9",
    "outputId": "de7aad29-1d68-49cb-a224-d0fa12189154"
   },
   "outputs": [
    {
     "data": {
      "text/html": [
       "<div>\n",
       "<style scoped>\n",
       "    .dataframe tbody tr th:only-of-type {\n",
       "        vertical-align: middle;\n",
       "    }\n",
       "\n",
       "    .dataframe tbody tr th {\n",
       "        vertical-align: top;\n",
       "    }\n",
       "\n",
       "    .dataframe thead th {\n",
       "        text-align: right;\n",
       "    }\n",
       "</style>\n",
       "<table border=\"1\" class=\"dataframe\">\n",
       "  <thead>\n",
       "    <tr style=\"text-align: right;\">\n",
       "      <th></th>\n",
       "      <th>MVPA_min</th>\n",
       "      <th>HowOftenDoRecreationalSportAtLeast30min</th>\n",
       "      <th>N_of_days_with_60minMVPA</th>\n",
       "    </tr>\n",
       "  </thead>\n",
       "  <tbody>\n",
       "    <tr>\n",
       "      <th>690</th>\n",
       "      <td>44.142857</td>\n",
       "      <td>3.0</td>\n",
       "      <td>2</td>\n",
       "    </tr>\n",
       "    <tr>\n",
       "      <th>119</th>\n",
       "      <td>54.343750</td>\n",
       "      <td>3.0</td>\n",
       "      <td>3</td>\n",
       "    </tr>\n",
       "    <tr>\n",
       "      <th>441</th>\n",
       "      <td>38.785714</td>\n",
       "      <td>5.0</td>\n",
       "      <td>1</td>\n",
       "    </tr>\n",
       "    <tr>\n",
       "      <th>502</th>\n",
       "      <td>35.714286</td>\n",
       "      <td>4.0</td>\n",
       "      <td>0</td>\n",
       "    </tr>\n",
       "    <tr>\n",
       "      <th>390</th>\n",
       "      <td>24.300000</td>\n",
       "      <td>6.0</td>\n",
       "      <td>0</td>\n",
       "    </tr>\n",
       "    <tr>\n",
       "      <th>...</th>\n",
       "      <td>...</td>\n",
       "      <td>...</td>\n",
       "      <td>...</td>\n",
       "    </tr>\n",
       "    <tr>\n",
       "      <th>703</th>\n",
       "      <td>46.357143</td>\n",
       "      <td>3.0</td>\n",
       "      <td>2</td>\n",
       "    </tr>\n",
       "    <tr>\n",
       "      <th>565</th>\n",
       "      <td>105.000000</td>\n",
       "      <td>2.0</td>\n",
       "      <td>5</td>\n",
       "    </tr>\n",
       "    <tr>\n",
       "      <th>22</th>\n",
       "      <td>36.375000</td>\n",
       "      <td>4.0</td>\n",
       "      <td>0</td>\n",
       "    </tr>\n",
       "    <tr>\n",
       "      <th>630</th>\n",
       "      <td>98.500000</td>\n",
       "      <td>2.0</td>\n",
       "      <td>6</td>\n",
       "    </tr>\n",
       "    <tr>\n",
       "      <th>805</th>\n",
       "      <td>26.625000</td>\n",
       "      <td>4.0</td>\n",
       "      <td>1</td>\n",
       "    </tr>\n",
       "  </tbody>\n",
       "</table>\n",
       "<p>283 rows × 3 columns</p>\n",
       "</div>"
      ],
      "text/plain": [
       "       MVPA_min  ...  N_of_days_with_60minMVPA\n",
       "690   44.142857  ...                         2\n",
       "119   54.343750  ...                         3\n",
       "441   38.785714  ...                         1\n",
       "502   35.714286  ...                         0\n",
       "390   24.300000  ...                         0\n",
       "..          ...  ...                       ...\n",
       "703   46.357143  ...                         2\n",
       "565  105.000000  ...                         5\n",
       "22    36.375000  ...                         0\n",
       "630   98.500000  ...                         6\n",
       "805   26.625000  ...                         1\n",
       "\n",
       "[283 rows x 3 columns]"
      ]
     },
     "execution_count": 177,
     "metadata": {
      "tags": []
     },
     "output_type": "execute_result"
    }
   ],
   "source": [
    "train1 = train[['MVPA_min', 'HowOftenDoRecreationalSportAtLeast30min', 'N_of_days_with_60minMVPA']]\n",
    "train1\n",
    "val1 = val[['MVPA_min', 'HowOftenDoRecreationalSportAtLeast30min', 'N_of_days_with_60minMVPA']]\n",
    "val1"
   ]
  },
  {
   "cell_type": "code",
   "execution_count": null,
   "metadata": {
    "colab": {
     "base_uri": "https://localhost:8080/"
    },
    "id": "fG5unVfwMhsN",
    "outputId": "5f932cc3-95dc-4bef-88da-033c8fb0eaab"
   },
   "outputs": [
    {
     "data": {
      "text/plain": [
       "Lasso(alpha=1, copy_X=True, fit_intercept=True, max_iter=1000, normalize=False,\n",
       "      positive=False, precompute=False, random_state=None, selection='cyclic',\n",
       "      tol=0.0001, warm_start=False)"
      ]
     },
     "execution_count": 192,
     "metadata": {
      "tags": []
     },
     "output_type": "execute_result"
    }
   ],
   "source": [
    "lr.fit(train[['MVPA_min']], train[['SatisfactionWithHealth']])\n",
    "lr_ridge.fit(train[['MVPA_min']], train[['SatisfactionWithHealth']])\n",
    "lr_lasso.fit(train[['MVPA_min']], train[['SatisfactionWithHealth']])"
   ]
  },
  {
   "cell_type": "code",
   "execution_count": null,
   "metadata": {
    "id": "KFWF3CwmcSHD"
   },
   "outputs": [],
   "source": [
    "lr_pred = lr.predict(val[['MVPA_min']])\n",
    "lr_ridge_pred = lr_ridge.predict(val[['MVPA_min']])\n",
    "lr_lasso_pred = lr_lasso.predict(val[['MVPA_min']]).reshape((283,1))"
   ]
  },
  {
   "cell_type": "code",
   "execution_count": null,
   "metadata": {
    "id": "MeAVsqDYcjoC"
   },
   "outputs": [],
   "source": [
    "def rss(predicted, true): # RSS == Residual Sum of Squares\n",
    "  return(np.sum((true - predicted)**2))"
   ]
  },
  {
   "cell_type": "code",
   "execution_count": null,
   "metadata": {
    "colab": {
     "base_uri": "https://localhost:8080/"
    },
    "id": "0Nosqk0rcz9V",
    "outputId": "210c44aa-d544-40e7-d11f-c81bd7a0feee"
   },
   "outputs": [
    {
     "name": "stdout",
     "output_type": "stream",
     "text": [
      "RSS for Linear Regression: 49.23030341308943\n",
      "RSS for Ridge Regression: 49.230298531055\n",
      "RSS for Lasso Regression: 49.261580806300785\n"
     ]
    }
   ],
   "source": [
    "lr_rss = rss(lr_pred, val[['SatisfactionWithHealth']])\n",
    "lr_ridge_rss = rss(lr_ridge_pred, val[['SatisfactionWithHealth']])\n",
    "lr_lasso_rss = rss(lr_lasso_pred, val[['SatisfactionWithHealth']])\n",
    "\n",
    "print(f'RSS for Linear Regression: {np.array(lr_rss)[0]}')\n",
    "print(f'RSS for Ridge Regression: {np.array(lr_ridge_rss)[0]}')\n",
    "print(f'RSS for Lasso Regression: {np.array(lr_lasso_rss)[0]}')"
   ]
  },
  {
   "cell_type": "code",
   "execution_count": null,
   "metadata": {
    "colab": {
     "base_uri": "https://localhost:8080/"
    },
    "id": "yP1FjvlEeuOV",
    "outputId": "2dc429b3-e828-4b30-a8cf-8ec5b7b47d02"
   },
   "outputs": [
    {
     "data": {
      "text/plain": [
       "Lasso(alpha=1, copy_X=True, fit_intercept=True, max_iter=1000, normalize=False,\n",
       "      positive=False, precompute=False, random_state=None, selection='cyclic',\n",
       "      tol=0.0001, warm_start=False)"
      ]
     },
     "execution_count": 205,
     "metadata": {
      "tags": []
     },
     "output_type": "execute_result"
    }
   ],
   "source": [
    "lr.fit(train1, train[['SatisfactionWithHealth']])\n",
    "lr_ridge.fit(train1, train[['SatisfactionWithHealth']])\n",
    "lr_lasso.fit(train1, train[['SatisfactionWithHealth']])"
   ]
  },
  {
   "cell_type": "code",
   "execution_count": null,
   "metadata": {
    "id": "T4I-9dXMbWOg"
   },
   "outputs": [],
   "source": [
    "lr_pred = lr.predict(val1)\n",
    "lr_ridge_pred = lr_ridge.predict(val1)\n",
    "lr_lasso_pred = lr_lasso.predict(val1).reshape((283,1))"
   ]
  },
  {
   "cell_type": "code",
   "execution_count": null,
   "metadata": {
    "colab": {
     "base_uri": "https://localhost:8080/"
    },
    "id": "53xJt5aifPGQ",
    "outputId": "b6415620-e9b5-4bdf-efa9-cb8b71a801f3"
   },
   "outputs": [
    {
     "name": "stdout",
     "output_type": "stream",
     "text": [
      "RSS for Linear Regression: 48.49566789205779\n",
      "RSS for Ridge Regression: 48.495529498198664\n",
      "RSS for Lasso Regression: 49.261580806300785\n"
     ]
    }
   ],
   "source": [
    "lr_rss = rss(lr_pred, val[['SatisfactionWithHealth']])\n",
    "lr_ridge_rss = rss(lr_ridge_pred, val[['SatisfactionWithHealth']])\n",
    "lr_lasso_rss = rss(lr_lasso_pred, val[['SatisfactionWithHealth']])\n",
    "\n",
    "print(f'RSS for Linear Regression: {np.array(lr_rss)[0]}')\n",
    "print(f'RSS for Ridge Regression: {np.array(lr_ridge_rss)[0]}')\n",
    "print(f'RSS for Lasso Regression: {np.array(lr_lasso_rss)[0]}')"
   ]
  },
  {
   "cell_type": "code",
   "execution_count": null,
   "metadata": {
    "colab": {
     "base_uri": "https://localhost:8080/"
    },
    "id": "BuSG6u_BkcqE",
    "outputId": "dea36e09-928b-475f-f13e-829367d0cd07"
   },
   "outputs": [
    {
     "data": {
      "text/plain": [
       "array([[1.17574383],\n",
       "       [1.13697192],\n",
       "       [1.25320507],\n",
       "       [1.25326666],\n",
       "       [1.32491968],\n",
       "       [1.08871847],\n",
       "       [1.11612761],\n",
       "       [1.10916026],\n",
       "       [1.2187831 ],\n",
       "       [1.1511238 ],\n",
       "       [1.06853213],\n",
       "       [1.25648899],\n",
       "       [1.26166931],\n",
       "       [1.24863517],\n",
       "       [1.19049927],\n",
       "       [1.26667367],\n",
       "       [1.26363238],\n",
       "       [1.01917177],\n",
       "       [1.20341023],\n",
       "       [1.21854555],\n",
       "       [1.22015193],\n",
       "       [1.05591437],\n",
       "       [1.11703438],\n",
       "       [1.02930655],\n",
       "       [1.19849461],\n",
       "       [1.22184279],\n",
       "       [1.1614171 ],\n",
       "       [1.25632002],\n",
       "       [1.17967658],\n",
       "       [1.22033296],\n",
       "       [1.08671546],\n",
       "       [1.14272977],\n",
       "       [1.08857278],\n",
       "       [1.03677072],\n",
       "       [1.18139195],\n",
       "       [1.23290849],\n",
       "       [1.204692  ],\n",
       "       [1.06715343],\n",
       "       [1.28650083],\n",
       "       [1.20991935],\n",
       "       [1.01409211],\n",
       "       [1.25256064],\n",
       "       [1.11621084],\n",
       "       [1.14147846],\n",
       "       [1.06774643],\n",
       "       [1.23909668],\n",
       "       [1.01381329],\n",
       "       [1.21601239],\n",
       "       [1.2395221 ],\n",
       "       [0.99022829],\n",
       "       [1.07788409],\n",
       "       [1.15048578],\n",
       "       [1.11872413],\n",
       "       [1.21549755],\n",
       "       [1.05775359],\n",
       "       [1.15640986],\n",
       "       [1.22598396],\n",
       "       [1.24242224],\n",
       "       [1.27841962],\n",
       "       [1.05358866],\n",
       "       [1.21221201],\n",
       "       [1.21549219],\n",
       "       [1.18753326],\n",
       "       [1.25589762],\n",
       "       [1.21865588],\n",
       "       [1.14529027],\n",
       "       [1.12979476],\n",
       "       [1.05523287],\n",
       "       [1.26823177],\n",
       "       [1.23009774],\n",
       "       [1.08460594],\n",
       "       [1.10189743],\n",
       "       [0.91219364],\n",
       "       [1.05463547],\n",
       "       [1.17426982],\n",
       "       [1.04632583],\n",
       "       [1.24049608],\n",
       "       [1.26709732],\n",
       "       [1.2764464 ],\n",
       "       [1.14382389],\n",
       "       [1.28403882],\n",
       "       [1.33580755],\n",
       "       [1.29859361],\n",
       "       [1.31529661],\n",
       "       [1.23451199],\n",
       "       [1.10519681],\n",
       "       [1.22344667],\n",
       "       [0.89710319],\n",
       "       [1.16807612],\n",
       "       [0.99878342],\n",
       "       [1.13610475],\n",
       "       [1.24030494],\n",
       "       [1.16693567],\n",
       "       [1.21579199],\n",
       "       [0.9083982 ],\n",
       "       [1.18182642],\n",
       "       [1.1560478 ],\n",
       "       [1.03721759],\n",
       "       [1.04276721],\n",
       "       [1.24201673],\n",
       "       [1.30112802],\n",
       "       [0.96352325],\n",
       "       [1.2941012 ],\n",
       "       [1.21807296],\n",
       "       [1.2361991 ],\n",
       "       [1.21142918],\n",
       "       [1.18929691],\n",
       "       [1.28238417],\n",
       "       [1.13650742],\n",
       "       [1.11465274],\n",
       "       [1.32827959],\n",
       "       [1.23394351],\n",
       "       [1.21005335],\n",
       "       [1.19928525],\n",
       "       [1.1316587 ],\n",
       "       [1.1411526 ],\n",
       "       [1.2147493 ],\n",
       "       [1.19609156],\n",
       "       [1.24385599],\n",
       "       [1.14686519],\n",
       "       [1.21439806],\n",
       "       [1.24827024],\n",
       "       [1.22576385],\n",
       "       [1.2796217 ],\n",
       "       [1.10865778],\n",
       "       [1.10564283],\n",
       "       [1.2282633 ],\n",
       "       [0.98064071],\n",
       "       [1.17932821],\n",
       "       [1.23822664],\n",
       "       [1.24979376],\n",
       "       [1.12398305],\n",
       "       [1.10618055],\n",
       "       [0.99268272],\n",
       "       [1.25262577],\n",
       "       [1.05897377],\n",
       "       [1.06209543],\n",
       "       [1.2570791 ],\n",
       "       [1.13360013],\n",
       "       [1.24414564],\n",
       "       [1.13854401],\n",
       "       [1.21381589],\n",
       "       [1.29844591],\n",
       "       [1.19631923],\n",
       "       [1.20588243],\n",
       "       [1.29286579],\n",
       "       [1.13310694],\n",
       "       [1.22361314],\n",
       "       [1.251242  ],\n",
       "       [1.26369397],\n",
       "       [1.31335356],\n",
       "       [1.30322509],\n",
       "       [0.8980433 ],\n",
       "       [0.942649  ],\n",
       "       [1.18571569],\n",
       "       [1.18584365],\n",
       "       [1.12744799],\n",
       "       [1.21061233],\n",
       "       [1.17552659],\n",
       "       [1.19803298],\n",
       "       [1.22082902],\n",
       "       [1.19911916],\n",
       "       [1.29273112],\n",
       "       [1.17574749],\n",
       "       [1.06195635],\n",
       "       [1.35007269],\n",
       "       [1.16124939],\n",
       "       [1.29852119],\n",
       "       [1.01242664],\n",
       "       [1.27638481],\n",
       "       [1.29612873],\n",
       "       [1.14810347],\n",
       "       [1.11819297],\n",
       "       [1.26112622],\n",
       "       [1.04261951],\n",
       "       [0.99613397],\n",
       "       [1.11544007],\n",
       "       [1.27420529],\n",
       "       [1.09136189],\n",
       "       [1.25051501],\n",
       "       [1.1501129 ],\n",
       "       [1.17567141],\n",
       "       [1.27228684],\n",
       "       [0.93931806],\n",
       "       [1.29611034],\n",
       "       [1.24042725],\n",
       "       [1.23980093],\n",
       "       [1.14974797],\n",
       "       [1.04318961],\n",
       "       [1.30000564],\n",
       "       [1.28132625],\n",
       "       [1.18211607],\n",
       "       [1.09705953],\n",
       "       [1.13295129],\n",
       "       [1.29655113],\n",
       "       [1.20983324],\n",
       "       [1.11574686],\n",
       "       [1.20476728],\n",
       "       [1.30161077],\n",
       "       [1.1440894 ],\n",
       "       [0.99158572],\n",
       "       [1.08461839],\n",
       "       [1.23430845],\n",
       "       [1.22043146],\n",
       "       [1.33798278],\n",
       "       [1.30293832],\n",
       "       [1.32675894],\n",
       "       [1.19343125],\n",
       "       [1.13293798],\n",
       "       [1.19809333],\n",
       "       [1.20696378],\n",
       "       [1.21949298],\n",
       "       [1.24987589],\n",
       "       [1.11671772],\n",
       "       [0.88066158],\n",
       "       [1.17698565],\n",
       "       [1.27762601],\n",
       "       [1.25897991],\n",
       "       [1.17670932],\n",
       "       [1.14856042],\n",
       "       [1.12680711],\n",
       "       [1.28341317],\n",
       "       [1.13676618],\n",
       "       [1.17945493],\n",
       "       [1.21821013],\n",
       "       [1.28386986],\n",
       "       [1.1350157 ],\n",
       "       [1.04478392],\n",
       "       [1.26806281],\n",
       "       [1.31201106],\n",
       "       [1.05215499],\n",
       "       [1.17916595],\n",
       "       [1.25857614],\n",
       "       [1.20863227],\n",
       "       [1.24296961],\n",
       "       [1.14115992],\n",
       "       [1.24685572],\n",
       "       [1.32806236],\n",
       "       [0.9708415 ],\n",
       "       [1.20139352],\n",
       "       [1.15837293],\n",
       "       [1.17235857],\n",
       "       [1.2477952 ],\n",
       "       [1.12905188],\n",
       "       [1.15114079],\n",
       "       [1.14870603],\n",
       "       [1.22739489],\n",
       "       [1.20567173],\n",
       "       [1.21655306],\n",
       "       [1.22969947],\n",
       "       [1.21533654],\n",
       "       [1.07598768],\n",
       "       [1.24414564],\n",
       "       [1.26877074],\n",
       "       [1.03659851],\n",
       "       [1.28345665],\n",
       "       [1.30887322],\n",
       "       [1.17932821],\n",
       "       [1.0994383 ],\n",
       "       [1.25349184],\n",
       "       [1.05739153],\n",
       "       [1.10906908],\n",
       "       [1.21440726],\n",
       "       [0.96120674],\n",
       "       [1.07749914],\n",
       "       [1.2785384 ],\n",
       "       [1.2600226 ],\n",
       "       [1.28380998],\n",
       "       [1.21410841],\n",
       "       [1.14684355],\n",
       "       [1.34207842],\n",
       "       [1.12195839],\n",
       "       [1.2408509 ],\n",
       "       [1.20440235],\n",
       "       [1.06868491],\n",
       "       [1.10842819],\n",
       "       [1.38048567],\n",
       "       [1.25101316],\n",
       "       [1.17125429],\n",
       "       [0.97383112],\n",
       "       [1.25192704],\n",
       "       [0.96892081],\n",
       "       [1.25360621]])"
      ]
     },
     "execution_count": 209,
     "metadata": {
      "tags": []
     },
     "output_type": "execute_result"
    }
   ],
   "source": [
    "lr_pred"
   ]
  },
  {
   "cell_type": "code",
   "execution_count": null,
   "metadata": {
    "colab": {
     "base_uri": "https://localhost:8080/"
    },
    "id": "2I-d-ZmoiOFJ",
    "outputId": "24ddeca8-642e-4c61-8377-c22acd5fd63a"
   },
   "outputs": [
    {
     "data": {
      "text/plain": [
       "SatisfactionWithHealth    0\n",
       "dtype: int64"
      ]
     },
     "execution_count": 208,
     "metadata": {
      "tags": []
     },
     "output_type": "execute_result"
    }
   ],
   "source": [
    "np.sum(lr_pred==val[['SatisfactionWithHealth']])"
   ]
  },
  {
   "cell_type": "code",
   "execution_count": null,
   "metadata": {
    "colab": {
     "base_uri": "https://localhost:8080/"
    },
    "id": "g4k_6wrCfgv1",
    "outputId": "eb40c127-da1f-422e-b8d8-2be3a03fccc0"
   },
   "outputs": [
    {
     "name": "stdout",
     "output_type": "stream",
     "text": [
      "RSS for Linear Regression: 47.99183819601306\n",
      "RSS for Ridge Regression: 47.99195797489318\n",
      "RSS for Lasso Regression: 50.300017799928796\n"
     ]
    }
   ],
   "source": [
    "lr.fit(train[['BMI']], train[['SatisfactionWithHealth']])\n",
    "lr_ridge.fit(train[['BMI']], train[['SatisfactionWithHealth']])\n",
    "lr_lasso.fit(train[['BMI']], train[['SatisfactionWithHealth']])\n",
    "\n",
    "lr_pred = lr.predict(val[['BMI']])\n",
    "lr_ridge_pred = lr_ridge.predict(val[['BMI']])\n",
    "lr_lasso_pred = lr_lasso.predict(val[['MVPA_min']]).reshape((283,1))\n",
    "\n",
    "lr_rss = rss(lr_pred, val[['SatisfactionWithHealth']])\n",
    "lr_ridge_rss = rss(lr_ridge_pred, val[['SatisfactionWithHealth']])\n",
    "lr_lasso_rss = rss(lr_lasso_pred, val[['SatisfactionWithHealth']])\n",
    "\n",
    "print(f'RSS for Linear Regression: {np.array(lr_rss)[0]}')\n",
    "print(f'RSS for Ridge Regression: {np.array(lr_ridge_rss)[0]}')\n",
    "print(f'RSS for Lasso Regression: {np.array(lr_lasso_rss)[0]}')"
   ]
  },
  {
   "cell_type": "code",
   "execution_count": null,
   "metadata": {
    "id": "IL8pecqYiKyv"
   },
   "outputs": [],
   "source": []
  },
  {
   "cell_type": "code",
   "execution_count": null,
   "metadata": {
    "colab": {
     "base_uri": "https://localhost:8080/",
     "height": 515
    },
    "id": "gOaHB9sePAq7",
    "outputId": "fbe15a7f-8731-4259-9512-bce68722b755"
   },
   "outputs": [
    {
     "name": "stderr",
     "output_type": "stream",
     "text": [
      "/usr/local/lib/python3.6/dist-packages/plotnine/layer.py:452: PlotnineWarning: geom_point : Removed 424 rows containing missing values.\n",
      "  self.data = self.geom.handle_na(self.data)\n"
     ]
    },
    {
     "data": {
      "image/png": "[encoded data removed]",
      "text/plain": [
       "<Figure size 500x500 with 1 Axes>"
      ]
     },
     "metadata": {
      "tags": []
     },
     "output_type": "display_data"
    },
    {
     "data": {
      "text/plain": [
       "<ggplot: (-9223363242571646471)>"
      ]
     },
     "execution_count": 171,
     "metadata": {
      "tags": []
     },
     "output_type": "execute_result"
    }
   ],
   "source": [
    "fig = (\n",
    "    ggplot(data = train,\n",
    "          mapping = aes(x = 'MVPA_min', y = 'SatisfactionWithHealth')) +\n",
    "    geom_point(fill = '#36B059', \n",
    "               size = 5.0,\n",
    "               stroke = 2.5,\n",
    "               colour = '#2BE062',\n",
    "               shape = 'o') +\n",
    "    labs(\n",
    "        title ='',\n",
    "        x = 'MVPA_min',\n",
    "        y = 'SatisfactionWithHealth',\n",
    "    ) +\n",
    "    xlim(0, 6) +\n",
    "    ylim(0, 7) +\n",
    "    theme_bw() + \n",
    "    theme(figure_size = (5, 5),\n",
    "          axis_line = element_line(size = 0.5, colour = \"black\"),\n",
    "          panel_grid_major = element_line(size = 0.05, colour = \"black\"),\n",
    "          panel_grid_minor = element_line(size = 0.05, colour = \"black\"),\n",
    "          axis_text = element_text(colour ='black'))\n",
    ")\n",
    "fig"
   ]
  },
  {
   "cell_type": "code",
   "execution_count": null,
   "metadata": {
    "colab": {
     "base_uri": "https://localhost:8080/",
     "height": 515
    },
    "id": "JOc0GfRPOt62",
    "outputId": "da99ea65-b0a4-4f85-cb8a-1345f857eed1"
   },
   "outputs": [
    {
     "name": "stderr",
     "output_type": "stream",
     "text": [
      "/usr/local/lib/python3.6/dist-packages/plotnine/layer.py:452: PlotnineWarning: geom_point : Removed 424 rows containing missing values.\n",
      "  self.data = self.geom.handle_na(self.data)\n"
     ]
    },
    {
     "data": {
      "image/png": "[encoded data removed]",
      "text/plain": [
       "<Figure size 500x500 with 1 Axes>"
      ]
     },
     "metadata": {
      "tags": []
     },
     "output_type": "display_data"
    },
    {
     "data": {
      "text/plain": [
       "<ggplot: (8794283105996)>"
      ]
     },
     "execution_count": 172,
     "metadata": {
      "tags": []
     },
     "output_type": "execute_result"
    }
   ],
   "source": [
    "fig = fig + geom_abline(intercept = lr.intercept_, slope = lr.coef_[0], linetype=\"dashed\", size=1)\n",
    "fig = fig + geom_abline(intercept = lr_ridge.intercept_, slope = lr_ridge.coef_[0], color=\"red\", linetype=\"solid\", size=1)\n",
    "fig = fig + geom_abline(intercept = lr_lasso.intercept_, slope = lr_lasso.coef_[0], color=\"blue\", linetype=\"solid\", size=1)\n",
    "fig"
   ]
  },
  {
   "cell_type": "code",
   "execution_count": null,
   "metadata": {
    "id": "REsTJsHIO1ir"
   },
   "outputs": [],
   "source": []
  },
  {
   "cell_type": "markdown",
   "metadata": {
    "id": "2vaFT7pMKDmX"
   },
   "source": [
    "#### Ensemble (KNN, DT, LogReg)"
   ]
  },
  {
   "cell_type": "code",
   "execution_count": 168,
   "metadata": {
    "id": "pJhEHt3PKNgp"
   },
   "outputs": [],
   "source": [
    "from sklearn.model_selection import train_test_split\n",
    "train, val = train_test_split(d, random_state = 111, test_size = 0.30) "
   ]
  },
  {
   "cell_type": "code",
   "execution_count": 169,
   "metadata": {
    "id": "a_0KWVzzK6U0"
   },
   "outputs": [],
   "source": [
    "X_train = train.iloc[:, [1,2,3]].values\n",
    "y_train = train.iloc[:, 12].values\n",
    "X_val = val.iloc[:, [1,2,3]].values\n",
    "y_val = val.iloc[:, 12].values"
   ]
  },
  {
   "cell_type": "code",
   "execution_count": 170,
   "metadata": {
    "colab": {
     "base_uri": "https://localhost:8080/"
    },
    "id": "wt3XxHLUKkPW",
    "outputId": "5bc59fa8-ff60-4636-eae5-1893e06c528a"
   },
   "outputs": [
    {
     "name": "stderr",
     "output_type": "stream",
     "text": [
      "/usr/local/lib/python3.6/dist-packages/ipykernel_launcher.py:18: SettingWithCopyWarning: \n",
      "A value is trying to be set on a copy of a slice from a DataFrame.\n",
      "Try using .loc[row_indexer,col_indexer] = value instead\n",
      "\n",
      "See the caveats in the documentation: https://pandas.pydata.org/pandas-docs/stable/user_guide/indexing.html#returning-a-view-versus-a-copy\n",
      "/usr/local/lib/python3.6/dist-packages/ipykernel_launcher.py:19: SettingWithCopyWarning: \n",
      "A value is trying to be set on a copy of a slice from a DataFrame.\n",
      "Try using .loc[row_indexer,col_indexer] = value instead\n",
      "\n",
      "See the caveats in the documentation: https://pandas.pydata.org/pandas-docs/stable/user_guide/indexing.html#returning-a-view-versus-a-copy\n",
      "/usr/local/lib/python3.6/dist-packages/ipykernel_launcher.py:20: SettingWithCopyWarning: \n",
      "A value is trying to be set on a copy of a slice from a DataFrame.\n",
      "Try using .loc[row_indexer,col_indexer] = value instead\n",
      "\n",
      "See the caveats in the documentation: https://pandas.pydata.org/pandas-docs/stable/user_guide/indexing.html#returning-a-view-versus-a-copy\n"
     ]
    }
   ],
   "source": [
    "from sklearn.tree import DecisionTreeClassifier\n",
    "from sklearn.neighbors import KNeighborsClassifier\n",
    "from sklearn.linear_model import LogisticRegression \n",
    "\n",
    "np.random.seed(1111) # random seed for consistency\n",
    "\n",
    "# define all three classifiers\n",
    "model1 = DecisionTreeClassifier(max_depth = 2)\n",
    "model2 = KNeighborsClassifier()\n",
    "model3 = LogisticRegression()\n",
    "\n",
    "# train classifiers\n",
    "model1.fit(X_train,y_train)\n",
    "model2.fit(X_train,y_train)\n",
    "model3.fit(X_train,y_train)\n",
    "\n",
    "# predict validation set\n",
    "val['model1'] = model1.predict(X_val)\n",
    "val['model2'] = model2.predict(X_val)\n",
    "val['model3'] = model3.predict(X_val)"
   ]
  },
  {
   "cell_type": "code",
   "execution_count": 171,
   "metadata": {
    "colab": {
     "base_uri": "https://localhost:8080/",
     "height": 224
    },
    "id": "Lhq7EJPnKn-K",
    "outputId": "02e95616-2228-4b5a-f51c-2a81d893ab84"
   },
   "outputs": [
    {
     "data": {
      "text/html": [
       "<div>\n",
       "<style scoped>\n",
       "    .dataframe tbody tr th:only-of-type {\n",
       "        vertical-align: middle;\n",
       "    }\n",
       "\n",
       "    .dataframe tbody tr th {\n",
       "        vertical-align: top;\n",
       "    }\n",
       "\n",
       "    .dataframe thead th {\n",
       "        text-align: right;\n",
       "    }\n",
       "</style>\n",
       "<table border=\"1\" class=\"dataframe\">\n",
       "  <thead>\n",
       "    <tr style=\"text-align: right;\">\n",
       "      <th></th>\n",
       "      <th>Subject</th>\n",
       "      <th>Sedentary_min</th>\n",
       "      <th>Light_min</th>\n",
       "      <th>MVPA_min</th>\n",
       "      <th>N_of_days_with_30minMVPA</th>\n",
       "      <th>N_of_days_with_60minMVPA</th>\n",
       "      <th>N_measurement_days</th>\n",
       "      <th>Profession</th>\n",
       "      <th>Age</th>\n",
       "      <th>Gender</th>\n",
       "      <th>HowOftenDoRecreationalSportAtLeast30min</th>\n",
       "      <th>ActiveTransportPerDay_min</th>\n",
       "      <th>SatisfactionWithHealth</th>\n",
       "      <th>Weight_kg</th>\n",
       "      <th>Height_cm</th>\n",
       "      <th>BMI</th>\n",
       "      <th>SatisfactionWithJob</th>\n",
       "      <th>School</th>\n",
       "      <th>County</th>\n",
       "      <th>model1</th>\n",
       "      <th>model2</th>\n",
       "      <th>model3</th>\n",
       "    </tr>\n",
       "  </thead>\n",
       "  <tbody>\n",
       "    <tr>\n",
       "      <th>690</th>\n",
       "      <td>20135</td>\n",
       "      <td>615.678571</td>\n",
       "      <td>180.428571</td>\n",
       "      <td>44.142857</td>\n",
       "      <td>6</td>\n",
       "      <td>2</td>\n",
       "      <td>7</td>\n",
       "      <td>Teacher</td>\n",
       "      <td>59.0</td>\n",
       "      <td>2.0</td>\n",
       "      <td>3.0</td>\n",
       "      <td>0.0</td>\n",
       "      <td>2.0</td>\n",
       "      <td>90.0</td>\n",
       "      <td>163.0</td>\n",
       "      <td>33.9</td>\n",
       "      <td>1.0</td>\n",
       "      <td>School31</td>\n",
       "      <td>Tartu</td>\n",
       "      <td>1.0</td>\n",
       "      <td>2.0</td>\n",
       "      <td>1.0</td>\n",
       "    </tr>\n",
       "    <tr>\n",
       "      <th>119</th>\n",
       "      <td>19194</td>\n",
       "      <td>591.468750</td>\n",
       "      <td>238.843750</td>\n",
       "      <td>54.343750</td>\n",
       "      <td>5</td>\n",
       "      <td>3</td>\n",
       "      <td>8</td>\n",
       "      <td>Teacher</td>\n",
       "      <td>63.0</td>\n",
       "      <td>2.0</td>\n",
       "      <td>3.0</td>\n",
       "      <td>90.0</td>\n",
       "      <td>1.0</td>\n",
       "      <td>60.0</td>\n",
       "      <td>163.0</td>\n",
       "      <td>22.6</td>\n",
       "      <td>1.0</td>\n",
       "      <td>School16</td>\n",
       "      <td>Harju</td>\n",
       "      <td>1.0</td>\n",
       "      <td>1.0</td>\n",
       "      <td>1.0</td>\n",
       "    </tr>\n",
       "    <tr>\n",
       "      <th>441</th>\n",
       "      <td>19733</td>\n",
       "      <td>671.035714</td>\n",
       "      <td>125.357143</td>\n",
       "      <td>38.785714</td>\n",
       "      <td>5</td>\n",
       "      <td>1</td>\n",
       "      <td>7</td>\n",
       "      <td>Teacher</td>\n",
       "      <td>24.0</td>\n",
       "      <td>2.0</td>\n",
       "      <td>5.0</td>\n",
       "      <td>20.0</td>\n",
       "      <td>1.0</td>\n",
       "      <td>86.0</td>\n",
       "      <td>170.0</td>\n",
       "      <td>29.8</td>\n",
       "      <td>1.0</td>\n",
       "      <td>School38</td>\n",
       "      <td>TartuCity</td>\n",
       "      <td>1.0</td>\n",
       "      <td>1.0</td>\n",
       "      <td>1.0</td>\n",
       "    </tr>\n",
       "    <tr>\n",
       "      <th>502</th>\n",
       "      <td>19842</td>\n",
       "      <td>603.535714</td>\n",
       "      <td>265.464286</td>\n",
       "      <td>35.714286</td>\n",
       "      <td>4</td>\n",
       "      <td>0</td>\n",
       "      <td>7</td>\n",
       "      <td>Teacher</td>\n",
       "      <td>41.0</td>\n",
       "      <td>2.0</td>\n",
       "      <td>4.0</td>\n",
       "      <td>0.0</td>\n",
       "      <td>2.0</td>\n",
       "      <td>79.0</td>\n",
       "      <td>168.0</td>\n",
       "      <td>28.0</td>\n",
       "      <td>1.0</td>\n",
       "      <td>School21</td>\n",
       "      <td>Harju</td>\n",
       "      <td>1.0</td>\n",
       "      <td>1.0</td>\n",
       "      <td>1.0</td>\n",
       "    </tr>\n",
       "    <tr>\n",
       "      <th>390</th>\n",
       "      <td>19624</td>\n",
       "      <td>617.850000</td>\n",
       "      <td>137.300000</td>\n",
       "      <td>24.300000</td>\n",
       "      <td>2</td>\n",
       "      <td>0</td>\n",
       "      <td>5</td>\n",
       "      <td>Teacher</td>\n",
       "      <td>59.0</td>\n",
       "      <td>2.0</td>\n",
       "      <td>6.0</td>\n",
       "      <td>40.0</td>\n",
       "      <td>1.0</td>\n",
       "      <td>78.0</td>\n",
       "      <td>162.0</td>\n",
       "      <td>29.7</td>\n",
       "      <td>3.0</td>\n",
       "      <td>School5</td>\n",
       "      <td>Laane</td>\n",
       "      <td>1.0</td>\n",
       "      <td>1.0</td>\n",
       "      <td>1.0</td>\n",
       "    </tr>\n",
       "  </tbody>\n",
       "</table>\n",
       "</div>"
      ],
      "text/plain": [
       "     Subject  Sedentary_min   Light_min  ...  model1  model2  model3\n",
       "690    20135     615.678571  180.428571  ...     1.0     2.0     1.0\n",
       "119    19194     591.468750  238.843750  ...     1.0     1.0     1.0\n",
       "441    19733     671.035714  125.357143  ...     1.0     1.0     1.0\n",
       "502    19842     603.535714  265.464286  ...     1.0     1.0     1.0\n",
       "390    19624     617.850000  137.300000  ...     1.0     1.0     1.0\n",
       "\n",
       "[5 rows x 22 columns]"
      ]
     },
     "execution_count": 171,
     "metadata": {
      "tags": []
     },
     "output_type": "execute_result"
    }
   ],
   "source": [
    "val.head()"
   ]
  },
  {
   "cell_type": "code",
   "execution_count": 172,
   "metadata": {
    "colab": {
     "base_uri": "https://localhost:8080/"
    },
    "id": "e2RHACwaNSqG",
    "outputId": "8ce37435-8bbe-4294-851d-4afffa5a84d4"
   },
   "outputs": [
    {
     "data": {
      "text/plain": [
       "model1\n",
       "1.0       210\n",
       "2.0         3\n",
       "dtype: int64"
      ]
     },
     "execution_count": 172,
     "metadata": {
      "tags": []
     },
     "output_type": "execute_result"
    }
   ],
   "source": [
    "val[['model1']].value_counts()"
   ]
  },
  {
   "cell_type": "code",
   "execution_count": 173,
   "metadata": {
    "colab": {
     "base_uri": "https://localhost:8080/"
    },
    "id": "lUcX6sk7Nvmx",
    "outputId": "715d7d9b-18ff-41da-ca7e-afc5ac6af45f"
   },
   "outputs": [
    {
     "data": {
      "text/plain": [
       "model2\n",
       "1.0       203\n",
       "2.0        10\n",
       "dtype: int64"
      ]
     },
     "execution_count": 173,
     "metadata": {
      "tags": []
     },
     "output_type": "execute_result"
    }
   ],
   "source": [
    "val[['model2']].value_counts()"
   ]
  },
  {
   "cell_type": "code",
   "execution_count": 174,
   "metadata": {
    "colab": {
     "base_uri": "https://localhost:8080/"
    },
    "id": "uRttKa6uNxaF",
    "outputId": "f74f2c0a-ace1-4551-8172-e2ce6f9ffcf2"
   },
   "outputs": [
    {
     "data": {
      "text/plain": [
       "model3\n",
       "1.0       213\n",
       "dtype: int64"
      ]
     },
     "execution_count": 174,
     "metadata": {
      "tags": []
     },
     "output_type": "execute_result"
    }
   ],
   "source": [
    "val[['model3']].value_counts()"
   ]
  },
  {
   "cell_type": "code",
   "execution_count": 175,
   "metadata": {
    "colab": {
     "base_uri": "https://localhost:8080/"
    },
    "id": "i7GvgX4ONzPe",
    "outputId": "d33cd332-fd05-49df-b804-cbea30b9f5b8"
   },
   "outputs": [
    {
     "data": {
      "text/plain": [
       "SatisfactionWithHealth\n",
       "1.0                       174\n",
       "2.0                        37\n",
       "3.0                         2\n",
       "dtype: int64"
      ]
     },
     "execution_count": 175,
     "metadata": {
      "tags": []
     },
     "output_type": "execute_result"
    }
   ],
   "source": [
    "val[['SatisfactionWithHealth']].value_counts()"
   ]
  },
  {
   "cell_type": "code",
   "execution_count": 176,
   "metadata": {
    "colab": {
     "base_uri": "https://localhost:8080/"
    },
    "id": "HiTGmMGpN3kz",
    "outputId": "5902d328-5e1d-45e1-a744-c44c244f1885"
   },
   "outputs": [
    {
     "name": "stderr",
     "output_type": "stream",
     "text": [
      "/usr/local/lib/python3.6/dist-packages/ipykernel_launcher.py:1: SettingWithCopyWarning: \n",
      "A value is trying to be set on a copy of a slice from a DataFrame.\n",
      "Try using .loc[row_indexer,col_indexer] = value instead\n",
      "\n",
      "See the caveats in the documentation: https://pandas.pydata.org/pandas-docs/stable/user_guide/indexing.html#returning-a-view-versus-a-copy\n",
      "  \"\"\"Entry point for launching an IPython kernel.\n"
     ]
    }
   ],
   "source": [
    "val['ensemble'] = val[['model1', 'model2', 'model3']].mode(axis = 1)"
   ]
  },
  {
   "cell_type": "code",
   "execution_count": 177,
   "metadata": {
    "colab": {
     "base_uri": "https://localhost:8080/",
     "height": 224
    },
    "id": "4nWMTsffO2bh",
    "outputId": "dada97dc-2677-4987-8186-2e3daee6ce80"
   },
   "outputs": [
    {
     "data": {
      "text/html": [
       "<div>\n",
       "<style scoped>\n",
       "    .dataframe tbody tr th:only-of-type {\n",
       "        vertical-align: middle;\n",
       "    }\n",
       "\n",
       "    .dataframe tbody tr th {\n",
       "        vertical-align: top;\n",
       "    }\n",
       "\n",
       "    .dataframe thead th {\n",
       "        text-align: right;\n",
       "    }\n",
       "</style>\n",
       "<table border=\"1\" class=\"dataframe\">\n",
       "  <thead>\n",
       "    <tr style=\"text-align: right;\">\n",
       "      <th></th>\n",
       "      <th>Subject</th>\n",
       "      <th>Sedentary_min</th>\n",
       "      <th>Light_min</th>\n",
       "      <th>MVPA_min</th>\n",
       "      <th>N_of_days_with_30minMVPA</th>\n",
       "      <th>N_of_days_with_60minMVPA</th>\n",
       "      <th>N_measurement_days</th>\n",
       "      <th>Profession</th>\n",
       "      <th>Age</th>\n",
       "      <th>Gender</th>\n",
       "      <th>HowOftenDoRecreationalSportAtLeast30min</th>\n",
       "      <th>ActiveTransportPerDay_min</th>\n",
       "      <th>SatisfactionWithHealth</th>\n",
       "      <th>Weight_kg</th>\n",
       "      <th>Height_cm</th>\n",
       "      <th>BMI</th>\n",
       "      <th>SatisfactionWithJob</th>\n",
       "      <th>School</th>\n",
       "      <th>County</th>\n",
       "      <th>model1</th>\n",
       "      <th>model2</th>\n",
       "      <th>model3</th>\n",
       "      <th>ensemble</th>\n",
       "    </tr>\n",
       "  </thead>\n",
       "  <tbody>\n",
       "    <tr>\n",
       "      <th>690</th>\n",
       "      <td>20135</td>\n",
       "      <td>615.678571</td>\n",
       "      <td>180.428571</td>\n",
       "      <td>44.142857</td>\n",
       "      <td>6</td>\n",
       "      <td>2</td>\n",
       "      <td>7</td>\n",
       "      <td>Teacher</td>\n",
       "      <td>59.0</td>\n",
       "      <td>2.0</td>\n",
       "      <td>3.0</td>\n",
       "      <td>0.0</td>\n",
       "      <td>2.0</td>\n",
       "      <td>90.0</td>\n",
       "      <td>163.0</td>\n",
       "      <td>33.9</td>\n",
       "      <td>1.0</td>\n",
       "      <td>School31</td>\n",
       "      <td>Tartu</td>\n",
       "      <td>1.0</td>\n",
       "      <td>2.0</td>\n",
       "      <td>1.0</td>\n",
       "      <td>1.0</td>\n",
       "    </tr>\n",
       "    <tr>\n",
       "      <th>119</th>\n",
       "      <td>19194</td>\n",
       "      <td>591.468750</td>\n",
       "      <td>238.843750</td>\n",
       "      <td>54.343750</td>\n",
       "      <td>5</td>\n",
       "      <td>3</td>\n",
       "      <td>8</td>\n",
       "      <td>Teacher</td>\n",
       "      <td>63.0</td>\n",
       "      <td>2.0</td>\n",
       "      <td>3.0</td>\n",
       "      <td>90.0</td>\n",
       "      <td>1.0</td>\n",
       "      <td>60.0</td>\n",
       "      <td>163.0</td>\n",
       "      <td>22.6</td>\n",
       "      <td>1.0</td>\n",
       "      <td>School16</td>\n",
       "      <td>Harju</td>\n",
       "      <td>1.0</td>\n",
       "      <td>1.0</td>\n",
       "      <td>1.0</td>\n",
       "      <td>1.0</td>\n",
       "    </tr>\n",
       "    <tr>\n",
       "      <th>441</th>\n",
       "      <td>19733</td>\n",
       "      <td>671.035714</td>\n",
       "      <td>125.357143</td>\n",
       "      <td>38.785714</td>\n",
       "      <td>5</td>\n",
       "      <td>1</td>\n",
       "      <td>7</td>\n",
       "      <td>Teacher</td>\n",
       "      <td>24.0</td>\n",
       "      <td>2.0</td>\n",
       "      <td>5.0</td>\n",
       "      <td>20.0</td>\n",
       "      <td>1.0</td>\n",
       "      <td>86.0</td>\n",
       "      <td>170.0</td>\n",
       "      <td>29.8</td>\n",
       "      <td>1.0</td>\n",
       "      <td>School38</td>\n",
       "      <td>TartuCity</td>\n",
       "      <td>1.0</td>\n",
       "      <td>1.0</td>\n",
       "      <td>1.0</td>\n",
       "      <td>1.0</td>\n",
       "    </tr>\n",
       "    <tr>\n",
       "      <th>502</th>\n",
       "      <td>19842</td>\n",
       "      <td>603.535714</td>\n",
       "      <td>265.464286</td>\n",
       "      <td>35.714286</td>\n",
       "      <td>4</td>\n",
       "      <td>0</td>\n",
       "      <td>7</td>\n",
       "      <td>Teacher</td>\n",
       "      <td>41.0</td>\n",
       "      <td>2.0</td>\n",
       "      <td>4.0</td>\n",
       "      <td>0.0</td>\n",
       "      <td>2.0</td>\n",
       "      <td>79.0</td>\n",
       "      <td>168.0</td>\n",
       "      <td>28.0</td>\n",
       "      <td>1.0</td>\n",
       "      <td>School21</td>\n",
       "      <td>Harju</td>\n",
       "      <td>1.0</td>\n",
       "      <td>1.0</td>\n",
       "      <td>1.0</td>\n",
       "      <td>1.0</td>\n",
       "    </tr>\n",
       "    <tr>\n",
       "      <th>390</th>\n",
       "      <td>19624</td>\n",
       "      <td>617.850000</td>\n",
       "      <td>137.300000</td>\n",
       "      <td>24.300000</td>\n",
       "      <td>2</td>\n",
       "      <td>0</td>\n",
       "      <td>5</td>\n",
       "      <td>Teacher</td>\n",
       "      <td>59.0</td>\n",
       "      <td>2.0</td>\n",
       "      <td>6.0</td>\n",
       "      <td>40.0</td>\n",
       "      <td>1.0</td>\n",
       "      <td>78.0</td>\n",
       "      <td>162.0</td>\n",
       "      <td>29.7</td>\n",
       "      <td>3.0</td>\n",
       "      <td>School5</td>\n",
       "      <td>Laane</td>\n",
       "      <td>1.0</td>\n",
       "      <td>1.0</td>\n",
       "      <td>1.0</td>\n",
       "      <td>1.0</td>\n",
       "    </tr>\n",
       "  </tbody>\n",
       "</table>\n",
       "</div>"
      ],
      "text/plain": [
       "     Subject  Sedentary_min   Light_min  ...  model2  model3  ensemble\n",
       "690    20135     615.678571  180.428571  ...     2.0     1.0       1.0\n",
       "119    19194     591.468750  238.843750  ...     1.0     1.0       1.0\n",
       "441    19733     671.035714  125.357143  ...     1.0     1.0       1.0\n",
       "502    19842     603.535714  265.464286  ...     1.0     1.0       1.0\n",
       "390    19624     617.850000  137.300000  ...     1.0     1.0       1.0\n",
       "\n",
       "[5 rows x 23 columns]"
      ]
     },
     "execution_count": 177,
     "metadata": {
      "tags": []
     },
     "output_type": "execute_result"
    }
   ],
   "source": [
    "val.head()"
   ]
  },
  {
   "cell_type": "code",
   "execution_count": 178,
   "metadata": {
    "colab": {
     "base_uri": "https://localhost:8080/"
    },
    "id": "vQPB0CEDO7fD",
    "outputId": "a2500450-ea9d-4a02-a6bf-cd22b246b1a6"
   },
   "outputs": [
    {
     "name": "stdout",
     "output_type": "stream",
     "text": [
      "Accuracy of DT 80.28169014084507%\n",
      "Accuracy of KNN 80.75117370892019%\n",
      "Accuracy of LR 81.69014084507043%\n"
     ]
    }
   ],
   "source": [
    "print(f\"Accuracy of DT {model1.score(X_val, y_val)*100}%\")\n",
    "print(f\"Accuracy of KNN {model2.score(X_val, y_val)*100}%\")\n",
    "print(f\"Accuracy of LR {model3.score(X_val, y_val)*100}%\")"
   ]
  },
  {
   "cell_type": "code",
   "execution_count": 179,
   "metadata": {
    "colab": {
     "base_uri": "https://localhost:8080/"
    },
    "id": "mwvV4qlhPapH",
    "outputId": "b52b590e-6237-4a3c-f215-8dc8964862eb"
   },
   "outputs": [
    {
     "name": "stdout",
     "output_type": "stream",
     "text": [
      "Accuracy of ensemble of DT, NN and LR 81.2206572769953%\n"
     ]
    }
   ],
   "source": [
    "print(f\"Accuracy of ensemble of DT, NN and LR {(np.sum(val['ensemble'] == y_val)/len(val))*100}%\")"
   ]
  },
  {
   "cell_type": "markdown",
   "metadata": {},
   "source": [
    "So, finally, we can say that :\n",
    "- From this data, we can predict someone's job, satisfaction with health and job with ok precision, and were does the subject comes from with a really good precision.\n",
    "- But we can't predict how many days the subject did 30min or 60min of MVPA, or how often he did recreational sports at least 30 min.\n",
    "\n",
    "As said before, these test are really simple, and can't be used for exploitation in real life, but still worth a shot."
   ]
  },
  {
   "cell_type": "code",
   "execution_count": 106,
   "metadata": {
    "colab": {
     "base_uri": "https://localhost:8080/"
    },
    "id": "dQ0ezc4X36wm",
    "outputId": "1b7521fc-43dc-4850-e1a5-ef3afd8b7190"
   },
   "outputs": [
    {
     "name": "stdout",
     "output_type": "stream",
     "text": [
      "Requirement already satisfied: plotnine in /usr/local/lib/python3.6/dist-packages (0.6.0)\n",
      "Requirement already satisfied: numpy>=1.16.0 in /usr/local/lib/python3.6/dist-packages (from plotnine) (1.18.5)\n",
      "Requirement already satisfied: mizani>=0.6.0 in /usr/local/lib/python3.6/dist-packages (from plotnine) (0.6.0)\n",
      "Requirement already satisfied: scipy>=1.2.0 in /usr/local/lib/python3.6/dist-packages (from plotnine) (1.4.1)\n",
      "Requirement already satisfied: matplotlib>=3.1.1 in /usr/local/lib/python3.6/dist-packages (from plotnine) (3.2.2)\n",
      "Requirement already satisfied: pandas>=0.25.0 in /usr/local/lib/python3.6/dist-packages (from plotnine) (1.1.5)\n",
      "Requirement already satisfied: patsy>=0.4.1 in /usr/local/lib/python3.6/dist-packages (from plotnine) (0.5.1)\n",
      "Requirement already satisfied: statsmodels>=0.9.0 in /usr/local/lib/python3.6/dist-packages (from plotnine) (0.10.2)\n",
      "Requirement already satisfied: descartes>=1.1.0 in /usr/local/lib/python3.6/dist-packages (from plotnine) (1.1.0)\n",
      "Requirement already satisfied: palettable in /usr/local/lib/python3.6/dist-packages (from mizani>=0.6.0->plotnine) (3.3.0)\n",
      "Requirement already satisfied: python-dateutil>=2.1 in /usr/local/lib/python3.6/dist-packages (from matplotlib>=3.1.1->plotnine) (2.8.1)\n",
      "Requirement already satisfied: pyparsing!=2.0.4,!=2.1.2,!=2.1.6,>=2.0.1 in /usr/local/lib/python3.6/dist-packages (from matplotlib>=3.1.1->plotnine) (2.4.7)\n",
      "Requirement already satisfied: kiwisolver>=1.0.1 in /usr/local/lib/python3.6/dist-packages (from matplotlib>=3.1.1->plotnine) (1.3.1)\n",
      "Requirement already satisfied: cycler>=0.10 in /usr/local/lib/python3.6/dist-packages (from matplotlib>=3.1.1->plotnine) (0.10.0)\n",
      "Requirement already satisfied: pytz>=2017.2 in /usr/local/lib/python3.6/dist-packages (from pandas>=0.25.0->plotnine) (2018.9)\n",
      "Requirement already satisfied: six in /usr/local/lib/python3.6/dist-packages (from patsy>=0.4.1->plotnine) (1.15.0)\n"
     ]
    }
   ],
   "source": [
    "import numpy as np \n",
    "import pandas as pd\n",
    "import matplotlib.pyplot as plt\n",
    "from sklearn.model_selection import train_test_split\n",
    "\n",
    "# For plotting like a pro\n",
    "!pip install plotnine\n",
    "from plotnine import *\n",
    "\n",
    "# Ready made stuff lives here:\n",
    "import sklearn\n",
    "from sklearn.neighbors import KNeighborsClassifier\n"
   ]
  },
  {
   "cell_type": "markdown",
   "metadata": {
    "id": "R-mJ6F91n0YV"
   },
   "source": [
    "I use dataframe, where Satisfaction with Health is binary (0- Satisfied; 1 - dissatisfied)\n"
   ]
  },
  {
   "cell_type": "code",
   "execution_count": 107,
   "metadata": {
    "colab": {
     "base_uri": "https://localhost:8080/",
     "height": 226
    },
    "id": "Jd-jfhVW4eSX",
    "outputId": "77815326-0dbb-40e6-9822-c1e2a05d7b7e"
   },
   "outputs": [
    {
     "data": {
      "text/html": [
       "<div>\n",
       "<style scoped>\n",
       "    .dataframe tbody tr th:only-of-type {\n",
       "        vertical-align: middle;\n",
       "    }\n",
       "\n",
       "    .dataframe tbody tr th {\n",
       "        vertical-align: top;\n",
       "    }\n",
       "\n",
       "    .dataframe thead th {\n",
       "        text-align: right;\n",
       "    }\n",
       "</style>\n",
       "<table border=\"1\" class=\"dataframe\">\n",
       "  <thead>\n",
       "    <tr style=\"text-align: right;\">\n",
       "      <th></th>\n",
       "      <th>Subject</th>\n",
       "      <th>Sedentary_min</th>\n",
       "      <th>Light_min</th>\n",
       "      <th>MVPA_min</th>\n",
       "      <th>N_of_days_with_30minMVPA</th>\n",
       "      <th>N_of_days_with_60minMVPA</th>\n",
       "      <th>N_measurement_days</th>\n",
       "      <th>Profession</th>\n",
       "      <th>Age</th>\n",
       "      <th>Sex</th>\n",
       "      <th>HowOftenDoRecreationalSportAtLeast30min</th>\n",
       "      <th>ActiveTransportPerDay_min</th>\n",
       "      <th>SatisfactionWithHealth</th>\n",
       "      <th>Weight_kg</th>\n",
       "      <th>Height_cm</th>\n",
       "      <th>BMI</th>\n",
       "      <th>SatisfactionWithJob</th>\n",
       "      <th>School</th>\n",
       "      <th>County</th>\n",
       "    </tr>\n",
       "  </thead>\n",
       "  <tbody>\n",
       "    <tr>\n",
       "      <th>0</th>\n",
       "      <td>19001</td>\n",
       "      <td>777</td>\n",
       "      <td>259</td>\n",
       "      <td>31</td>\n",
       "      <td>2</td>\n",
       "      <td>1</td>\n",
       "      <td>8</td>\n",
       "      <td>Teacher</td>\n",
       "      <td>44.0</td>\n",
       "      <td>2</td>\n",
       "      <td>6.0</td>\n",
       "      <td>20.0</td>\n",
       "      <td>0</td>\n",
       "      <td>77.0</td>\n",
       "      <td>175.0</td>\n",
       "      <td>25.1</td>\n",
       "      <td>1.0</td>\n",
       "      <td>School34</td>\n",
       "      <td>TartuCity</td>\n",
       "    </tr>\n",
       "    <tr>\n",
       "      <th>1</th>\n",
       "      <td>19002</td>\n",
       "      <td>695</td>\n",
       "      <td>223</td>\n",
       "      <td>37</td>\n",
       "      <td>4</td>\n",
       "      <td>2</td>\n",
       "      <td>8</td>\n",
       "      <td>Teacher</td>\n",
       "      <td>53.0</td>\n",
       "      <td>2</td>\n",
       "      <td>1.0</td>\n",
       "      <td>65.0</td>\n",
       "      <td>1</td>\n",
       "      <td>79.0</td>\n",
       "      <td>159.0</td>\n",
       "      <td>31.2</td>\n",
       "      <td>1.0</td>\n",
       "      <td>School34</td>\n",
       "      <td>TartuCity</td>\n",
       "    </tr>\n",
       "    <tr>\n",
       "      <th>2</th>\n",
       "      <td>19004</td>\n",
       "      <td>623</td>\n",
       "      <td>166</td>\n",
       "      <td>128</td>\n",
       "      <td>8</td>\n",
       "      <td>7</td>\n",
       "      <td>8</td>\n",
       "      <td>Administration</td>\n",
       "      <td>56.0</td>\n",
       "      <td>2</td>\n",
       "      <td>1.0</td>\n",
       "      <td>90.0</td>\n",
       "      <td>0</td>\n",
       "      <td>62.0</td>\n",
       "      <td>165.0</td>\n",
       "      <td>22.8</td>\n",
       "      <td>1.0</td>\n",
       "      <td>School34</td>\n",
       "      <td>TartuCity</td>\n",
       "    </tr>\n",
       "    <tr>\n",
       "      <th>3</th>\n",
       "      <td>19005</td>\n",
       "      <td>405</td>\n",
       "      <td>178</td>\n",
       "      <td>25</td>\n",
       "      <td>2</td>\n",
       "      <td>0</td>\n",
       "      <td>3</td>\n",
       "      <td>Teacher</td>\n",
       "      <td>28.0</td>\n",
       "      <td>2</td>\n",
       "      <td>3.0</td>\n",
       "      <td>60.0</td>\n",
       "      <td>0</td>\n",
       "      <td>75.0</td>\n",
       "      <td>176.0</td>\n",
       "      <td>24.2</td>\n",
       "      <td>1.0</td>\n",
       "      <td>School34</td>\n",
       "      <td>TartuCity</td>\n",
       "    </tr>\n",
       "    <tr>\n",
       "      <th>4</th>\n",
       "      <td>19006</td>\n",
       "      <td>615</td>\n",
       "      <td>239</td>\n",
       "      <td>69</td>\n",
       "      <td>7</td>\n",
       "      <td>5</td>\n",
       "      <td>8</td>\n",
       "      <td>Teacher</td>\n",
       "      <td>30.0</td>\n",
       "      <td>2</td>\n",
       "      <td>5.0</td>\n",
       "      <td>60.0</td>\n",
       "      <td>0</td>\n",
       "      <td>80.0</td>\n",
       "      <td>177.0</td>\n",
       "      <td>25.5</td>\n",
       "      <td>1.0</td>\n",
       "      <td>School34</td>\n",
       "      <td>TartuCity</td>\n",
       "    </tr>\n",
       "  </tbody>\n",
       "</table>\n",
       "</div>"
      ],
      "text/plain": [
       "   Subject  Sedentary_min  Light_min  ...  SatisfactionWithJob    School     County\n",
       "0    19001            777        259  ...                  1.0  School34  TartuCity\n",
       "1    19002            695        223  ...                  1.0  School34  TartuCity\n",
       "2    19004            623        166  ...                  1.0  School34  TartuCity\n",
       "3    19005            405        178  ...                  1.0  School34  TartuCity\n",
       "4    19006            615        239  ...                  1.0  School34  TartuCity\n",
       "\n",
       "[5 rows x 19 columns]"
      ]
     },
     "execution_count": 107,
     "metadata": {
      "tags": []
     },
     "output_type": "execute_result"
    }
   ],
   "source": [
    "df = pd.read_csv('ML_database_TeachersAndAdmin_2nerahulolu.csv')\n",
    "df.head()"
   ]
  },
  {
   "cell_type": "code",
   "execution_count": 108,
   "metadata": {
    "id": "mq01HAJONaNc"
   },
   "outputs": [],
   "source": [
    "# As adults should accquire a min of 30 min MVPA per day I calculate the proportion of days with 30minMVPA\n",
    "# This creates a variable which describes whether the subject has health physcial activity levels.\n",
    "df['30minPerc'] = df['N_of_days_with_30minMVPA'] / df ['N_measurement_days']*100"
   ]
  },
  {
   "cell_type": "code",
   "execution_count": 109,
   "metadata": {
    "colab": {
     "base_uri": "https://localhost:8080/",
     "height": 226
    },
    "id": "JI2FLsKTNzTd",
    "outputId": "22877a95-24f6-43e9-d8da-c70d1f1932aa"
   },
   "outputs": [
    {
     "data": {
      "text/html": [
       "<div>\n",
       "<style scoped>\n",
       "    .dataframe tbody tr th:only-of-type {\n",
       "        vertical-align: middle;\n",
       "    }\n",
       "\n",
       "    .dataframe tbody tr th {\n",
       "        vertical-align: top;\n",
       "    }\n",
       "\n",
       "    .dataframe thead th {\n",
       "        text-align: right;\n",
       "    }\n",
       "</style>\n",
       "<table border=\"1\" class=\"dataframe\">\n",
       "  <thead>\n",
       "    <tr style=\"text-align: right;\">\n",
       "      <th></th>\n",
       "      <th>Subject</th>\n",
       "      <th>Sedentary_min</th>\n",
       "      <th>Light_min</th>\n",
       "      <th>MVPA_min</th>\n",
       "      <th>N_of_days_with_30minMVPA</th>\n",
       "      <th>N_of_days_with_60minMVPA</th>\n",
       "      <th>N_measurement_days</th>\n",
       "      <th>Profession</th>\n",
       "      <th>Age</th>\n",
       "      <th>Sex</th>\n",
       "      <th>HowOftenDoRecreationalSportAtLeast30min</th>\n",
       "      <th>ActiveTransportPerDay_min</th>\n",
       "      <th>SatisfactionWithHealth</th>\n",
       "      <th>Weight_kg</th>\n",
       "      <th>Height_cm</th>\n",
       "      <th>BMI</th>\n",
       "      <th>SatisfactionWithJob</th>\n",
       "      <th>School</th>\n",
       "      <th>County</th>\n",
       "      <th>30minPerc</th>\n",
       "    </tr>\n",
       "  </thead>\n",
       "  <tbody>\n",
       "    <tr>\n",
       "      <th>0</th>\n",
       "      <td>19001</td>\n",
       "      <td>777</td>\n",
       "      <td>259</td>\n",
       "      <td>31</td>\n",
       "      <td>2</td>\n",
       "      <td>1</td>\n",
       "      <td>8</td>\n",
       "      <td>Teacher</td>\n",
       "      <td>44.0</td>\n",
       "      <td>2</td>\n",
       "      <td>6.0</td>\n",
       "      <td>20.0</td>\n",
       "      <td>0</td>\n",
       "      <td>77.0</td>\n",
       "      <td>175.0</td>\n",
       "      <td>25.1</td>\n",
       "      <td>1.0</td>\n",
       "      <td>School34</td>\n",
       "      <td>TartuCity</td>\n",
       "      <td>25.000000</td>\n",
       "    </tr>\n",
       "    <tr>\n",
       "      <th>1</th>\n",
       "      <td>19002</td>\n",
       "      <td>695</td>\n",
       "      <td>223</td>\n",
       "      <td>37</td>\n",
       "      <td>4</td>\n",
       "      <td>2</td>\n",
       "      <td>8</td>\n",
       "      <td>Teacher</td>\n",
       "      <td>53.0</td>\n",
       "      <td>2</td>\n",
       "      <td>1.0</td>\n",
       "      <td>65.0</td>\n",
       "      <td>1</td>\n",
       "      <td>79.0</td>\n",
       "      <td>159.0</td>\n",
       "      <td>31.2</td>\n",
       "      <td>1.0</td>\n",
       "      <td>School34</td>\n",
       "      <td>TartuCity</td>\n",
       "      <td>50.000000</td>\n",
       "    </tr>\n",
       "    <tr>\n",
       "      <th>2</th>\n",
       "      <td>19004</td>\n",
       "      <td>623</td>\n",
       "      <td>166</td>\n",
       "      <td>128</td>\n",
       "      <td>8</td>\n",
       "      <td>7</td>\n",
       "      <td>8</td>\n",
       "      <td>Administration</td>\n",
       "      <td>56.0</td>\n",
       "      <td>2</td>\n",
       "      <td>1.0</td>\n",
       "      <td>90.0</td>\n",
       "      <td>0</td>\n",
       "      <td>62.0</td>\n",
       "      <td>165.0</td>\n",
       "      <td>22.8</td>\n",
       "      <td>1.0</td>\n",
       "      <td>School34</td>\n",
       "      <td>TartuCity</td>\n",
       "      <td>100.000000</td>\n",
       "    </tr>\n",
       "    <tr>\n",
       "      <th>3</th>\n",
       "      <td>19005</td>\n",
       "      <td>405</td>\n",
       "      <td>178</td>\n",
       "      <td>25</td>\n",
       "      <td>2</td>\n",
       "      <td>0</td>\n",
       "      <td>3</td>\n",
       "      <td>Teacher</td>\n",
       "      <td>28.0</td>\n",
       "      <td>2</td>\n",
       "      <td>3.0</td>\n",
       "      <td>60.0</td>\n",
       "      <td>0</td>\n",
       "      <td>75.0</td>\n",
       "      <td>176.0</td>\n",
       "      <td>24.2</td>\n",
       "      <td>1.0</td>\n",
       "      <td>School34</td>\n",
       "      <td>TartuCity</td>\n",
       "      <td>66.666667</td>\n",
       "    </tr>\n",
       "    <tr>\n",
       "      <th>4</th>\n",
       "      <td>19006</td>\n",
       "      <td>615</td>\n",
       "      <td>239</td>\n",
       "      <td>69</td>\n",
       "      <td>7</td>\n",
       "      <td>5</td>\n",
       "      <td>8</td>\n",
       "      <td>Teacher</td>\n",
       "      <td>30.0</td>\n",
       "      <td>2</td>\n",
       "      <td>5.0</td>\n",
       "      <td>60.0</td>\n",
       "      <td>0</td>\n",
       "      <td>80.0</td>\n",
       "      <td>177.0</td>\n",
       "      <td>25.5</td>\n",
       "      <td>1.0</td>\n",
       "      <td>School34</td>\n",
       "      <td>TartuCity</td>\n",
       "      <td>87.500000</td>\n",
       "    </tr>\n",
       "  </tbody>\n",
       "</table>\n",
       "</div>"
      ],
      "text/plain": [
       "   Subject  Sedentary_min  Light_min  ...    School     County   30minPerc\n",
       "0    19001            777        259  ...  School34  TartuCity   25.000000\n",
       "1    19002            695        223  ...  School34  TartuCity   50.000000\n",
       "2    19004            623        166  ...  School34  TartuCity  100.000000\n",
       "3    19005            405        178  ...  School34  TartuCity   66.666667\n",
       "4    19006            615        239  ...  School34  TartuCity   87.500000\n",
       "\n",
       "[5 rows x 20 columns]"
      ]
     },
     "execution_count": 109,
     "metadata": {
      "tags": []
     },
     "output_type": "execute_result"
    }
   ],
   "source": [
    "df.head()"
   ]
  },
  {
   "cell_type": "code",
   "execution_count": 110,
   "metadata": {
    "id": "33R0_joYqy-q"
   },
   "outputs": [],
   "source": [
    "#Drop rows with NA\n",
    "df = df.dropna()"
   ]
  },
  {
   "cell_type": "code",
   "execution_count": 111,
   "metadata": {
    "colab": {
     "base_uri": "https://localhost:8080/"
    },
    "id": "h7pV7KBhN_t4",
    "outputId": "7060e91d-a4e0-45f2-dd18-019206d4d8be"
   },
   "outputs": [
    {
     "name": "stdout",
     "output_type": "stream",
     "text": [
      "<class 'pandas.core.frame.DataFrame'>\n",
      "Int64Index: 702 entries, 0 to 853\n",
      "Data columns (total 6 columns):\n",
      " #   Column                     Non-Null Count  Dtype  \n",
      "---  ------                     --------------  -----  \n",
      " 0   Age                        702 non-null    float64\n",
      " 1   Sex                        702 non-null    int64  \n",
      " 2   ActiveTransportPerDay_min  702 non-null    float64\n",
      " 3   BMI                        702 non-null    float64\n",
      " 4   30minPerc                  702 non-null    float64\n",
      " 5   SatisfactionWithHealth     702 non-null    int64  \n",
      "dtypes: float64(4), int64(2)\n",
      "memory usage: 38.4 KB\n"
     ]
    }
   ],
   "source": [
    "# Select variables to analysis\n",
    "# \n",
    "df1 = df[['Age', 'Sex', 'ActiveTransportPerDay_min','BMI','30minPerc', 'SatisfactionWithHealth']]\n",
    "df1.info()"
   ]
  },
  {
   "cell_type": "markdown",
   "metadata": {
    "id": "OWJT7d4URLIP"
   },
   "source": [
    "#### Logistic Regression"
   ]
  },
  {
   "cell_type": "code",
   "execution_count": 112,
   "metadata": {
    "id": "3I5AVya4ROwP"
   },
   "outputs": [],
   "source": [
    "y = df1['SatisfactionWithHealth'].values\n",
    "X = df1.drop(columns = ['SatisfactionWithHealth'])"
   ]
  },
  {
   "cell_type": "code",
   "execution_count": 113,
   "metadata": {
    "id": "Tc90kpRnRplp"
   },
   "outputs": [],
   "source": [
    "X_train, X_test, y_train, y_test = train_test_split(X, y, test_size = 0.4, random_state=0)\n",
    "\n",
    "from sklearn.linear_model import LogisticRegression\n",
    "model = LogisticRegression()\n",
    "result = model.fit(X_train, y_train)\n",
    "\n",
    "from sklearn import metrics\n",
    "prediction_test = model.predict(X_test)"
   ]
  },
  {
   "cell_type": "code",
   "execution_count": 114,
   "metadata": {
    "id": "sHE1TZjGUizG"
   },
   "outputs": [],
   "source": [
    "#Calculate accuracy, AUC, F1_score, precision, recall\n",
    "from sklearn import metrics\n",
    "prediction_test = model.predict(X_test)\n",
    "# Print the prediction accuracy\n",
    "accuracy = model.score(X_test, y_test)\n",
    "\n",
    "y_pred = model.predict(X_test)\n",
    "precision = metrics.precision_score(y_test, y_pred)\n",
    "recall = metrics.recall_score(y_test, y_pred)\n",
    "f1_score = metrics.f1_score(y_test, y_pred)\n",
    "\n",
    "probs = model.predict_proba(X_test)\n",
    "class_1_probs = probs[:,1]\n",
    "fpr, tpr, thresholds = metrics.roc_curve(y_test, class_1_probs)\n",
    "roc_auc = metrics.auc(fpr, tpr)\n"
   ]
  },
  {
   "cell_type": "code",
   "execution_count": 115,
   "metadata": {
    "colab": {
     "base_uri": "https://localhost:8080/",
     "height": 81
    },
    "id": "q2C18SadUoH4",
    "outputId": "55a38567-a0c7-439a-aed4-ff926567305c"
   },
   "outputs": [
    {
     "data": {
      "text/html": [
       "<div>\n",
       "<style scoped>\n",
       "    .dataframe tbody tr th:only-of-type {\n",
       "        vertical-align: middle;\n",
       "    }\n",
       "\n",
       "    .dataframe tbody tr th {\n",
       "        vertical-align: top;\n",
       "    }\n",
       "\n",
       "    .dataframe thead th {\n",
       "        text-align: right;\n",
       "    }\n",
       "</style>\n",
       "<table border=\"1\" class=\"dataframe\">\n",
       "  <thead>\n",
       "    <tr style=\"text-align: right;\">\n",
       "      <th></th>\n",
       "      <th>model</th>\n",
       "      <th>accuracy</th>\n",
       "      <th>auc</th>\n",
       "      <th>f1_score</th>\n",
       "      <th>precision</th>\n",
       "      <th>recall</th>\n",
       "    </tr>\n",
       "  </thead>\n",
       "  <tbody>\n",
       "    <tr>\n",
       "      <th>0</th>\n",
       "      <td>Log reg</td>\n",
       "      <td>0.822064</td>\n",
       "      <td>0.682482</td>\n",
       "      <td>0.107143</td>\n",
       "      <td>0.75</td>\n",
       "      <td>0.057692</td>\n",
       "    </tr>\n",
       "  </tbody>\n",
       "</table>\n",
       "</div>"
      ],
      "text/plain": [
       "     model  accuracy       auc  f1_score  precision    recall\n",
       "0  Log reg  0.822064  0.682482  0.107143       0.75  0.057692"
      ]
     },
     "execution_count": 115,
     "metadata": {
      "tags": []
     },
     "output_type": "execute_result"
    }
   ],
   "source": [
    "results_df = pd.DataFrame(columns=['model', 'accuracy', 'auc', 'f1_score', 'precision', 'recall'])\n",
    "results_df = results_df.append({'model': 'Log reg', 'accuracy': accuracy, 'auc': roc_auc, \n",
    "                                'f1_score': f1_score, 'precision': precision, 'recall': recall}, ignore_index=True)\n",
    "results_df"
   ]
  },
  {
   "cell_type": "markdown",
   "metadata": {
    "id": "qNZW1gDA4d5b"
   },
   "source": [
    "#### KNN (other approach)"
   ]
  },
  {
   "cell_type": "code",
   "execution_count": 116,
   "metadata": {
    "colab": {
     "base_uri": "https://localhost:8080/"
    },
    "id": "TMen-Ct1wxlf",
    "outputId": "8906eba2-9939-4982-c0c1-96d469571a3c"
   },
   "outputs": [
    {
     "data": {
      "text/plain": [
       "0.8113879003558719"
      ]
     },
     "execution_count": 116,
     "metadata": {
      "tags": []
     },
     "output_type": "execute_result"
    }
   ],
   "source": [
    "model = KNeighborsClassifier(n_neighbors = 10)\n",
    "model.fit(X_train, y_train)\n",
    "model.score(X_test, y_test)"
   ]
  },
  {
   "cell_type": "code",
   "execution_count": 117,
   "metadata": {
    "id": "QIQvGNGIko7z"
   },
   "outputs": [],
   "source": [
    "#Calculate accuracy, AUC, F1_score, precision, recall\n",
    "from sklearn import metrics\n",
    "prediction_test = model.predict(X_test)\n",
    "# Print the prediction accuracy\n",
    "accuracy = model.score(X_test, y_test)\n",
    "\n",
    "y_pred = model.predict(X_test)\n",
    "precision = metrics.precision_score(y_test, y_pred)\n",
    "recall = metrics.recall_score(y_test, y_pred)\n",
    "f1_score = metrics.f1_score(y_test, y_pred)\n",
    "\n",
    "probs = model.predict_proba(X_test)\n",
    "class_1_probs = probs[:,1]\n",
    "fpr, tpr, thresholds = metrics.roc_curve(y_test, class_1_probs)\n",
    "roc_auc = metrics.auc(fpr, tpr)\n"
   ]
  },
  {
   "cell_type": "code",
   "execution_count": 118,
   "metadata": {
    "colab": {
     "base_uri": "https://localhost:8080/",
     "height": 112
    },
    "id": "QLDVovCzkgsZ",
    "outputId": "2dd0c0d4-f571-40b9-c326-9fddc2d86b06"
   },
   "outputs": [
    {
     "data": {
      "text/html": [
       "<div>\n",
       "<style scoped>\n",
       "    .dataframe tbody tr th:only-of-type {\n",
       "        vertical-align: middle;\n",
       "    }\n",
       "\n",
       "    .dataframe tbody tr th {\n",
       "        vertical-align: top;\n",
       "    }\n",
       "\n",
       "    .dataframe thead th {\n",
       "        text-align: right;\n",
       "    }\n",
       "</style>\n",
       "<table border=\"1\" class=\"dataframe\">\n",
       "  <thead>\n",
       "    <tr style=\"text-align: right;\">\n",
       "      <th></th>\n",
       "      <th>model</th>\n",
       "      <th>accuracy</th>\n",
       "      <th>auc</th>\n",
       "      <th>f1_score</th>\n",
       "      <th>precision</th>\n",
       "      <th>recall</th>\n",
       "    </tr>\n",
       "  </thead>\n",
       "  <tbody>\n",
       "    <tr>\n",
       "      <th>0</th>\n",
       "      <td>Log reg</td>\n",
       "      <td>0.822064</td>\n",
       "      <td>0.682482</td>\n",
       "      <td>0.107143</td>\n",
       "      <td>0.750000</td>\n",
       "      <td>0.057692</td>\n",
       "    </tr>\n",
       "    <tr>\n",
       "      <th>1</th>\n",
       "      <td>KNN</td>\n",
       "      <td>0.811388</td>\n",
       "      <td>0.530694</td>\n",
       "      <td>0.036364</td>\n",
       "      <td>0.333333</td>\n",
       "      <td>0.019231</td>\n",
       "    </tr>\n",
       "  </tbody>\n",
       "</table>\n",
       "</div>"
      ],
      "text/plain": [
       "     model  accuracy       auc  f1_score  precision    recall\n",
       "0  Log reg  0.822064  0.682482  0.107143   0.750000  0.057692\n",
       "1      KNN  0.811388  0.530694  0.036364   0.333333  0.019231"
      ]
     },
     "execution_count": 118,
     "metadata": {
      "tags": []
     },
     "output_type": "execute_result"
    }
   ],
   "source": [
    "#create table to compare results\n",
    "results_df = results_df.append({'model': 'KNN', 'accuracy': accuracy, 'auc': roc_auc, \n",
    "                                'f1_score': f1_score, 'precision': precision, 'recall': recall}, ignore_index=True)\n",
    "results_df"
   ]
  },
  {
   "cell_type": "markdown",
   "metadata": {
    "id": "4NElfJmXVZe7"
   },
   "source": [
    "#### Random Forest"
   ]
  },
  {
   "cell_type": "code",
   "execution_count": 119,
   "metadata": {
    "colab": {
     "base_uri": "https://localhost:8080/"
    },
    "id": "OafOLuUWVZLa",
    "outputId": "80256e60-5ae6-408b-e4f5-d10c4025117f"
   },
   "outputs": [
    {
     "data": {
      "text/plain": [
       "RandomForestClassifier(bootstrap=True, ccp_alpha=0.0, class_weight=None,\n",
       "                       criterion='gini', max_depth=None, max_features='auto',\n",
       "                       max_leaf_nodes=30, max_samples=None,\n",
       "                       min_impurity_decrease=0.0, min_impurity_split=None,\n",
       "                       min_samples_leaf=1, min_samples_split=2,\n",
       "                       min_weight_fraction_leaf=0.0, n_estimators=1000,\n",
       "                       n_jobs=-1, oob_score=True, random_state=50, verbose=0,\n",
       "                       warm_start=False)"
      ]
     },
     "execution_count": 119,
     "metadata": {
      "tags": []
     },
     "output_type": "execute_result"
    }
   ],
   "source": [
    "#Random forest\n",
    "from sklearn.ensemble import RandomForestClassifier\n",
    "X_train, X_test, y_train, y_test = train_test_split(X, y, test_size=0.4, random_state=0)\n",
    "model_rf = RandomForestClassifier(n_estimators=1000 , oob_score = True, n_jobs = -1,\n",
    "                                  random_state =50, max_features = \"auto\",\n",
    "                                  max_leaf_nodes = 30)\n",
    "model_rf.fit(X_train, y_train)\n"
   ]
  },
  {
   "cell_type": "code",
   "execution_count": 120,
   "metadata": {
    "id": "ktlXS1G7Vdh2"
   },
   "outputs": [],
   "source": [
    "#Calculate accuracy, AUC, F1_score, precision, recall\n",
    "from sklearn import metrics\n",
    "prediction_test = model.predict(X_test)\n",
    "# Print the prediction accuracy\n",
    "accuracy = model.score(X_test, y_test)\n",
    "\n",
    "y_pred = model.predict(X_test)\n",
    "precision = metrics.precision_score(y_test, y_pred)\n",
    "recall = metrics.recall_score(y_test, y_pred)\n",
    "f1_score = metrics.f1_score(y_test, y_pred)\n",
    "\n",
    "probs = model.predict_proba(X_test)\n",
    "class_1_probs = probs[:,1]\n",
    "fpr, tpr, thresholds = metrics.roc_curve(y_test, class_1_probs)\n",
    "roc_auc = metrics.auc(fpr, tpr)"
   ]
  },
  {
   "cell_type": "code",
   "execution_count": 121,
   "metadata": {
    "colab": {
     "base_uri": "https://localhost:8080/",
     "height": 143
    },
    "id": "fGwuscIHVfKe",
    "outputId": "f69faed1-d1de-4c01-cacd-63a27c30ee36"
   },
   "outputs": [
    {
     "data": {
      "text/html": [
       "<div>\n",
       "<style scoped>\n",
       "    .dataframe tbody tr th:only-of-type {\n",
       "        vertical-align: middle;\n",
       "    }\n",
       "\n",
       "    .dataframe tbody tr th {\n",
       "        vertical-align: top;\n",
       "    }\n",
       "\n",
       "    .dataframe thead th {\n",
       "        text-align: right;\n",
       "    }\n",
       "</style>\n",
       "<table border=\"1\" class=\"dataframe\">\n",
       "  <thead>\n",
       "    <tr style=\"text-align: right;\">\n",
       "      <th></th>\n",
       "      <th>model</th>\n",
       "      <th>accuracy</th>\n",
       "      <th>auc</th>\n",
       "      <th>f1_score</th>\n",
       "      <th>precision</th>\n",
       "      <th>recall</th>\n",
       "    </tr>\n",
       "  </thead>\n",
       "  <tbody>\n",
       "    <tr>\n",
       "      <th>0</th>\n",
       "      <td>Log reg</td>\n",
       "      <td>0.822064</td>\n",
       "      <td>0.682482</td>\n",
       "      <td>0.107143</td>\n",
       "      <td>0.750000</td>\n",
       "      <td>0.057692</td>\n",
       "    </tr>\n",
       "    <tr>\n",
       "      <th>1</th>\n",
       "      <td>KNN</td>\n",
       "      <td>0.811388</td>\n",
       "      <td>0.530694</td>\n",
       "      <td>0.036364</td>\n",
       "      <td>0.333333</td>\n",
       "      <td>0.019231</td>\n",
       "    </tr>\n",
       "    <tr>\n",
       "      <th>2</th>\n",
       "      <td>Random Forest</td>\n",
       "      <td>0.811388</td>\n",
       "      <td>0.530694</td>\n",
       "      <td>0.036364</td>\n",
       "      <td>0.333333</td>\n",
       "      <td>0.019231</td>\n",
       "    </tr>\n",
       "  </tbody>\n",
       "</table>\n",
       "</div>"
      ],
      "text/plain": [
       "           model  accuracy       auc  f1_score  precision    recall\n",
       "0        Log reg  0.822064  0.682482  0.107143   0.750000  0.057692\n",
       "1            KNN  0.811388  0.530694  0.036364   0.333333  0.019231\n",
       "2  Random Forest  0.811388  0.530694  0.036364   0.333333  0.019231"
      ]
     },
     "execution_count": 121,
     "metadata": {
      "tags": []
     },
     "output_type": "execute_result"
    }
   ],
   "source": [
    "results_df = results_df.append({'model': 'Random Forest', 'accuracy': accuracy, 'auc': roc_auc, \n",
    "                                'f1_score': f1_score, 'precision': precision, 'recall': recall}, ignore_index=True)\n",
    "results_df"
   ]
  },
  {
   "cell_type": "markdown",
   "metadata": {
    "id": "LH8fDcXrpIeU"
   },
   "source": [
    "#### Oversampling"
   ]
  },
  {
   "cell_type": "code",
   "execution_count": 122,
   "metadata": {
    "id": "PKJ-QUVRO7pQ"
   },
   "outputs": [],
   "source": [
    "#As the majority class is satisfied I try to apply oversampling\n",
    "X_train, X_test, y_train, y_test = train_test_split(X, y, test_size=0.4, random_state=9)\n",
    "y_train = pd.DataFrame(data=y_train, columns=[\"class\"])\n",
    "y_train.reset_index(drop=True, inplace=True)\n",
    "X_train.reset_index(drop=True, inplace=True)\n",
    "# concatenate our training data back together\n",
    "X1 = pd.concat([X_train, y_train], axis=1)"
   ]
  },
  {
   "cell_type": "code",
   "execution_count": 123,
   "metadata": {
    "id": "RlxBzTMCh5Yy"
   },
   "outputs": [],
   "source": [
    "#len(X1['class'])"
   ]
  },
  {
   "cell_type": "code",
   "execution_count": 124,
   "metadata": {
    "id": "66EBkcrTiGKJ"
   },
   "outputs": [],
   "source": [
    "#len(y_train['class'])"
   ]
  },
  {
   "cell_type": "code",
   "execution_count": 125,
   "metadata": {
    "id": "nIAfQDGhifQE"
   },
   "outputs": [],
   "source": [
    "#separate minority and majority classes\n",
    "Satisfied = X1[X1['class'] ==0]\n",
    "Dissatisfied = X1[X1['class'] ==1]"
   ]
  },
  {
   "cell_type": "code",
   "execution_count": 126,
   "metadata": {
    "colab": {
     "base_uri": "https://localhost:8080/"
    },
    "id": "aE9xvBmLpTdh",
    "outputId": "dbec627b-0c8d-4d7d-86a9-0aea0bed38db"
   },
   "outputs": [
    {
     "data": {
      "text/plain": [
       "350"
      ]
     },
     "execution_count": 126,
     "metadata": {
      "tags": []
     },
     "output_type": "execute_result"
    }
   ],
   "source": [
    "len(Satisfied)"
   ]
  },
  {
   "cell_type": "code",
   "execution_count": 127,
   "metadata": {
    "colab": {
     "base_uri": "https://localhost:8080/"
    },
    "id": "7xrflvOzpVt7",
    "outputId": "51ba7f11-f178-47f4-cc4a-ae95f413476a"
   },
   "outputs": [
    {
     "data": {
      "text/plain": [
       "71"
      ]
     },
     "execution_count": 127,
     "metadata": {
      "tags": []
     },
     "output_type": "execute_result"
    }
   ],
   "source": [
    "len(Dissatisfied)"
   ]
  },
  {
   "cell_type": "code",
   "execution_count": 128,
   "metadata": {
    "colab": {
     "base_uri": "https://localhost:8080/"
    },
    "id": "qPTZLE23izS6",
    "outputId": "55e19b39-9f44-41e7-da7e-5848800349ce"
   },
   "outputs": [
    {
     "data": {
      "text/plain": [
       "1    350\n",
       "0    350\n",
       "Name: class, dtype: int64"
      ]
     },
     "execution_count": 128,
     "metadata": {
      "tags": []
     },
     "output_type": "execute_result"
    }
   ],
   "source": [
    "from sklearn.utils import resample\n",
    "Dissatisfied_upsampled = resample(Dissatisfied,\n",
    "                          replace=True, # sample with replacement\n",
    "                          n_samples=len(Satisfied), # match number in majority class\n",
    "                          random_state=27) # reproducible results\n",
    "\n",
    "# combine majority and upsampled minority\n",
    "upsampled = pd.concat([Satisfied, Dissatisfied_upsampled])\n",
    "\n",
    "# check new class counts\n",
    "upsampled['class'].value_counts()\n"
   ]
  },
  {
   "cell_type": "code",
   "execution_count": 129,
   "metadata": {
    "id": "qlYj_a_Rjsrh"
   },
   "outputs": [],
   "source": [
    "y_train = upsampled['class']\n",
    "X_train = upsampled.drop('class', axis=1)"
   ]
  },
  {
   "cell_type": "markdown",
   "metadata": {
    "id": "VVLP_6I1WMb8"
   },
   "source": [
    "##### KNN  (other approach)"
   ]
  },
  {
   "cell_type": "code",
   "execution_count": 130,
   "metadata": {
    "colab": {
     "base_uri": "https://localhost:8080/"
    },
    "id": "vVI8pwEdj3Z8",
    "outputId": "242d8d4a-1a31-4faf-8b3a-c71b6a69cb27"
   },
   "outputs": [
    {
     "data": {
      "text/plain": [
       "0.6120996441281139"
      ]
     },
     "execution_count": 130,
     "metadata": {
      "tags": []
     },
     "output_type": "execute_result"
    }
   ],
   "source": [
    "model = KNeighborsClassifier(n_neighbors = 10)\n",
    "model.fit(X_train, y_train)\n",
    "model.score(X_test, y_test)"
   ]
  },
  {
   "cell_type": "code",
   "execution_count": 131,
   "metadata": {
    "id": "uYz9pgLJpcxS"
   },
   "outputs": [],
   "source": [
    "#Calculate metrics\n",
    "prediction_test = model.predict(X_test)\n",
    "# Print the prediction accuracy\n",
    "accuracy = model.score(X_test, y_test)\n",
    "\n",
    "y_pred = model.predict(X_test)\n",
    "precision = metrics.precision_score(y_test, y_pred)\n",
    "recall = metrics.recall_score(y_test, y_pred)\n",
    "f1_score = metrics.f1_score(y_test, y_pred)\n",
    "\n",
    "probs = model.predict_proba(X_test)\n",
    "class_1_probs = probs[:,1]\n",
    "fpr, tpr, thresholds = metrics.roc_curve(y_test, class_1_probs)\n",
    "roc_auc = metrics.auc(fpr, tpr)\n"
   ]
  },
  {
   "cell_type": "code",
   "execution_count": 132,
   "metadata": {
    "colab": {
     "base_uri": "https://localhost:8080/",
     "height": 175
    },
    "id": "vY_M5tWZph0E",
    "outputId": "808097e7-79e9-4423-adb6-50171a9f51af"
   },
   "outputs": [
    {
     "data": {
      "text/html": [
       "<div>\n",
       "<style scoped>\n",
       "    .dataframe tbody tr th:only-of-type {\n",
       "        vertical-align: middle;\n",
       "    }\n",
       "\n",
       "    .dataframe tbody tr th {\n",
       "        vertical-align: top;\n",
       "    }\n",
       "\n",
       "    .dataframe thead th {\n",
       "        text-align: right;\n",
       "    }\n",
       "</style>\n",
       "<table border=\"1\" class=\"dataframe\">\n",
       "  <thead>\n",
       "    <tr style=\"text-align: right;\">\n",
       "      <th></th>\n",
       "      <th>model</th>\n",
       "      <th>accuracy</th>\n",
       "      <th>auc</th>\n",
       "      <th>f1_score</th>\n",
       "      <th>precision</th>\n",
       "      <th>recall</th>\n",
       "    </tr>\n",
       "  </thead>\n",
       "  <tbody>\n",
       "    <tr>\n",
       "      <th>0</th>\n",
       "      <td>Log reg</td>\n",
       "      <td>0.822064</td>\n",
       "      <td>0.682482</td>\n",
       "      <td>0.107143</td>\n",
       "      <td>0.750000</td>\n",
       "      <td>0.057692</td>\n",
       "    </tr>\n",
       "    <tr>\n",
       "      <th>1</th>\n",
       "      <td>KNN</td>\n",
       "      <td>0.811388</td>\n",
       "      <td>0.530694</td>\n",
       "      <td>0.036364</td>\n",
       "      <td>0.333333</td>\n",
       "      <td>0.019231</td>\n",
       "    </tr>\n",
       "    <tr>\n",
       "      <th>2</th>\n",
       "      <td>Random Forest</td>\n",
       "      <td>0.811388</td>\n",
       "      <td>0.530694</td>\n",
       "      <td>0.036364</td>\n",
       "      <td>0.333333</td>\n",
       "      <td>0.019231</td>\n",
       "    </tr>\n",
       "    <tr>\n",
       "      <th>3</th>\n",
       "      <td>KNN oversampled</td>\n",
       "      <td>0.612100</td>\n",
       "      <td>0.516882</td>\n",
       "      <td>0.305732</td>\n",
       "      <td>0.230769</td>\n",
       "      <td>0.452830</td>\n",
       "    </tr>\n",
       "  </tbody>\n",
       "</table>\n",
       "</div>"
      ],
      "text/plain": [
       "             model  accuracy       auc  f1_score  precision    recall\n",
       "0          Log reg  0.822064  0.682482  0.107143   0.750000  0.057692\n",
       "1              KNN  0.811388  0.530694  0.036364   0.333333  0.019231\n",
       "2    Random Forest  0.811388  0.530694  0.036364   0.333333  0.019231\n",
       "3  KNN oversampled  0.612100  0.516882  0.305732   0.230769  0.452830"
      ]
     },
     "execution_count": 132,
     "metadata": {
      "tags": []
     },
     "output_type": "execute_result"
    }
   ],
   "source": [
    "results_df = results_df.append({'model': 'KNN oversampled', 'accuracy': accuracy, 'auc': roc_auc, \n",
    "                                'f1_score': f1_score, 'precision': precision, 'recall': recall}, ignore_index=True)\n",
    "results_df"
   ]
  },
  {
   "cell_type": "markdown",
   "metadata": {
    "id": "3TZNq3vDWpVD"
   },
   "source": [
    "##### Random forest (other approach)"
   ]
  },
  {
   "cell_type": "code",
   "execution_count": 133,
   "metadata": {
    "colab": {
     "base_uri": "https://localhost:8080/"
    },
    "id": "ozomei6bWrRg",
    "outputId": "1b88b48d-1fb5-4180-b427-d125d04c43a9"
   },
   "outputs": [
    {
     "data": {
      "text/plain": [
       "RandomForestClassifier(bootstrap=True, ccp_alpha=0.0, class_weight=None,\n",
       "                       criterion='gini', max_depth=None, max_features='auto',\n",
       "                       max_leaf_nodes=30, max_samples=None,\n",
       "                       min_impurity_decrease=0.0, min_impurity_split=None,\n",
       "                       min_samples_leaf=1, min_samples_split=2,\n",
       "                       min_weight_fraction_leaf=0.0, n_estimators=1000,\n",
       "                       n_jobs=-1, oob_score=True, random_state=50, verbose=0,\n",
       "                       warm_start=False)"
      ]
     },
     "execution_count": 133,
     "metadata": {
      "tags": []
     },
     "output_type": "execute_result"
    }
   ],
   "source": [
    "from sklearn.ensemble import RandomForestClassifier\n",
    "X_train, X_test, y_train, y_test = train_test_split(X, y, test_size=0.4, random_state=0)\n",
    "model_rf = RandomForestClassifier(n_estimators=1000 , oob_score = True, n_jobs = -1,\n",
    "                                  random_state =50, max_features = \"auto\",\n",
    "                                  max_leaf_nodes = 30)\n",
    "model_rf.fit(X_train, y_train)"
   ]
  },
  {
   "cell_type": "code",
   "execution_count": 134,
   "metadata": {
    "id": "VgUJn4L8WwZX"
   },
   "outputs": [],
   "source": [
    "#Calculate accuracy, AUC, F1_score, precision, recall\n",
    "from sklearn import metrics\n",
    "prediction_test = model.predict(X_test)\n",
    "# Print the prediction accuracy\n",
    "accuracy = model.score(X_test, y_test)\n",
    "\n",
    "y_pred = model.predict(X_test)\n",
    "precision = metrics.precision_score(y_test, y_pred)\n",
    "recall = metrics.recall_score(y_test, y_pred)\n",
    "f1_score = metrics.f1_score(y_test, y_pred)\n",
    "\n",
    "probs = model.predict_proba(X_test)\n",
    "class_1_probs = probs[:,1]\n",
    "fpr, tpr, thresholds = metrics.roc_curve(y_test, class_1_probs)\n",
    "roc_auc = metrics.auc(fpr, tpr)"
   ]
  },
  {
   "cell_type": "code",
   "execution_count": 135,
   "metadata": {
    "colab": {
     "base_uri": "https://localhost:8080/",
     "height": 206
    },
    "id": "o06mXnRbWzJM",
    "outputId": "689b0422-3e24-4520-80de-5b7c31dde3c0"
   },
   "outputs": [
    {
     "data": {
      "text/html": [
       "<div>\n",
       "<style scoped>\n",
       "    .dataframe tbody tr th:only-of-type {\n",
       "        vertical-align: middle;\n",
       "    }\n",
       "\n",
       "    .dataframe tbody tr th {\n",
       "        vertical-align: top;\n",
       "    }\n",
       "\n",
       "    .dataframe thead th {\n",
       "        text-align: right;\n",
       "    }\n",
       "</style>\n",
       "<table border=\"1\" class=\"dataframe\">\n",
       "  <thead>\n",
       "    <tr style=\"text-align: right;\">\n",
       "      <th></th>\n",
       "      <th>model</th>\n",
       "      <th>accuracy</th>\n",
       "      <th>auc</th>\n",
       "      <th>f1_score</th>\n",
       "      <th>precision</th>\n",
       "      <th>recall</th>\n",
       "    </tr>\n",
       "  </thead>\n",
       "  <tbody>\n",
       "    <tr>\n",
       "      <th>0</th>\n",
       "      <td>Log reg</td>\n",
       "      <td>0.822064</td>\n",
       "      <td>0.682482</td>\n",
       "      <td>0.107143</td>\n",
       "      <td>0.750000</td>\n",
       "      <td>0.057692</td>\n",
       "    </tr>\n",
       "    <tr>\n",
       "      <th>1</th>\n",
       "      <td>KNN</td>\n",
       "      <td>0.811388</td>\n",
       "      <td>0.530694</td>\n",
       "      <td>0.036364</td>\n",
       "      <td>0.333333</td>\n",
       "      <td>0.019231</td>\n",
       "    </tr>\n",
       "    <tr>\n",
       "      <th>2</th>\n",
       "      <td>Random Forest</td>\n",
       "      <td>0.811388</td>\n",
       "      <td>0.530694</td>\n",
       "      <td>0.036364</td>\n",
       "      <td>0.333333</td>\n",
       "      <td>0.019231</td>\n",
       "    </tr>\n",
       "    <tr>\n",
       "      <th>3</th>\n",
       "      <td>KNN oversampled</td>\n",
       "      <td>0.612100</td>\n",
       "      <td>0.516882</td>\n",
       "      <td>0.305732</td>\n",
       "      <td>0.230769</td>\n",
       "      <td>0.452830</td>\n",
       "    </tr>\n",
       "    <tr>\n",
       "      <th>4</th>\n",
       "      <td>Random Forest oversampled</td>\n",
       "      <td>0.708185</td>\n",
       "      <td>0.734758</td>\n",
       "      <td>0.460526</td>\n",
       "      <td>0.350000</td>\n",
       "      <td>0.673077</td>\n",
       "    </tr>\n",
       "  </tbody>\n",
       "</table>\n",
       "</div>"
      ],
      "text/plain": [
       "                       model  accuracy       auc  f1_score  precision    recall\n",
       "0                    Log reg  0.822064  0.682482  0.107143   0.750000  0.057692\n",
       "1                        KNN  0.811388  0.530694  0.036364   0.333333  0.019231\n",
       "2              Random Forest  0.811388  0.530694  0.036364   0.333333  0.019231\n",
       "3            KNN oversampled  0.612100  0.516882  0.305732   0.230769  0.452830\n",
       "4  Random Forest oversampled  0.708185  0.734758  0.460526   0.350000  0.673077"
      ]
     },
     "execution_count": 135,
     "metadata": {
      "tags": []
     },
     "output_type": "execute_result"
    }
   ],
   "source": [
    "results_df = results_df.append({'model': 'Random Forest oversampled', 'accuracy': accuracy, 'auc': roc_auc, \n",
    "                                'f1_score': f1_score, 'precision': precision, 'recall': recall}, ignore_index=True)\n",
    "results_df"
   ]
  },
  {
   "cell_type": "markdown",
   "metadata": {
    "id": "ntRnmDxYW5Kv"
   },
   "source": [
    "##### Log reg"
   ]
  },
  {
   "cell_type": "code",
   "execution_count": 136,
   "metadata": {
    "id": "DJiHPeSKW4ij"
   },
   "outputs": [],
   "source": [
    "model = LogisticRegression()\n",
    "result = model.fit(X_train, y_train)\n",
    "prediction_test = model.predict(X_test)"
   ]
  },
  {
   "cell_type": "code",
   "execution_count": 137,
   "metadata": {
    "id": "LWJJDXShW8dN"
   },
   "outputs": [],
   "source": [
    "#Calculate accuracy, AUC, F1_score, precision, recall\n",
    "from sklearn import metrics\n",
    "prediction_test = model.predict(X_test)\n",
    "# Print the prediction accuracy\n",
    "accuracy = model.score(X_test, y_test)\n",
    "\n",
    "y_pred = model.predict(X_test)\n",
    "precision = metrics.precision_score(y_test, y_pred)\n",
    "recall = metrics.recall_score(y_test, y_pred)\n",
    "f1_score = metrics.f1_score(y_test, y_pred)\n",
    "\n",
    "probs = model.predict_proba(X_test)\n",
    "class_1_probs = probs[:,1]\n",
    "fpr, tpr, thresholds = metrics.roc_curve(y_test, class_1_probs)\n",
    "roc_auc = metrics.auc(fpr, tpr)"
   ]
  },
  {
   "cell_type": "code",
   "execution_count": 138,
   "metadata": {
    "colab": {
     "base_uri": "https://localhost:8080/",
     "height": 237
    },
    "id": "aNu5Gop-W9f5",
    "outputId": "ac93b793-f79a-4ade-ac97-1491e1d5ae48"
   },
   "outputs": [
    {
     "data": {
      "text/html": [
       "<div>\n",
       "<style scoped>\n",
       "    .dataframe tbody tr th:only-of-type {\n",
       "        vertical-align: middle;\n",
       "    }\n",
       "\n",
       "    .dataframe tbody tr th {\n",
       "        vertical-align: top;\n",
       "    }\n",
       "\n",
       "    .dataframe thead th {\n",
       "        text-align: right;\n",
       "    }\n",
       "</style>\n",
       "<table border=\"1\" class=\"dataframe\">\n",
       "  <thead>\n",
       "    <tr style=\"text-align: right;\">\n",
       "      <th></th>\n",
       "      <th>model</th>\n",
       "      <th>accuracy</th>\n",
       "      <th>auc</th>\n",
       "      <th>f1_score</th>\n",
       "      <th>precision</th>\n",
       "      <th>recall</th>\n",
       "    </tr>\n",
       "  </thead>\n",
       "  <tbody>\n",
       "    <tr>\n",
       "      <th>0</th>\n",
       "      <td>Log reg</td>\n",
       "      <td>0.822064</td>\n",
       "      <td>0.682482</td>\n",
       "      <td>0.107143</td>\n",
       "      <td>0.750000</td>\n",
       "      <td>0.057692</td>\n",
       "    </tr>\n",
       "    <tr>\n",
       "      <th>1</th>\n",
       "      <td>KNN</td>\n",
       "      <td>0.811388</td>\n",
       "      <td>0.530694</td>\n",
       "      <td>0.036364</td>\n",
       "      <td>0.333333</td>\n",
       "      <td>0.019231</td>\n",
       "    </tr>\n",
       "    <tr>\n",
       "      <th>2</th>\n",
       "      <td>Random Forest</td>\n",
       "      <td>0.811388</td>\n",
       "      <td>0.530694</td>\n",
       "      <td>0.036364</td>\n",
       "      <td>0.333333</td>\n",
       "      <td>0.019231</td>\n",
       "    </tr>\n",
       "    <tr>\n",
       "      <th>3</th>\n",
       "      <td>KNN oversampled</td>\n",
       "      <td>0.612100</td>\n",
       "      <td>0.516882</td>\n",
       "      <td>0.305732</td>\n",
       "      <td>0.230769</td>\n",
       "      <td>0.452830</td>\n",
       "    </tr>\n",
       "    <tr>\n",
       "      <th>4</th>\n",
       "      <td>Random Forest oversampled</td>\n",
       "      <td>0.708185</td>\n",
       "      <td>0.734758</td>\n",
       "      <td>0.460526</td>\n",
       "      <td>0.350000</td>\n",
       "      <td>0.673077</td>\n",
       "    </tr>\n",
       "    <tr>\n",
       "      <th>5</th>\n",
       "      <td>Log reg oversampled</td>\n",
       "      <td>0.822064</td>\n",
       "      <td>0.682482</td>\n",
       "      <td>0.107143</td>\n",
       "      <td>0.750000</td>\n",
       "      <td>0.057692</td>\n",
       "    </tr>\n",
       "  </tbody>\n",
       "</table>\n",
       "</div>"
      ],
      "text/plain": [
       "                       model  accuracy       auc  f1_score  precision    recall\n",
       "0                    Log reg  0.822064  0.682482  0.107143   0.750000  0.057692\n",
       "1                        KNN  0.811388  0.530694  0.036364   0.333333  0.019231\n",
       "2              Random Forest  0.811388  0.530694  0.036364   0.333333  0.019231\n",
       "3            KNN oversampled  0.612100  0.516882  0.305732   0.230769  0.452830\n",
       "4  Random Forest oversampled  0.708185  0.734758  0.460526   0.350000  0.673077\n",
       "5        Log reg oversampled  0.822064  0.682482  0.107143   0.750000  0.057692"
      ]
     },
     "execution_count": 138,
     "metadata": {
      "tags": []
     },
     "output_type": "execute_result"
    }
   ],
   "source": [
    "results_df = results_df.append({'model': 'Log reg oversampled', 'accuracy': accuracy, 'auc': roc_auc, \n",
    "                                'f1_score': f1_score, 'precision': precision, 'recall': recall}, ignore_index=True)\n",
    "results_df"
   ]
  },
  {
   "cell_type": "markdown",
   "metadata": {
    "id": "kOxtbYyHkn9D"
   },
   "source": [
    "The best accuracy and precision is for logistic regression. The best recall values (proportion of true positives) were for oversampled Random forest. "
   ]
  },
  {
   "cell_type": "code",
   "execution_count": null,
   "metadata": {},
   "outputs": [],
   "source": []
  }
 ],
 "metadata": {
  "kernelspec": {
   "display_name": "Python 3",
   "language": "python",
   "name": "python3"
  },
  "language_info": {
   "codemirror_mode": {
    "name": "ipython",
    "version": 3
   },
   "file_extension": ".py",
   "mimetype": "text/x-python",
   "name": "python",
   "nbconvert_exporter": "python",
   "pygments_lexer": "ipython3",
   "version": "3.8.3"
  }
 },
 "nbformat": 4,
 "nbformat_minor": 4
}
